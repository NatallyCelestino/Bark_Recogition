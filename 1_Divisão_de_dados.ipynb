{
  "nbformat": 4,
  "nbformat_minor": 0,
  "metadata": {
    "colab": {
      "provenance": []
    },
    "kernelspec": {
      "name": "python3",
      "display_name": "Python 3"
    },
    "language_info": {
      "name": "python"
    }
  },
  "cells": [
    {
      "cell_type": "markdown",
      "metadata": {
        "id": "V_7hJ3ulctU5"
      },
      "source": [
        "# **Divisão das imagens**"
      ]
    },
    {
      "cell_type": "markdown",
      "metadata": {
        "id": "e8KV-YVBZ6kh"
      },
      "source": [
        "A função \"split_dataset\" itera sobre os arquivos presentes em cada classe e extrai os rótulos de amostra. Em seguida a função \"train_test_split\" é aplicada sobre as amostras dividindo em 80% para treino e 20% para teste. Depois, a função redireciona as imagens para as pastas correspondentes (treino e teste), de acordo com a divisão das amostras."
      ]
    },
    {
      "cell_type": "code",
      "source": [
        "#================================================================================\n",
        "# Bibliotecas necessárias\n",
        "#================================================================================\n",
        "import splitfolders\n",
        "import os, glob\n",
        "import pandas as pd\n"
      ],
      "metadata": {
        "id": "Qq0I0tSygCEI"
      },
      "execution_count": null,
      "outputs": []
    },
    {
      "cell_type": "code",
      "execution_count": null,
      "metadata": {
        "id": "eolQXDoMb4d_"
      },
      "outputs": [],
      "source": [
        "# ============================================================================================================================\n",
        "# Divisão em conjunto de treino e teste (splitfolders) - Garante proporção por classe (80%, 20%) nas partições\n",
        "# ============================================================================================================================\n",
        "\n",
        "def get_split(input, output, ratio):\n",
        "  splitfolders.ratio(input, output=output, seed=42, ratio=ratio, move=False, group_prefix=None)\n",
        "  #print(os.listdir(output))\n",
        "  origin_subfolders = [f'{output}{folder}' for folder in os.listdir(output)]\n",
        "  for sub_dir in origin_subfolders:\n",
        "    print(sub_dir,':', len(os.listdir(sub_dir)), 'Classes')\n",
        "  return\n",
        "\n",
        "#get_split(input = './Amazon_Bark/', output = './Amazon_Bark_Split/', ratio = (.8, .0, .2))"
      ]
    },
    {
      "cell_type": "code",
      "execution_count": null,
      "metadata": {
        "id": "Ul4ARlxJeHFS"
      },
      "outputs": [],
      "source": [
        "get_split(input = './Amazon_Bark/', output = './Amazon_Bark_Split/', ratio = (.8,.0,.2))"
      ]
    },
    {
      "cell_type": "code",
      "execution_count": null,
      "metadata": {
        "id": "bPWUp-NhMaFo"
      },
      "outputs": [],
      "source": [
        "# ============================================================================================================================\n",
        "# Função para identificar cada imagem nos conjuntos: Treino e Teste\n",
        "# ============================================================================================================================\n",
        "def check_image(path_train, path_test):\n",
        "\n",
        "    path = [path_train, path_test]\n",
        "    labels = []\n",
        "\n",
        "    for i in range(len(path)):\n",
        "      #print(path[i])\n",
        "      image = glob.glob(path[i])\n",
        "      #print(image)\n",
        "\n",
        "      for i in image:\n",
        "          filename_path = os.path.splitext(i)[0]\n",
        "          code = os.path.split(filename_path)[-1].split('_')\n",
        "          split = os.path.split(filename_path)[-2].split('/')[2]\n",
        "          filename = os.path.split(i)[1]\n",
        "          label = (filename, split, code[3], code[5], code[1])\n",
        "          labels.append(label)\n",
        "          df = pd.DataFrame(labels, columns=['filename', 'Set', 'Sample', 'Id', 'Class'])\n",
        "\n",
        "      path_split = './Amazon_Bark_Split'\n",
        "\n",
        "      if not os.path.exists(path_split):\n",
        "        os.makedirs(path_split)\n",
        "        print(\"Folder %s created!\" % path_split)\n",
        "      else:\n",
        "        print(\"Folder %s already exists\" % path_split)\n",
        "\n",
        "      df.to_csv(f'{path_split}/filepath.csv',\n",
        "                  index=False, header=True, sep=',', encoding='utf-8')\n",
        "    return(df)\n",
        "\n",
        "check_image(path_train = './Amazon_Bark_Split/train/*/*', path_test = './Amazon_Bark_Split/test/*/*')"
      ]
    }
  ]
}