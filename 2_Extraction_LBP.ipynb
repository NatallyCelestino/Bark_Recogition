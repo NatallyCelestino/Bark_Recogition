{
  "cells": [
    {
      "cell_type": "markdown",
      "metadata": {
        "id": "GBxQ0bYyZfKv"
      },
      "source": [
        "- **Conectando com Google Drive**"
      ]
    },
    {
      "cell_type": "code",
      "execution_count": null,
      "metadata": {
        "id": "K120dYYLqW6e"
      },
      "outputs": [],
      "source": [
        "from google.colab import drive\n",
        "drive.mount('/content/drive')"
      ]
    },
    {
      "cell_type": "markdown",
      "metadata": {
        "id": "qbLiB8bvxcOB"
      },
      "source": [
        "# **1 - Carregar bibliotecas**"
      ]
    },
    {
      "cell_type": "code",
      "execution_count": null,
      "metadata": {
        "id": "BSXdTe3dxaoI"
      },
      "outputs": [],
      "source": [
        "from skimage import io, color                                                    #Módulo para manipulação de imagens\n",
        "from os import listdir\n",
        "from os.path import isfile, join\n",
        "import random\n",
        "from skimage.feature import local_binary_pattern                                 #Módulo para cálculo do LBP\n",
        "import numpy as np                                                               #Módulo para a manipulação de arrays\n",
        "import pandas as pd                                                              #Módulo para a manipulação de dataframes\n",
        "import matplotlib.pyplot as plt                                                  #Módulo para a manipulação de gráficos\n",
        "import seaborn as sns                                                            #Módulo para a manipulação de gráficos\n",
        "import os, glob                                                                  #Módulos para manipular estruturas de diretório\n",
        "import cv2                                                                       #Módulo para manipulação de imagens"
      ]
    },
    {
      "cell_type": "markdown",
      "metadata": {
        "id": "qPssjTKYxuiX"
      },
      "source": [
        "# **2 - Lista de Espécies**\n",
        "\n",
        "O banco de dados possui imagens de casca (Ritidoma) 16 espécies de árvores comercialmente exploradas na Amazônia brasileira:"
      ]
    },
    {
      "cell_type": "code",
      "execution_count": null,
      "metadata": {
        "colab": {
          "base_uri": "https://localhost:8080/",
          "height": 582
        },
        "id": "JrAp3zgKxuMJ",
        "outputId": "464439d8-3b91-4090-f6d7-8090e7b9d603"
      },
      "outputs": [
        {
          "data": {
            "application/vnd.google.colaboratory.intrinsic+json": {
              "summary": "{\n  \"name\": \"pd\",\n  \"rows\": 16,\n  \"fields\": [\n    {\n      \"column\": \"n\",\n      \"properties\": {\n        \"dtype\": \"number\",\n        \"std\": 4,\n        \"min\": 1,\n        \"max\": 16,\n        \"num_unique_values\": 16,\n        \"samples\": [\n          1,\n          2,\n          6\n        ],\n        \"semantic_type\": \"\",\n        \"description\": \"\"\n      }\n    },\n    {\n      \"column\": \"Specie\",\n      \"properties\": {\n        \"dtype\": \"string\",\n        \"num_unique_values\": 16,\n        \"samples\": [\n          \"Apuleia\\u00a0leiocarpa\",\n          \"Astronium\\u00a0lecointei\",\n          \"Dipteryx odorata\"\n        ],\n        \"semantic_type\": \"\",\n        \"description\": \"\"\n      }\n    }\n  ]\n}",
              "type": "dataframe"
            },
            "text/html": [
              "\n",
              "  <div id=\"df-164caab5-7c87-4de4-811b-daaf1caadc41\" class=\"colab-df-container\">\n",
              "    <div>\n",
              "<style scoped>\n",
              "    .dataframe tbody tr th:only-of-type {\n",
              "        vertical-align: middle;\n",
              "    }\n",
              "\n",
              "    .dataframe tbody tr th {\n",
              "        vertical-align: top;\n",
              "    }\n",
              "\n",
              "    .dataframe thead th {\n",
              "        text-align: right;\n",
              "    }\n",
              "</style>\n",
              "<table border=\"1\" class=\"dataframe\">\n",
              "  <thead>\n",
              "    <tr style=\"text-align: right;\">\n",
              "      <th></th>\n",
              "      <th>Specie</th>\n",
              "    </tr>\n",
              "    <tr>\n",
              "      <th>n</th>\n",
              "      <th></th>\n",
              "    </tr>\n",
              "  </thead>\n",
              "  <tbody>\n",
              "    <tr>\n",
              "      <th>1</th>\n",
              "      <td>Apuleia leiocarpa</td>\n",
              "    </tr>\n",
              "    <tr>\n",
              "      <th>2</th>\n",
              "      <td>Astronium lecointei</td>\n",
              "    </tr>\n",
              "    <tr>\n",
              "      <th>3</th>\n",
              "      <td>Bagassa guianensis</td>\n",
              "    </tr>\n",
              "    <tr>\n",
              "      <th>4</th>\n",
              "      <td>Bowdichia nitida</td>\n",
              "    </tr>\n",
              "    <tr>\n",
              "      <th>5</th>\n",
              "      <td>Cedrela odorata</td>\n",
              "    </tr>\n",
              "    <tr>\n",
              "      <th>6</th>\n",
              "      <td>Dipteryx odorata</td>\n",
              "    </tr>\n",
              "    <tr>\n",
              "      <th>7</th>\n",
              "      <td>Erisma uncinatum</td>\n",
              "    </tr>\n",
              "    <tr>\n",
              "      <th>8</th>\n",
              "      <td>Goupia glabra</td>\n",
              "    </tr>\n",
              "    <tr>\n",
              "      <th>9</th>\n",
              "      <td>Hymenolobium heterocarpum</td>\n",
              "    </tr>\n",
              "    <tr>\n",
              "      <th>10</th>\n",
              "      <td>Mezilaurus itauba</td>\n",
              "    </tr>\n",
              "    <tr>\n",
              "      <th>11</th>\n",
              "      <td>Parkia pendula</td>\n",
              "    </tr>\n",
              "    <tr>\n",
              "      <th>12</th>\n",
              "      <td>Protium acrense</td>\n",
              "    </tr>\n",
              "    <tr>\n",
              "      <th>13</th>\n",
              "      <td>Qualea paraensis</td>\n",
              "    </tr>\n",
              "    <tr>\n",
              "      <th>14</th>\n",
              "      <td>Simarouba amara</td>\n",
              "    </tr>\n",
              "    <tr>\n",
              "      <th>15</th>\n",
              "      <td>Trattinnickia glaziovii</td>\n",
              "    </tr>\n",
              "    <tr>\n",
              "      <th>16</th>\n",
              "      <td>Vatairea sericea</td>\n",
              "    </tr>\n",
              "  </tbody>\n",
              "</table>\n",
              "</div>\n",
              "    <div class=\"colab-df-buttons\">\n",
              "\n",
              "  <div class=\"colab-df-container\">\n",
              "    <button class=\"colab-df-convert\" onclick=\"convertToInteractive('df-164caab5-7c87-4de4-811b-daaf1caadc41')\"\n",
              "            title=\"Convert this dataframe to an interactive table.\"\n",
              "            style=\"display:none;\">\n",
              "\n",
              "  <svg xmlns=\"http://www.w3.org/2000/svg\" height=\"24px\" viewBox=\"0 -960 960 960\">\n",
              "    <path d=\"M120-120v-720h720v720H120Zm60-500h600v-160H180v160Zm220 220h160v-160H400v160Zm0 220h160v-160H400v160ZM180-400h160v-160H180v160Zm440 0h160v-160H620v160ZM180-180h160v-160H180v160Zm440 0h160v-160H620v160Z\"/>\n",
              "  </svg>\n",
              "    </button>\n",
              "\n",
              "  <style>\n",
              "    .colab-df-container {\n",
              "      display:flex;\n",
              "      gap: 12px;\n",
              "    }\n",
              "\n",
              "    .colab-df-convert {\n",
              "      background-color: #E8F0FE;\n",
              "      border: none;\n",
              "      border-radius: 50%;\n",
              "      cursor: pointer;\n",
              "      display: none;\n",
              "      fill: #1967D2;\n",
              "      height: 32px;\n",
              "      padding: 0 0 0 0;\n",
              "      width: 32px;\n",
              "    }\n",
              "\n",
              "    .colab-df-convert:hover {\n",
              "      background-color: #E2EBFA;\n",
              "      box-shadow: 0px 1px 2px rgba(60, 64, 67, 0.3), 0px 1px 3px 1px rgba(60, 64, 67, 0.15);\n",
              "      fill: #174EA6;\n",
              "    }\n",
              "\n",
              "    .colab-df-buttons div {\n",
              "      margin-bottom: 4px;\n",
              "    }\n",
              "\n",
              "    [theme=dark] .colab-df-convert {\n",
              "      background-color: #3B4455;\n",
              "      fill: #D2E3FC;\n",
              "    }\n",
              "\n",
              "    [theme=dark] .colab-df-convert:hover {\n",
              "      background-color: #434B5C;\n",
              "      box-shadow: 0px 1px 3px 1px rgba(0, 0, 0, 0.15);\n",
              "      filter: drop-shadow(0px 1px 2px rgba(0, 0, 0, 0.3));\n",
              "      fill: #FFFFFF;\n",
              "    }\n",
              "  </style>\n",
              "\n",
              "    <script>\n",
              "      const buttonEl =\n",
              "        document.querySelector('#df-164caab5-7c87-4de4-811b-daaf1caadc41 button.colab-df-convert');\n",
              "      buttonEl.style.display =\n",
              "        google.colab.kernel.accessAllowed ? 'block' : 'none';\n",
              "\n",
              "      async function convertToInteractive(key) {\n",
              "        const element = document.querySelector('#df-164caab5-7c87-4de4-811b-daaf1caadc41');\n",
              "        const dataTable =\n",
              "          await google.colab.kernel.invokeFunction('convertToInteractive',\n",
              "                                                    [key], {});\n",
              "        if (!dataTable) return;\n",
              "\n",
              "        const docLinkHtml = 'Like what you see? Visit the ' +\n",
              "          '<a target=\"_blank\" href=https://colab.research.google.com/notebooks/data_table.ipynb>data table notebook</a>'\n",
              "          + ' to learn more about interactive tables.';\n",
              "        element.innerHTML = '';\n",
              "        dataTable['output_type'] = 'display_data';\n",
              "        await google.colab.output.renderOutput(dataTable, element);\n",
              "        const docLink = document.createElement('div');\n",
              "        docLink.innerHTML = docLinkHtml;\n",
              "        element.appendChild(docLink);\n",
              "      }\n",
              "    </script>\n",
              "  </div>\n",
              "\n",
              "\n",
              "<div id=\"df-5d9671ab-2b47-4e27-9685-bf25e78ca781\">\n",
              "  <button class=\"colab-df-quickchart\" onclick=\"quickchart('df-5d9671ab-2b47-4e27-9685-bf25e78ca781')\"\n",
              "            title=\"Suggest charts\"\n",
              "            style=\"display:none;\">\n",
              "\n",
              "<svg xmlns=\"http://www.w3.org/2000/svg\" height=\"24px\"viewBox=\"0 0 24 24\"\n",
              "     width=\"24px\">\n",
              "    <g>\n",
              "        <path d=\"M19 3H5c-1.1 0-2 .9-2 2v14c0 1.1.9 2 2 2h14c1.1 0 2-.9 2-2V5c0-1.1-.9-2-2-2zM9 17H7v-7h2v7zm4 0h-2V7h2v10zm4 0h-2v-4h2v4z\"/>\n",
              "    </g>\n",
              "</svg>\n",
              "  </button>\n",
              "\n",
              "<style>\n",
              "  .colab-df-quickchart {\n",
              "      --bg-color: #E8F0FE;\n",
              "      --fill-color: #1967D2;\n",
              "      --hover-bg-color: #E2EBFA;\n",
              "      --hover-fill-color: #174EA6;\n",
              "      --disabled-fill-color: #AAA;\n",
              "      --disabled-bg-color: #DDD;\n",
              "  }\n",
              "\n",
              "  [theme=dark] .colab-df-quickchart {\n",
              "      --bg-color: #3B4455;\n",
              "      --fill-color: #D2E3FC;\n",
              "      --hover-bg-color: #434B5C;\n",
              "      --hover-fill-color: #FFFFFF;\n",
              "      --disabled-bg-color: #3B4455;\n",
              "      --disabled-fill-color: #666;\n",
              "  }\n",
              "\n",
              "  .colab-df-quickchart {\n",
              "    background-color: var(--bg-color);\n",
              "    border: none;\n",
              "    border-radius: 50%;\n",
              "    cursor: pointer;\n",
              "    display: none;\n",
              "    fill: var(--fill-color);\n",
              "    height: 32px;\n",
              "    padding: 0;\n",
              "    width: 32px;\n",
              "  }\n",
              "\n",
              "  .colab-df-quickchart:hover {\n",
              "    background-color: var(--hover-bg-color);\n",
              "    box-shadow: 0 1px 2px rgba(60, 64, 67, 0.3), 0 1px 3px 1px rgba(60, 64, 67, 0.15);\n",
              "    fill: var(--button-hover-fill-color);\n",
              "  }\n",
              "\n",
              "  .colab-df-quickchart-complete:disabled,\n",
              "  .colab-df-quickchart-complete:disabled:hover {\n",
              "    background-color: var(--disabled-bg-color);\n",
              "    fill: var(--disabled-fill-color);\n",
              "    box-shadow: none;\n",
              "  }\n",
              "\n",
              "  .colab-df-spinner {\n",
              "    border: 2px solid var(--fill-color);\n",
              "    border-color: transparent;\n",
              "    border-bottom-color: var(--fill-color);\n",
              "    animation:\n",
              "      spin 1s steps(1) infinite;\n",
              "  }\n",
              "\n",
              "  @keyframes spin {\n",
              "    0% {\n",
              "      border-color: transparent;\n",
              "      border-bottom-color: var(--fill-color);\n",
              "      border-left-color: var(--fill-color);\n",
              "    }\n",
              "    20% {\n",
              "      border-color: transparent;\n",
              "      border-left-color: var(--fill-color);\n",
              "      border-top-color: var(--fill-color);\n",
              "    }\n",
              "    30% {\n",
              "      border-color: transparent;\n",
              "      border-left-color: var(--fill-color);\n",
              "      border-top-color: var(--fill-color);\n",
              "      border-right-color: var(--fill-color);\n",
              "    }\n",
              "    40% {\n",
              "      border-color: transparent;\n",
              "      border-right-color: var(--fill-color);\n",
              "      border-top-color: var(--fill-color);\n",
              "    }\n",
              "    60% {\n",
              "      border-color: transparent;\n",
              "      border-right-color: var(--fill-color);\n",
              "    }\n",
              "    80% {\n",
              "      border-color: transparent;\n",
              "      border-right-color: var(--fill-color);\n",
              "      border-bottom-color: var(--fill-color);\n",
              "    }\n",
              "    90% {\n",
              "      border-color: transparent;\n",
              "      border-bottom-color: var(--fill-color);\n",
              "    }\n",
              "  }\n",
              "</style>\n",
              "\n",
              "  <script>\n",
              "    async function quickchart(key) {\n",
              "      const quickchartButtonEl =\n",
              "        document.querySelector('#' + key + ' button');\n",
              "      quickchartButtonEl.disabled = true;  // To prevent multiple clicks.\n",
              "      quickchartButtonEl.classList.add('colab-df-spinner');\n",
              "      try {\n",
              "        const charts = await google.colab.kernel.invokeFunction(\n",
              "            'suggestCharts', [key], {});\n",
              "      } catch (error) {\n",
              "        console.error('Error during call to suggestCharts:', error);\n",
              "      }\n",
              "      quickchartButtonEl.classList.remove('colab-df-spinner');\n",
              "      quickchartButtonEl.classList.add('colab-df-quickchart-complete');\n",
              "    }\n",
              "    (() => {\n",
              "      let quickchartButtonEl =\n",
              "        document.querySelector('#df-5d9671ab-2b47-4e27-9685-bf25e78ca781 button');\n",
              "      quickchartButtonEl.style.display =\n",
              "        google.colab.kernel.accessAllowed ? 'block' : 'none';\n",
              "    })();\n",
              "  </script>\n",
              "</div>\n",
              "\n",
              "    </div>\n",
              "  </div>\n"
            ],
            "text/plain": [
              "                       Specie\n",
              "n                            \n",
              "1           Apuleia leiocarpa\n",
              "2         Astronium lecointei\n",
              "3          Bagassa guianensis\n",
              "4            Bowdichia nitida\n",
              "5             Cedrela odorata\n",
              "6            Dipteryx odorata\n",
              "7            Erisma uncinatum\n",
              "8               Goupia glabra\n",
              "9   Hymenolobium heterocarpum\n",
              "10          Mezilaurus itauba\n",
              "11             Parkia pendula\n",
              "12            Protium acrense\n",
              "13           Qualea paraensis\n",
              "14            Simarouba amara\n",
              "15    Trattinnickia glaziovii\n",
              "16           Vatairea sericea"
            ]
          },
          "execution_count": 4,
          "metadata": {},
          "output_type": "execute_result"
        }
      ],
      "source": [
        "pd.read_excel('./Class.xlsx', index_col=0)"
      ]
    },
    {
      "cell_type": "markdown",
      "metadata": {
        "id": "2cUVHy7ByDRe"
      },
      "source": [
        "# **3 - Contagem de Espécies e Imagens**"
      ]
    },
    {
      "cell_type": "code",
      "execution_count": null,
      "metadata": {
        "id": "kjE4bmmNyJD-"
      },
      "outputs": [],
      "source": [
        "base = glob.glob('./Amazon_Bark/*/*')\n",
        "especies = glob.glob('./Amazon_Bark/*')\n",
        "\n",
        "# Contagem do número de imagens no banco de dados completo\n",
        "def contagem(caminho):\n",
        "  cont_imgtotal = 0\n",
        "\n",
        "  for filename in base:\n",
        "    if filename.lower().endswith('.jpg'):\n",
        "      cont_imgtotal += 1\n",
        "  return(cont_imgtotal)\n",
        "\n",
        "# Contagem do número espécies do banco de dados\n",
        "def cont_esp(caminho):\n",
        "  cont_sp = 0\n",
        "\n",
        "  for filename in especies:\n",
        "    pastas = os.path.join('.', filename)\n",
        "    #print(pastas)\n",
        "    if os.path.isdir(pastas):\n",
        "      cont_sp += 1\n",
        "  return(cont_sp)"
      ]
    },
    {
      "cell_type": "code",
      "execution_count": null,
      "metadata": {
        "colab": {
          "base_uri": "https://localhost:8080/"
        },
        "id": "dLpuZsq6yPL2",
        "outputId": "7ff4b7cf-4a1e-47c4-a6da-ef51f59cb0bd"
      },
      "outputs": [
        {
          "name": "stdout",
          "output_type": "stream",
          "text": [
            "O total de imagens da base de dados é: 2803\n",
            "O total de espécies é: 16\n"
          ]
        }
      ],
      "source": [
        "total_base = contagem(base)\n",
        "total_sp = cont_esp(especies)\n",
        "print(f'O total de imagens da base de dados é: {total_base}')\n",
        "print(f'O total de espécies é: {total_sp}')"
      ]
    },
    {
      "cell_type": "markdown",
      "metadata": {
        "id": "BubBzfmEyS3s"
      },
      "source": [
        "# **4 - Local Binary Pattern (LBP)**\n",
        "\n",
        "O LBP (Local Binary Pattern) é um descritor de textura muito utilizado em visão computacional.\n",
        "\n",
        "A biblioteca skimage já possui a função **\"local_binary_pattern\"** disponível no módulo **\"feature()\"**.\n",
        "\n",
        "Para aplicar o descritor lbp em imagem devemos seguir os seguintes passos:\n",
        "1. Importar as bibliotecas e funções que serão utilizadas;\n",
        "2. Importar a/as imagem/imagens, que serão submetidas ao algoritmo;\n",
        "3. Definir o tipo (configuração) do lbp que será utilizado:\n",
        "    * Method: 'padrão' (escala de cinzas e não invariante a rotação), 'ror' (escala de cinza e invariante a rotação), 'uniforme' (invariante com padrões uniformes de até duas transições), 'nri_uniforme' (Variante de padrão uniforme que é invariante em escala de cinza, mas não invariante em rotação) e 'var' (medidas de variância invariante de rotação do contraste de local);\n",
        "    * radius: distância entre o pixel central e o vizinho; e\n",
        "    * points: número de pixels vizinhos.\n",
        "4. Aplicar o algoritmo LBP."
      ]
    },
    {
      "cell_type": "markdown",
      "metadata": {
        "id": "AgBHaaeFylk2"
      },
      "source": [
        "## **4.1 - Aplicando LBP em uma imagem**"
      ]
    },
    {
      "cell_type": "code",
      "execution_count": null,
      "metadata": {
        "id": "eu7f00Vtymmt"
      },
      "outputs": [],
      "source": [
        "# Importar imagem convertendo em escala de cinza\n",
        "image1 = io.imread('./Amazon_Bark/01-Apuleia_leiocarpa/NM_01_R_31_I_8.JPG')\n",
        "image1 = cv2.resize(image1, (4000, 3000))\n",
        "imgray = cv2.cvtColor(image1, cv2.COLOR_BGR2GRAY)                                # Converte a imagem para escala de cinza\n",
        "\n",
        "# Definindo tipo de LBP (P,R = 8,1)\n",
        "METHOD = 'nri_uniform'    # (uniform)                                            # Padrão uniforme com até duas transições (0-1, 1-0)\n",
        "radius = 1                                                                       # Distância entre o pixel central e o vizinho\n",
        "n_points = 8                                                                     # Número de pixel vizinhos\n",
        "\n",
        "# Aplicando algoritmo LBP a imagem\n",
        "lbp_img = local_binary_pattern(imgray, n_points, radius, METHOD)\n",
        "# print(lbp_img.flatten())\n",
        "#n_bins = int((lbp_img.max() + 1))                                            # Número de bins do histograma\n",
        "#(hist, bins) = np.histogram(lbp_img.flatten(), bins=n_bins, range=[0, n_bins], density=False)\n",
        "\n",
        "# Plota as imagens: original, escala de cinza e LBP\n",
        "plt.rcParams['figure.figsize'] = [15, 6]\n",
        "plt.subplot(131);plt.imshow(image1)\n",
        "plt.subplot(132);plt.imshow(imgray, cmap='gray')\n",
        "plt.subplot(133);plt.imshow(lbp_img, cmap='gray')\n",
        "plt.show()\n",
        "\n",
        "# Plota os histogramas de cada imagem\n",
        "plt.rcParams['figure.figsize'] = [15, 6]\n",
        "plt.subplot(131);plt.hist(image1.ravel(), bins = int((image1.max()+1)))\n",
        "plt.subplot(132);plt.hist(imgray.ravel(), bins = 256)\n",
        "plt.subplot(133);plt.hist(lbp_img.ravel(), bins = 10, range = (0,10))\n",
        "plt.show()"
      ]
    },
    {
      "cell_type": "markdown",
      "metadata": {
        "id": "8XPRYs9Gy2pP"
      },
      "source": [
        "## **4.2 - Aplicando LBP na base completa**\n",
        "\n",
        "  * Para aplicar o algoritmo LBP a todas as imagens da base de dados, foi criada uma função 'features_extraction_LBP(P, R, Method) em que os parâmetros LBP são repassados de acordo com a configuração desejada;\n",
        "  * Neste script mantivemos apenas os nomes das espécies e as amostras as quais as imagens pertecem, porém, as informações sobre caracteristica botânica, área, dispositivo e número da imagem poderá ser acrescentada futuramente, apenas fazendo referência a posição dessa informação no código."
      ]
    },
    {
      "cell_type": "code",
      "execution_count": null,
      "metadata": {
        "id": "cg2jUP39y3sH"
      },
      "outputs": [],
      "source": [
        "# ================================================================================\n",
        "# Função para extração de características com algoritmo LBP\n",
        "# ================================================================================\n",
        "\n",
        "def feature_extraction_LBP(P, R, METHOD):                                        # P = pontos, R = raio, METHOD = método\n",
        "    data = pd.read_excel('./Class.xlsx')                                         # Tabela com os códigos dos nomes das espécies\n",
        "    imagens = glob.glob('./Amazon_Bark/*/*')                                     # Diretório com imagens\n",
        "\n",
        "    features = []                                                                # Criando listas para armazenar os dados\n",
        "    labels = []\n",
        "    dim = (4000, 3000)\n",
        "\n",
        "    for filename in imagens:                                                     # Para cada imagem no diretório\n",
        "        print(os.path.join('.', filename))\n",
        "        image = io.imread(filename)                                              # carregando imagens\n",
        "        image = cv2.resize(image, dim)                                           # Redimensiona (4000, 3000)\n",
        "        grayscale_image = cv2.cvtColor(image, cv2.COLOR_BGR2GRAY)                # Converte a imagem para escala de cinza\n",
        "\n",
        "        lbp = local_binary_pattern(grayscale_image, P, R, METHOD)                # Aplica o algoritmo LBP\n",
        "\n",
        "        n_bins = int((lbp.max() + 1))                                            # Número de bins do histograma\n",
        "        (hist, bins) = np.histogram(lbp.flatten(), bins=n_bins, range=[0, n_bins], density=False)\n",
        "        features.append(hist)                                                    # Adiciona o histograma a lista de features\n",
        "        #print(features)\n",
        "\n",
        "        filename_parts = os.path.split(filename)[-1].split('_')                  # Separa o nome do arquivo em partes\n",
        "        sp = filename_parts[1]                                                   # Código da espécie\n",
        "        amostra = filename_parts[3]                                              # Número da amostra\n",
        "        label = (sp, amostra)                                                    # Adiciona a espécie e a amostra a lista de labels\n",
        "        labels.append(label)                                                     # Adiciona a lista de labels\n",
        "\n",
        "    df1 = pd.DataFrame(features, columns=[f\"V{str(col)}_{METHOD[0:3]}{P}{R}\" for col in range(len(features[0]))])    # Gerando o dataframe de features nomeando as colunas\n",
        "    #scaler = MinMaxScaler()                                                     # Normalizando os dados\n",
        "    #df1 = pd.DataFrame(scaler.fit_transform(df1), columns=df1.columns)          # Normalizando os dados\n",
        "\n",
        "    df2 = pd.DataFrame(labels, columns=['Class', 'Sample'])                      # Gerando o dataframe de labels\n",
        "    df2['Class'] = df2['Class'].astype(int)                                      # Convertendo os códigos das espécies para inteiro\n",
        "\n",
        "    # Substituição dos nomes das espécies\n",
        "    species_mapping = data.set_index('n')['Specie'].to_dict()\n",
        "    df2['Class'] = df2['Class'].map(species_mapping)\n",
        "\n",
        "    df = pd.concat([df1, df2], axis=1)                                           # Concatenando os dataframes\n",
        "\n",
        "    path = './Output/Features'\n",
        "\n",
        "    if not os.path.exists(path):\n",
        "      os.makedirs(path)\n",
        "      print(\"Folder %s created!\" % path)\n",
        "    else:\n",
        "      print(\"Folder %s already exists\" % path)\n",
        "\n",
        "    df.to_csv(f'{path}/LBP_{METHOD}_{P}{R}.csv',\n",
        "              index=False, header=True, sep=',', encoding='utf-8')\n",
        "\n",
        "    return df"
      ]
    },
    {
      "cell_type": "markdown",
      "metadata": {
        "id": "c1aJtgc9zTEa"
      },
      "source": [
        "### ***4.3.3 - $LBP^{riu2}_{P,R}$ - LBP UNIFORME E INVARIANTE À ROTAÇÃO***"
      ]
    },
    {
      "cell_type": "code",
      "execution_count": null,
      "metadata": {
        "id": "c4Ng7iCgzXPZ"
      },
      "outputs": [],
      "source": [
        "# Extraindo características do LBP Uniforme (3 combinações)\n",
        "\n",
        "#feature_extraction_LBP(P=8, R=1, METHOD='uniform')                               # 10 features\n",
        "#feature_extraction_LBP(P=16, R=2, METHOD='uniform')                               # 18 features\n",
        "#feature_extraction_LBP(P=24, R=3, METHOD='uniform')                               # 26 features"
      ]
    },
    {
      "cell_type": "markdown",
      "metadata": {
        "id": "yqJrJMJYzeI_"
      },
      "source": [
        "### ***4.3.4 - $LBP^{u2}_{P,R}$ - LBP UNIFORME E NÃO INVARIANTE À ROTAÇÃO***"
      ]
    },
    {
      "cell_type": "code",
      "execution_count": null,
      "metadata": {
        "id": "_AfCD6aSzfKX"
      },
      "outputs": [],
      "source": [
        "# Extraindo características do LBP Uniforme e Não Invariante (3 combinações)\n",
        "#feature_extraction_LBP(P=8, R=1, METHOD='nri_uniform')                            # 59 features\n",
        "#feature_extraction_LBP(P=16, R=2, METHOD='nri_uniform')                           # 243 features\n",
        "#feature_extraction_LBP(P=24, R=3, METHOD='nri_uniform')                           # 555 features"
      ]
    }
  ],
  "metadata": {
    "anaconda-cloud": {},
    "colab": {
      "collapsed_sections": [
        "2cUVHy7ByDRe"
      ],
      "machine_shape": "hm",
      "provenance": []
    },
    "kernelspec": {
      "display_name": "Python 3",
      "name": "python3"
    },
    "language_info": {
      "name": "python"
    }
  },
  "nbformat": 4,
  "nbformat_minor": 0
}