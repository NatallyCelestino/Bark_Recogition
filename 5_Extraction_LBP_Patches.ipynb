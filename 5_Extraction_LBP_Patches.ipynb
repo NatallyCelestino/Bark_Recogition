{
  "cells": [
    {
      "cell_type": "markdown",
      "source": [
        "# **Extraindo Características LBP dos patches**"
      ],
      "metadata": {
        "id": "FXpJnqx_VXHu"
      }
    },
    {
      "cell_type": "markdown",
      "metadata": {
        "id": "GBxQ0bYyZfKv"
      },
      "source": [
        "- **Conectando com Google Drive**"
      ]
    },
    {
      "cell_type": "code",
      "execution_count": null,
      "metadata": {
        "id": "K120dYYLqW6e"
      },
      "outputs": [],
      "source": [
        "from google.colab import drive\n",
        "drive.mount('/content/drive')"
      ]
    },
    {
      "cell_type": "markdown",
      "metadata": {
        "id": "qbLiB8bvxcOB"
      },
      "source": [
        "# **1 - Carrega bibliotecas**"
      ]
    },
    {
      "cell_type": "code",
      "execution_count": null,
      "metadata": {
        "id": "BSXdTe3dxaoI"
      },
      "outputs": [],
      "source": [
        "from skimage import io, color                                                    #Módulo para manipulação de imagens\n",
        "from os import listdir\n",
        "from os.path import isfile, join\n",
        "import random\n",
        "from skimage.feature import local_binary_pattern                                 #Módulo para cálculo do LBP\n",
        "from numpy import arange\n",
        "import numpy as np                                                               #Módulo para a manipulação de arrays\n",
        "import pandas as pd                                                              #Módulo para a manipulação de dataframes\n",
        "import matplotlib.pyplot as plt                                                  #Módulo para a manipulação de gráficos\n",
        "import os, glob                                                                  #Módulos para manipular estruturas de diretório\n",
        "import cv2                                                                       #Módulo para manipulação de imagens"
      ]
    },
    {
      "cell_type": "markdown",
      "metadata": {
        "id": "9PAZIA_v3a5-"
      },
      "source": [
        "# **2- Aplicando LBP em Patches**"
      ]
    },
    {
      "cell_type": "code",
      "execution_count": null,
      "metadata": {
        "id": "8mOmq0bFyVHx"
      },
      "outputs": [],
      "source": [
        "PATHDST = './Output_patches' # Diretório para salvar os resultados"
      ]
    },
    {
      "cell_type": "code",
      "execution_count": null,
      "metadata": {
        "id": "wz7mk4KV2qHx"
      },
      "outputs": [],
      "source": [
        "#-----------------------------------------------------------------------------#\n",
        "# Função para extração de características com algoritmo LBP\n",
        "#-----------------------------------------------------------------------------#\n",
        "def feature_extraction_LBP(patches, labels, P, R, METHOD):\n",
        "  features = []\n",
        "  labels_all = []\n",
        "\n",
        "  for i, patch in enumerate(patches):\n",
        "    # Conversão para escala de cinza\n",
        "    grayscale_image = cv2.cvtColor(patch, cv2.COLOR_BGR2GRAY)\n",
        "\n",
        "    lbp = local_binary_pattern(grayscale_image, P, R, METHOD)\n",
        "    n_bins = int((lbp.max() + 1))\n",
        "    hist, bins = np.histogram(lbp.flatten(), bins=n_bins, range=[0, n_bins], density=False)\n",
        "    features.append(hist)\n",
        "\n",
        "  for label in (labels):\n",
        "    filename_parts = label.split('_')\n",
        "    patch = filename_parts[0]\n",
        "    sp = filename_parts[2]\n",
        "    amostra = filename_parts[4]\n",
        "    code = filename_parts[6].split('.')[0]\n",
        "    dev = filename_parts[5]\n",
        "    label = (patch, sp, amostra, code, dev)\n",
        "    labels_all.append(label)\n",
        "\n",
        "  df1 = pd.DataFrame(features, columns=[f\"V{str(col)}_{METHOD[0:3]}{P}{R}\" for col in range(len(features[0]))])\n",
        "  df2 = pd.DataFrame(labels_all, columns=['Patch', 'Class', 'Sample', 'Id', 'Dev'])\n",
        "  df2['Class'] = df2['Class'].astype(int)\n",
        "\n",
        "  # Substituição dos nomes das espécies\n",
        "  data = pd.read_excel('./Class.xlsx')\n",
        "  species_mapping = data.set_index('n')['Specie'].to_dict()\n",
        "  df2['Class'] = df2['Class'].map(species_mapping)\n",
        "\n",
        "  df = pd.concat([df1, df2], axis=1)\n",
        "\n",
        "  path = PATHDST + '/Features'\n",
        "\n",
        "  if not os.path.exists(path):\n",
        "    os.makedirs(path)\n",
        "    print(\"Folder %s created!\" % path)\n",
        "  else:\n",
        "    print(\"Folder %s already exists\" % path)\n",
        "\n",
        "  df.to_csv(f'{path}/LBP_{METHOD}_{P}{R}_Patches.csv', index=False, header=True, sep=',', encoding='utf-8')\n",
        "\n",
        "  return df"
      ]
    },
    {
      "cell_type": "code",
      "execution_count": null,
      "metadata": {
        "id": "_kOCgBlK74kM"
      },
      "outputs": [],
      "source": [
        "#-----------------------------------------------------------------------------#\n",
        "# Carregando array com patches\n",
        "#-----------------------------------------------------------------------------#\n",
        "\n",
        "# Load npz\n",
        "data_train = np.load('./Output_patches/patches_and_labels_train.npz') # Dados de treino\n",
        "data_test = np.load('./Output_patches/patches_and_labels_test.npz') # Dados de teste\n",
        "\n",
        "# # Acessando os dados\n",
        "patches_train = data_train['patches']\n",
        "labels_train = data_train['labels']\n",
        "\n",
        "patches_test = data_test['patches']\n",
        "labels_test = data_test['labels']\n"
      ]
    },
    {
      "cell_type": "markdown",
      "metadata": {
        "id": "c1aJtgc9zTEa"
      },
      "source": [
        "### ***2.1 - $LBP^{riu2}_{P,R}$ - LBP UNIFORME E INVARIANTE À ROTAÇÃO***"
      ]
    },
    {
      "cell_type": "code",
      "execution_count": null,
      "metadata": {
        "id": "c4Ng7iCgzXPZ"
      },
      "outputs": [],
      "source": [
        "# Extraindo características do LBP Uniforme (3 combinações)\n",
        "feature_extraction_LBP(patches = patches_test, labels = labels_test, P=8, R=1, METHOD='uniform')   # 10 features\n",
        "feature_extraction_LBP(patches = patches_test, labels = labels_test, P=16, R=2, METHOD='uniform')  # 18 features\n",
        "feature_extraction_LBP(patches = patches_test, labels = labels_test, P=24, R=3, METHOD='uniform')  # 26 features\n",
        "\n",
        "# feature_extraction_LBP(patches = patches_train, labels = labels_train, P=8, R=1, METHOD='uniform')   # 10 features\n",
        "# feature_extraction_LBP(patches = patches_train, labels = labels_train, P=16, R=2, METHOD='uniform')  # 18 features\n",
        "# feature_extraction_LBP(patches = patches_train, labels = labels_train, P=24, R=3, METHOD='uniform')  # 26 features"
      ]
    },
    {
      "cell_type": "markdown",
      "metadata": {
        "id": "yqJrJMJYzeI_"
      },
      "source": [
        "### ***2.2 - $LBP^{u2}_{P,R}$ - LBP UNIFORME E NÃO INVARIANTE À ROTAÇÃO***"
      ]
    },
    {
      "cell_type": "code",
      "execution_count": null,
      "metadata": {
        "id": "_AfCD6aSzfKX"
      },
      "outputs": [],
      "source": [
        "# Extraindo características do LBP Uniforme e Não Invariante (3 combinações)\n",
        "feature_extraction_LBP(patches = patches_test, labels = labels_test, P=8, R=1, METHOD='nri_uniform')   # 59 features\n",
        "feature_extraction_LBP(patches = patches_test, labels = labels_test, P=16, R=2, METHOD='nri_uniform')  # 243 features\n",
        "feature_extraction_LBP(patches = patches_test, labels = labels_test, P=24, R=3, METHOD='nri_uniform')  # 555 features\n",
        "\n",
        "# feature_extraction_LBP(patches = patches_train, labels = labels_train, P=8, R=1, METHOD='nri_uniform')   # 59 features\n",
        "# feature_extraction_LBP(patches = patches_train, labels = labels_train, P=16, R=2, METHOD='nri_uniform')  # 243 features\n",
        "# feature_extraction_LBP(patches = patches_train, labels = labels_train, P=24, R=3, METHOD='nri_uniform')  # 555 features"
      ]
    }
  ],
  "metadata": {
    "colab": {
      "machine_shape": "hm",
      "provenance": [],
      "gpuType": "T4"
    },
    "kernelspec": {
      "display_name": "Python 3",
      "name": "python3"
    },
    "language_info": {
      "name": "python"
    },
    "accelerator": "GPU"
  },
  "nbformat": 4,
  "nbformat_minor": 0
}