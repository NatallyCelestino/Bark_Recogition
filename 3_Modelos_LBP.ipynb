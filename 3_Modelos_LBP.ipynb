{
  "cells": [
    {
      "cell_type": "markdown",
      "metadata": {
        "id": "GBxQ0bYyZfKv"
      },
      "source": [
        "- **Conectando com Google Drive**"
      ]
    },
    {
      "cell_type": "code",
      "execution_count": null,
      "metadata": {
        "id": "K120dYYLqW6e"
      },
      "outputs": [],
      "source": [
        "from google.colab import drive\n",
        "drive.mount('/content/drive')"
      ]
    },
    {
      "cell_type": "markdown",
      "metadata": {
        "id": "qbLiB8bvxcOB"
      },
      "source": [
        "# **1 - Carrega bibliotecas**"
      ]
    },
    {
      "cell_type": "code",
      "source": [
        "#!pip install scikit-learn --upgrade                                              # caso seja necessário atualizar a versão\n",
        "import sklearn\n",
        "sklearn.__version__"
      ],
      "metadata": {
        "id": "fjT-CXSnzr9l"
      },
      "execution_count": null,
      "outputs": []
    },
    {
      "cell_type": "code",
      "execution_count": null,
      "metadata": {
        "id": "BSXdTe3dxaoI"
      },
      "outputs": [],
      "source": [
        "from skimage import io, color                                                    #Módulo para manipulação de imagens\n",
        "from os import listdir\n",
        "import os, glob                                                                  #Módulos para manipular estruturas de diretório\n",
        "from os.path import isfile, join\n",
        "import numpy as np                                                               #Módulo para a manipulação de arrays\n",
        "import pandas as pd                                                              #Módulo para a manipulação de dataframes\n",
        "import matplotlib.pyplot as plt                                                  #Módulo para a manipulação de gráficos\n",
        "import random\n",
        "import pickle\n",
        "from scipy.stats import uniform, randint\n",
        "from sklearn.discriminant_analysis import LinearDiscriminantAnalysis\n",
        "from numpy import arange\n",
        "from sklearn.ensemble import RandomForestClassifier\n",
        "from sklearn.preprocessing import  StandardScaler                                # Normalização Min-Max e Padronização\n",
        "from sklearn.preprocessing import LabelEncoder\n",
        "import cv2                                                                       #Módulo para manipulação de imagens\n",
        "from sklearn.model_selection import train_test_split                             #Módulo para divisão de dados em treino e teste\n",
        "from sklearn.svm import SVC                                                      #Módulo para a aplicação do SVM\n",
        "from sklearn.neural_network import MLPClassifier                                 #Módulo para a aplicação do MLP\n",
        "from sklearn. model_selection import StratifiedGroupKFold                        #Módulo para a aplicação do K-Fold estratificado\n",
        "from sklearn.metrics import confusion_matrix, classification_report              #Módulo para a aplicação da matriz de confusão\n",
        "from sklearn.metrics import ConfusionMatrixDisplay                               #Módulo para a aplicação da matriz de confusão\n",
        "from sklearn.metrics import accuracy_score, precision_score, recall_score, f1_score  #Métricas\n",
        "from sklearn.model_selection import RandomizedSearchCV                           #Módulo para a aplicação do Random Search\n",
        "from sklearn.metrics import make_scorer                                          #Módulo para a aplicação do Grid Search\n",
        "import joblib                                                                    #Módulo para salvar o modelo"
      ]
    },
    {
      "cell_type": "markdown",
      "metadata": {
        "id": "Fb86QkLfdohU"
      },
      "source": [
        "# **2 - Modelos de Classificação**\n",
        "\n",
        "* Para a classificação, 4 algoritmos de Machine Learning serão empregados: **Suport Vector Machine - SVM**, **Random Forest - RF**, **Artificial Neural Networks - ANN** e **Linear Discriminant Analysis - LDA**. A implementação será realizada por meio da biblioteca Scikit-Learn que possui módulos específicos para cada algoritmo."
      ]
    },
    {
      "cell_type": "markdown",
      "metadata": {
        "id": "ZatXweOmj9Df"
      },
      "source": [
        "## **2.1 - Importando os conjunto de dados (Características extraídas)**\n",
        "\n"
      ]
    },
    {
      "cell_type": "code",
      "execution_count": null,
      "metadata": {
        "id": "1hxQtA9yCdb6"
      },
      "outputs": [],
      "source": [
        "# ================================================================================\n",
        "# Importando todos os conjunto de dados - treino e teste\n",
        "# ================================================================================\n",
        "\n",
        "# Dados de treinamento\n",
        "data_train = pd.concat((pd.read_csv(f, sep=',', encoding='utf-8') for f in glob.glob(\"./Output/Features_LBP/train/*.csv\")), axis = 1)\n",
        "data_train = data_train.loc[:, ~data_train.columns.duplicated()]                                                         # Elimina as colunas duplicadas\n",
        "data_train = data_train[ ['Class', \"Sample\"] + [ col for col in data_train.columns if col not in ['Class', \"Sample\"] ]]  # Reordena as colunas\n",
        "print(data_train.shape)\n",
        "display(data_train)\n",
        "\n",
        "# Dados de test\n",
        "data_test = pd.concat((pd.read_csv(f, sep=',', encoding='utf-8') for f in glob.glob(\"./Output/Features_LBP/test/*.csv\")), axis = 1)\n",
        "data_test = data_test.loc[:, ~data_test.columns.duplicated()]                                                         # Elimina as colunas duplicadas\n",
        "data_test = data_test[ ['Class', \"Sample\"] + [ col for col in data_test.columns if col not in ['Class', \"Sample\"] ]]  # Reordena as colunas\n",
        "print(data_test.shape)\n",
        "#display(data_test)\n"
      ]
    },
    {
      "cell_type": "code",
      "execution_count": null,
      "metadata": {
        "id": "rxW7u6q2jCgP"
      },
      "outputs": [],
      "source": [
        "# ================================================================================\n",
        "# Informações sobre o conjunto de dados\n",
        "# ================================================================================\n",
        "#train\n",
        "print(f'Número de variáveis dos dados: {data_train.shape[1]}')\n",
        "print(f'Número de amostras: {data_train.shape[0]}')\n",
        "print(f'Número de espécies: {data_train[\"Class\"].nunique()}')\n",
        "print('---'*12)\n",
        "print(f'Número de imagens por: {data_train.groupby(\"Class\").size()}')"
      ]
    },
    {
      "cell_type": "markdown",
      "metadata": {
        "id": "D7bkbI_rja6P"
      },
      "source": [
        "## **2.2 - Divisão de variáveis**\n",
        "\n"
      ]
    },
    {
      "cell_type": "code",
      "execution_count": null,
      "metadata": {
        "id": "3nLTSGMZoy4D"
      },
      "outputs": [],
      "source": [
        "# ================================================================================\n",
        "# Divisão de variáveis\n",
        "# ================================================================================\n",
        "#Train\n",
        "X_train = data_train.filter(regex = '_')                                          # Separando os atributos\n",
        "y_train = data_train.filter(items = [['Class', 'Sample']])                        # Separando as classes                                                  # Separando as amostras\n",
        "\n",
        "#Test\n",
        "X_test = data_test.filter(regex = '_')                                            # Separando os atributos\n",
        "y_test = data_test.filter(items = ['Class', \"Sample\"])                            # Separando as classes\n",
        "\n",
        "print(\"x_train shape:\", X_train.shape, \"y_train shape:\", y_train.shape)\n",
        "print(\"x_test shape:\", X_test.shape, \"y_test shape:\", y_test.shape)\n",
        "display(X_test)"
      ]
    },
    {
      "cell_type": "markdown",
      "metadata": {
        "id": "2afbgeO3oV-p"
      },
      "source": [
        "## **2.3 - Normalização Z-score**\n",
        "\n",
        "Deve-se normalizar/padronizar os dados para evitar o **'vazamento de dados'**, pois a normalização daria ao modelo informações adicionais sobre o conjunto de teste se normalizássemos todos os dados de uma vez."
      ]
    },
    {
      "cell_type": "code",
      "execution_count": null,
      "metadata": {
        "id": "whgyFKdwoSqP"
      },
      "outputs": [],
      "source": [
        "# ================================================================================\n",
        "# Normalização Z-score\n",
        "# ================================================================================\n",
        "\n",
        "scaler = StandardScaler()\n",
        "X_train = pd.DataFrame(scaler.fit_transform(X_train), columns = X_train.columns)\n",
        "X_test = pd.DataFrame(scaler.transform(X_test), columns = X_test.columns)\n",
        "#display(X_train)\n",
        "display(X_test)\n",
        "\n"
      ]
    },
    {
      "cell_type": "markdown",
      "metadata": {
        "id": "O-D6wxBnUpUy"
      },
      "source": [
        "## **2.4 - Treinando os classificadores**"
      ]
    },
    {
      "cell_type": "markdown",
      "metadata": {
        "id": "R2q9EpuAR45v"
      },
      "source": [
        "### **2.4.1 - Separa as features extraídas por cada operador**"
      ]
    },
    {
      "cell_type": "code",
      "execution_count": null,
      "metadata": {
        "id": "0k9CXOlnMY8f"
      },
      "outputs": [],
      "source": [
        "# ================================================================================\n",
        "# Separa as features extraídas por cada operador (LBP)- Conjunto de Treino\n",
        "# ================================================================================\n",
        "\n",
        "y_train[\"Class\"]\n",
        "\n",
        "# Features: Local Binary Pattern\n",
        "X_train_u = X_train.filter(like = 'uni')            # LBP Uniforme (3 combinações) (54 features)\n",
        "X_train_u81 = X_train.filter(regex = 'uni81')       # LBP Uniforme (P = 8, R = 1)  (10 features)\n",
        "X_train_u162 = X_train.filter(regex = 'uni162')     # LBP Uniforme (P = 16, R = 2) (18 features)\n",
        "X_train_u243 = X_train.filter(regex = 'uni243')     # LBP Uniforme (P = 24, R = 3) (26 features)\n",
        "\n",
        "X_train_nri = X_train.filter(like = 'nri')           # LBP NRI (3 combinações) (857 features)\n",
        "X_train_nri81 = X_train.filter(regex = 'nri81')      # LBP NRI (P = 8, R = 1)  (59 features)\n",
        "X_train_nri162 = X_train.filter(regex = 'nri162')    # LBP NRI (P = 16, R = 2) (243 features)\n",
        "X_train_nri243 = X_train.filter(regex = 'nri243')    # LBP NRI (P = 24, R = 3) (555 features)\n",
        "\n",
        "X_train_unri = X_train.filter(regex = r'uni|nri')     # LBP Uniforme e LBP NRI (857 + 54 = 911)"
      ]
    },
    {
      "cell_type": "code",
      "execution_count": null,
      "metadata": {
        "id": "j__FwWEya4mD"
      },
      "outputs": [],
      "source": [
        "# ================================================================================\n",
        "# Separa as features extraídas por cada operador (LBP) - Conjunto de Teste\n",
        "# ================================================================================\n",
        "\n",
        "y_test[\"Class\"]\n",
        "\n",
        "# Features: Local Binary Pattern\n",
        "X_test_u = X_test.filter(like = 'uni')            # LBP Uniforme (3 combinações) (54 features)\n",
        "X_test_u81 = X_test.filter(regex = 'uni81')       # LBP Uniforme (P = 8, R = 1)  (10 features)\n",
        "X_test_u162 = X_test.filter(regex = 'uni162')     # LBP Uniforme (P = 16, R = 2) (18 features)\n",
        "X_test_u243 = X_test.filter(regex = 'uni243')     # LBP Uniforme (P = 24, R = 3) (26 features)\n",
        "\n",
        "X_test_nri = X_test.filter(like = 'nri')           # LBP NRI (3 combinações) (857 features)\n",
        "X_test_nri81 = X_test.filter(regex = 'nri81')      # LBP NRI (P = 8, R = 1)  (59 features)\n",
        "X_test_nri162 = X_test.filter(regex = 'nri162')    # LBP NRI (P = 16, R = 2) (243 features)\n",
        "X_test_nri243 = X_test.filter(regex = 'nri243')    # LBP NRI (P = 24, R = 3) (555 features)\n",
        "X_test_unri = X_test.filter(regex = r'uni|nri') # LBP Uniforme e LBP NRI (857 + 54 = 911)\n"
      ]
    },
    {
      "cell_type": "markdown",
      "metadata": {
        "id": "_T4bCkxYWIRO"
      },
      "source": [
        "### **2.4.2 - Configuraçoes de treinamento** (Todos os modelos)"
      ]
    },
    {
      "cell_type": "code",
      "execution_count": null,
      "metadata": {
        "id": "bc0Pm0bzlfdR"
      },
      "outputs": [],
      "source": [
        "# ================================================================================\n",
        "# Configurações do treinamento\n",
        "# ================================================================================\n",
        "\n",
        "# Define Stratified Group 10-fold cross-validation\n",
        "cv = StratifiedGroupKFold(n_splits = 5)\n",
        "\n",
        "# Define as métricas de desempenho\n",
        "metrics = {'accuracy' : make_scorer(accuracy_score),\n",
        "           'precision' : make_scorer(precision_score, average = 'weighted'),\n",
        "           'recall' : make_scorer(recall_score, average = 'weighted'),\n",
        "           'f1_score' : make_scorer(f1_score, average = 'weighted')}\n",
        "\n",
        "# Extrair matrizes de confusão da validação cruzada\n",
        "def cm_cv(search, X, Y, Z, name = ''):\n",
        "\n",
        "  for i, (train_index, test_index) in enumerate(cv.split(X, Y, Z)):\n",
        "      X_train, X_test = X.iloc[train_index], X.iloc[test_index]\n",
        "      y_train, y_test = Y.iloc[train_index], Y.iloc[test_index]\n",
        "      z_train, z_test = Z.iloc[train_index], Z.iloc[test_index]\n",
        "\n",
        "      # Treinando o melhor modelo encontrado pelo GridSearchCV\n",
        "      best_model = search.best_estimator_\n",
        "      best_model.fit(X_train, y_train)\n",
        "\n",
        "      # Predizendo classes no conjunto de teste\n",
        "      y_pred = best_model.predict(X_test)\n",
        "\n",
        "      # Calculando matriz de confusão\n",
        "      cm = confusion_matrix(y_test, y_pred)\n",
        "\n",
        "      # Imprimindo matriz de confusão\n",
        "      #print(f\"Matriz de confusão para a fold {i+1}:\")\n",
        "\n",
        "      # Calcula estatística\n",
        "      ac_w = accuracy_score(y_true = y_test, y_pred = y_pred)\n",
        "      p_w = precision_score(y_true = y_test, y_pred = y_pred, average='weighted')\n",
        "      r_w = recall_score(y_true = y_test, y_pred = y_pred, average='weighted')\n",
        "      f1_w = f1_score(y_true = y_test, y_pred = y_pred, average='weighted')\n",
        "\n",
        "      # Plotar matriz de confusão utilizando ConfusionMatrixDisplay\n",
        "      disp = ConfusionMatrixDisplay(confusion_matrix= cm, display_labels=np.unique(Y))\n",
        "      disp.plot(cmap = 'Blues', xticks_rotation = 90, colorbar = False)   # Greys, Purples, Blues, Greens, BuGn, GnBu\n",
        "      disp.ax_.set_title(f'CM-fold {i+1}\\n (Accuracy: {ac_w:.4f}, Precision: {p_w:.4f}, Recall: {r_w:.4f}, F1-score: {f1_w:.4f})',\n",
        "                         fontsize=10)\n",
        "      disp.ax_.set_xlabel('Predito', fontsize=10, style='normal', fontweight = 'bold')\n",
        "      disp.ax_.set_ylabel(\"Observado\", fontsize=10, style='normal', fontweight = 'bold')\n",
        "      plt.yticks(style='italic')\n",
        "      plt.xticks(style='italic')\n",
        "      disp.ax_.xaxis.set_tick_params(labelsize=10)\n",
        "      disp.ax_.yaxis.set_tick_params(labelsize=10)\n",
        "      plt.savefig(f'./Output/CM_LBP/cm-fold_{i+1}_{name}', dpi = 800, bbox_inches='tight')\n",
        "      plt.show()\n",
        "  return"
      ]
    },
    {
      "cell_type": "markdown",
      "metadata": {
        "id": "b0w1CcyDk9gQ"
      },
      "source": [
        "### **2.4.3 - Suporte Vector Classifier - SVC**"
      ]
    },
    {
      "cell_type": "code",
      "execution_count": null,
      "metadata": {
        "id": "5JWy1s3tohhO"
      },
      "outputs": [],
      "source": [
        "# ================================================================================\n",
        "# Definições do estimador SVC\n",
        "# ================================================================================\n",
        "# SVC().get_params()\n",
        "\n",
        "# Define o modelo\n",
        "model_svc = SVC(decision_function_shape = 'ovo', probability = True)"
      ]
    },
    {
      "cell_type": "markdown",
      "metadata": {
        "id": "Ub6t6EIiqvts"
      },
      "source": [
        "#### **Modelo C1**: Usando features LBP Uniforme (P = 8, R = 1)"
      ]
    },
    {
      "cell_type": "code",
      "execution_count": null,
      "metadata": {
        "id": "SGCFJ60dozoE"
      },
      "outputs": [],
      "source": [
        "# ================================================================================\n",
        "# Ajuste de Hiperparâmetros (Hyperparameter tuning) - RandomizedSearchCV()\n",
        "# ================================================================================\n",
        "\n",
        "param_grid = {\n",
        "    'C': uniform(loc = 0.1, scale = 10).rvs(size = 20, random_state = 10),             # Uniform distribution between 0.1 and 10\n",
        "    'kernel': ['linear', 'rbf', 'poly', 'sigmoid'],\n",
        "    'degree': [2, 3, 4],\n",
        "    'gamma': ['scale', 'auto'] + list(np.logspace(-9, 3, 13))\n",
        "}\n",
        "\n",
        "# Create the RandomizedSearchCV object\n",
        "rs_u81_svc = RandomizedSearchCV(estimator = model_svc, param_distributions = param_grid,\n",
        "                                 scoring = metrics, cv = cv, refit = 'accuracy',\n",
        "                                 verbose = 3, return_train_score = False, n_iter = 20)\n",
        "\n",
        "rs_u81_svc.fit(X_train_u81, y_train['Class'], groups = y_train['Sample'])\n",
        "\n",
        "# Salvar modelo\n",
        "pickle.dump(rs_u81_svc, open(f'./Output/Models_LBP/SVC/rs_u81_svc.pickle', \"wb\"))\n",
        "joblib.dump(rs_u81_svc, f'./Output/Models_LBP/SVC/rs_u81_svc.joblib')\n",
        "\n",
        "print(f'Os melhores parâmetros foram: {rs_u81_svc.best_params_}')\n",
        "print(f'A melhor acurácia foi de: {rs_u81_svc.best_score_:.4f}')\n",
        "print(f'O melhor modelo foi: {rs_u81_svc.best_estimator_}')"
      ]
    },
    {
      "cell_type": "code",
      "execution_count": null,
      "metadata": {
        "id": "PJx0EiWxwLAh"
      },
      "outputs": [],
      "source": [
        "# ================================================================================\n",
        "# Desempenho na Validação Cruzada (Stratified Group 5-fold cross-validation)\n",
        "# ================================================================================\n",
        "#rs_svc = pickle.load(open('./Output/Models/rs_svc.pickle', \"rb\"))               # carrega o modelo da pasta\n",
        "res1_rs_u81_svc = pd.DataFrame(rs_u81_svc.cv_results_).filter(regex = r'(params|test)').sort_values(by=[\"rank_test_accuracy\"])\n",
        "\n",
        "accf1_rs_u81_svc = res1_rs_u81_svc.iloc[0].filter(regex = r'(accuracy|f1)').filter(regex = 'split')\n",
        "min_acc_u81_svc = accf1_rs_u81_svc.filter(regex = 'accuracy').min()\n",
        "max_acc_u81_svc = accf1_rs_u81_svc.filter(regex = 'accuracy').max()\n",
        "min_f1_u81_svc = accf1_rs_u81_svc.filter(regex = 'f1').min()\n",
        "max_f1_u81_svc = accf1_rs_u81_svc.filter(regex = 'f1').max()\n",
        "\n",
        "print(f'Acurácia min: {min_acc_u81_svc:.6f}')\n",
        "print(f'Acurácia max: {max_acc_u81_svc:.6f}')\n",
        "print(f'F1 min: {min_f1_u81_svc:.6f}')\n",
        "print(f'F1 max: {max_f1_u81_svc:.6f}')\n",
        "\n",
        "res2_rs_u81_svc = res1_rs_u81_svc.filter(regex = r'(mean|std|params)')\n",
        "display(res2_rs_u81_svc.iloc[0])"
      ]
    },
    {
      "cell_type": "code",
      "execution_count": null,
      "metadata": {
        "id": "4lDZYmK3GPuz"
      },
      "outputs": [],
      "source": [
        "# ================================================================================\n",
        "# Matriz de Confusão - Validação Cruzada - 5 folds\n",
        "# ================================================================================\n",
        "cm_cv(rs_u81_svc, X_train_u81, y_train['Class'], y_train['Sample'], name = 'rs_u81_svc')"
      ]
    },
    {
      "cell_type": "code",
      "execution_count": null,
      "metadata": {
        "id": "ww4Dj0LW2JGL"
      },
      "outputs": [],
      "source": [
        "# ================================================================================\n",
        "# Desempenho no conjunto de teste (n = 566)\n",
        "# ================================================================================\n",
        "y_pred_rs_u81_svc = rs_u81_svc.predict(X_test_u81)\n",
        "accuracy_rs_u81_svc = accuracy_score(y_test[\"Class\"], y_pred_rs_u81_svc)\n",
        "f1_rs_u81_svc = f1_score(y_test[\"Class\"], y_pred_rs_u81_svc, average = 'weighted')\n",
        "print(f\"Best SVC Accuracy: {accuracy_rs_u81_svc:.6f}\")\n",
        "print(f\"Best SVC F1: {f1_rs_u81_svc:.6f}\")"
      ]
    },
    {
      "cell_type": "code",
      "execution_count": null,
      "metadata": {
        "id": "d-00YtgHEjx5"
      },
      "outputs": [],
      "source": [
        "# ================================================================================\n",
        "# Matriz de Confusão - conjunto de teste (n = 566)\n",
        "# ================================================================================\n",
        "\n",
        "cm_rs_u81_svc = confusion_matrix(y_test['Class'], y_pred_rs_u81_svc)\n",
        "disp_rs_u81_svc = ConfusionMatrixDisplay(confusion_matrix = cm_rs_u81_svc, display_labels = rs_u81_svc.classes_)\n",
        "disp_rs_u81_svc.plot(cmap = 'Blues', xticks_rotation = 90)\n",
        "disp_rs_u81_svc.ax_.set_xlabel('Predito', fontsize=10, style='normal', fontweight = 'bold')\n",
        "disp_rs_u81_svc.ax_.set_ylabel(\"Observado\", fontsize=10, style='normal', fontweight = 'bold')\n",
        "disp_rs_u81_svc.ax_.xaxis.set_tick_params(labelsize=10)\n",
        "disp_rs_u81_svc.ax_.yaxis.set_tick_params(labelsize=10)\n",
        "plt.yticks(style='italic')\n",
        "plt.xticks(style='italic')\n",
        "\n",
        "plt.savefig(f'./Output/CM_LBP/cm_teste_u81_svc', dpi = 600, bbox_inches='tight')\n",
        "plt.show()"
      ]
    },
    {
      "cell_type": "code",
      "execution_count": null,
      "metadata": {
        "id": "7_kP-a0tF4IJ"
      },
      "outputs": [],
      "source": [
        "# ================================================================================\n",
        "# Relatório de classificação (Conjunto de teste)\n",
        "# ================================================================================\n",
        "print(classification_report(y_test['Class'], y_pred_rs_u81_svc, target_names= rs_u81_svc.classes_))"
      ]
    },
    {
      "cell_type": "markdown",
      "metadata": {
        "id": "5Fk7FiYreEvR"
      },
      "source": [
        "#### **Modelo C2**: Usando features LBP Uniforme (P = 16, R = 2)"
      ]
    },
    {
      "cell_type": "code",
      "execution_count": null,
      "metadata": {
        "id": "nkXaZXXxeWmT"
      },
      "outputs": [],
      "source": [
        "# ================================================================================\n",
        "# Ajuste de Hiperparâmetros (Hyperparameter tuning) - RandomizedSearchCV()\n",
        "# ================================================================================\n",
        "\n",
        "param_grid = {\n",
        "    'C': uniform(loc = 0.1, scale = 10).rvs(size = 20, random_state = 10),             # Uniform distribution between 0.1 and 10\n",
        "    'kernel': ['linear', 'rbf', 'poly', 'sigmoid'],\n",
        "    'degree': [2, 3, 4],\n",
        "    'gamma': ['scale', 'auto'] + list(np.logspace(-9, 3, 13))\n",
        "}\n",
        "\n",
        "# Create the RandomizedSearchCV object\n",
        "rs_u162_svc = RandomizedSearchCV(estimator = model_svc, param_distributions = param_grid,\n",
        "                                 scoring = metrics, cv = cv, refit = 'accuracy',\n",
        "                                 verbose = 3, return_train_score = False, n_iter = 20)\n",
        "\n",
        "rs_u162_svc.fit(X_train_u162, y_train['Class'], groups = y_train['Sample'])\n",
        "\n",
        "# Salvar modelo\n",
        "pickle.dump(rs_u162_svc, open(f'./Output/Models_LBP/SVC/rs_u162_svc.pickle', \"wb\"))\n",
        "joblib.dump(rs_u162_svc, f'./Output/Models_LBP/SVC/rs_u162_svc.joblib')\n",
        "\n",
        "\n",
        "print(f'Os melhores parâmetros foram: {rs_u162_svc.best_params_}')\n",
        "print(f'A melhor acurácia foi de: {rs_u162_svc.best_score_:.4f}')\n",
        "print(f'O melhor modelo foi: {rs_u162_svc.best_estimator_}')"
      ]
    },
    {
      "cell_type": "code",
      "execution_count": null,
      "metadata": {
        "id": "KvT2nEWneWYg"
      },
      "outputs": [],
      "source": [
        "# ================================================================================\n",
        "# Desempenho na Validação Cruzada (Stratified Group 5-fold cross-validation)\n",
        "# ================================================================================\n",
        "#rs_svc = pickle.load(open('./Output/Models/rs_svc.pickle', \"rb\"))\n",
        "res1_rs_u162_svc = pd.DataFrame(rs_u162_svc.cv_results_).filter(regex = r'(params|test)').sort_values(by=[\"rank_test_accuracy\"])\n",
        "\n",
        "accf1_rs_u162_svc = res1_rs_u162_svc.iloc[0].filter(regex = r'(accuracy|f1)').filter(regex = 'split')\n",
        "min_acc_u162_svc = accf1_rs_u162_svc.filter(regex = 'accuracy').min()\n",
        "max_acc_u162_svc = accf1_rs_u162_svc.filter(regex = 'accuracy').max()\n",
        "min_f1_u162_svc = accf1_rs_u162_svc.filter(regex = 'f1').min()\n",
        "max_f1_u162_svc = accf1_rs_u162_svc.filter(regex = 'f1').max()\n",
        "\n",
        "print(f'Acurácia min: {min_acc_u162_svc:.6f}')\n",
        "print(f'Acurácia max: {max_acc_u162_svc:.6f}')\n",
        "print(f'F1 min: {min_f1_u162_svc:.6f}')\n",
        "print(f'F1 max: {max_f1_u162_svc:.6f}')\n",
        "\n",
        "res2_rs_u162_svc = res1_rs_u162_svc.filter(regex = r'(mean|std|params)')\n",
        "display(res2_rs_u162_svc.iloc[0])\n",
        "#display(res2_rs_svc[:1])"
      ]
    },
    {
      "cell_type": "code",
      "execution_count": null,
      "metadata": {
        "id": "9bcN4pRlfwDD"
      },
      "outputs": [],
      "source": [
        "# ================================================================================\n",
        "# Matriz de Confusão - Validação Cruzada\n",
        "# ================================================================================\n",
        "cm_cv(rs_u162_svc, X_train_u162, y_train['Class'], y_train['Sample'], name = 'rs_u162_svc')"
      ]
    },
    {
      "cell_type": "code",
      "execution_count": null,
      "metadata": {
        "id": "h6WZv6jnfv1r"
      },
      "outputs": [],
      "source": [
        "# ================================================================================\n",
        "# Desempenho no conjunto de teste (n = 566)\n",
        "# ================================================================================\n",
        "y_pred_rs_u162_svc = rs_u162_svc.predict(X_test_u162)\n",
        "accuracy_rs_u162_svc = accuracy_score(y_test[\"Class\"], y_pred_rs_u162_svc)\n",
        "f1_rs_u162_svc = f1_score(y_test[\"Class\"], y_pred_rs_u162_svc, average = 'weighted')\n",
        "print(f\"Best SVC Accuracy: {accuracy_rs_u162_svc:.6f}\")\n",
        "print(f\"Best SVC F1: {f1_rs_u162_svc:.6f}\")"
      ]
    },
    {
      "cell_type": "code",
      "execution_count": null,
      "metadata": {
        "id": "j-vt9J_zgHjH"
      },
      "outputs": [],
      "source": [
        "# ================================================================================\n",
        "# Matriz de Confusão - conjunto de teste (n = 566)\n",
        "# ================================================================================\n",
        "\n",
        "cm_rs_u162_svc = confusion_matrix(y_test['Class'], y_pred_rs_u162_svc)\n",
        "disp_rs_u162_svc = ConfusionMatrixDisplay(confusion_matrix = cm_rs_u162_svc, display_labels = rs_u162_svc.classes_)\n",
        "disp_rs_u162_svc.plot(cmap = 'Blues', xticks_rotation = 90)\n",
        "disp_rs_u162_svc.ax_.set_xlabel('Predito', fontsize=10, style='normal', fontweight = 'bold')\n",
        "disp_rs_u162_svc.ax_.set_ylabel(\"Observado\", fontsize=10, style='normal', fontweight = 'bold')\n",
        "disp_rs_u162_svc.ax_.xaxis.set_tick_params(labelsize=10)\n",
        "disp_rs_u162_svc.ax_.yaxis.set_tick_params(labelsize=10)\n",
        "plt.yticks(style='italic')\n",
        "plt.xticks(style='italic')\n",
        "\n",
        "plt.savefig(f'./Output/CM_LBP/cm_teste_u162_svc', dpi = 600, bbox_inches='tight')\n",
        "plt.show()"
      ]
    },
    {
      "cell_type": "code",
      "execution_count": null,
      "metadata": {
        "id": "8I_TqQQ5gRz9"
      },
      "outputs": [],
      "source": [
        "# ================================================================================\n",
        "# Relatório de classificação (Conjunto de teste)\n",
        "# ================================================================================\n",
        "print(classification_report(y_test['Class'], y_pred_rs_u162_svc, target_names= rs_u162_svc.classes_))"
      ]
    },
    {
      "cell_type": "markdown",
      "metadata": {
        "id": "zOTRWhRWlUWG"
      },
      "source": [
        "#### **Modelo C3**: Usando features LBP Uniforme (P = 24, R = 3)"
      ]
    },
    {
      "cell_type": "code",
      "execution_count": null,
      "metadata": {
        "id": "ehStKLYmlb0t"
      },
      "outputs": [],
      "source": [
        "# ================================================================================\n",
        "# Ajuste de Hiperparâmetros (Hyperparameter tuning) - RandomizedSearchCV()\n",
        "# ================================================================================\n",
        "\n",
        "param_grid = {\n",
        "    'C': uniform(loc = 0.1, scale = 10).rvs(size = 20, random_state = 10),             # Uniform distribution between 0.1 and 10\n",
        "    'kernel': ['linear', 'rbf', 'poly', 'sigmoid'],\n",
        "    'degree': [2, 3, 4],\n",
        "    'gamma': ['scale', 'auto'] + list(np.logspace(-9, 3, 13))\n",
        "}\n",
        "\n",
        "# Create the RandomizedSearchCV object\n",
        "rs_u243_svc = RandomizedSearchCV(estimator = model_svc, param_distributions = param_grid,\n",
        "                                 scoring = metrics, cv = cv, refit = 'accuracy',\n",
        "                                 verbose = 3, return_train_score = False, n_iter = 20)\n",
        "\n",
        "rs_u243_svc.fit(X_train_u243, y_train['Class'], groups = y_train['Sample'])\n",
        "\n",
        "pickle.dump(rs_u243_svc, open(f'./Output/Models_LBP/SVC/rs_u243_svc.pickle', \"wb\"))\n",
        "joblib.dump(rs_u243_svc, f'./Output/Models_LBP/SVC/rs_u243_svc.joblib')\n",
        "\n",
        "print(f'Os melhores parâmetros foram: {rs_u243_svc.best_params_}')\n",
        "print(f'A melhor acurácia foi de: {rs_u243_svc.best_score_:.4f}')\n",
        "print(f'O melhor modelo foi: {rs_u243_svc.best_estimator_}')"
      ]
    },
    {
      "cell_type": "code",
      "execution_count": null,
      "metadata": {
        "id": "Kl5IHLVglboJ"
      },
      "outputs": [],
      "source": [
        "# ================================================================================\n",
        "# Desempenho na Validação Cruzada (Stratified Group 5-fold cross-validation)\n",
        "# ================================================================================\n",
        "#rs_svc = pickle.load(open('./Output/Models/rs_svc.pickle', \"rb\"))\n",
        "res1_rs_u243_svc = pd.DataFrame(rs_u243_svc.cv_results_).filter(regex = r'(params|test)').sort_values(by=[\"rank_test_accuracy\"])\n",
        "\n",
        "accf1_rs_u243_svc = res1_rs_u243_svc.iloc[0].filter(regex = r'(accuracy|f1)').filter(regex = 'split')\n",
        "min_acc_u243_svc = accf1_rs_u243_svc.filter(regex = 'accuracy').min()\n",
        "max_acc_u243_svc = accf1_rs_u243_svc.filter(regex = 'accuracy').max()\n",
        "min_f1_u243_svc = accf1_rs_u243_svc.filter(regex = 'f1').min()\n",
        "max_f1_u243_svc = accf1_rs_u243_svc.filter(regex = 'f1').max()\n",
        "\n",
        "print(f'Acurácia min: {min_acc_u243_svc:.6f}')\n",
        "print(f'Acurácia max: {max_acc_u243_svc:.6f}')\n",
        "print(f'F1 min: {min_f1_u243_svc:.6f}')\n",
        "print(f'F1 max: {max_f1_u243_svc:.6f}')\n",
        "\n",
        "res2_rs_u243_svc = res1_rs_u243_svc.filter(regex = r'(mean|std|params)')\n",
        "display(res2_rs_u243_svc.iloc[0])\n",
        "#display(res2_rs_svc[:1])"
      ]
    },
    {
      "cell_type": "code",
      "execution_count": null,
      "metadata": {
        "id": "gcMz_nCulbbt"
      },
      "outputs": [],
      "source": [
        "# ================================================================================\n",
        "# Matriz de Confusão - Validação Cruzada\n",
        "# ================================================================================\n",
        "cm_cv(rs_u243_svc, X_train_u243, y_train['Class'], y_train['Sample'], name = 'rs_u243_svc')"
      ]
    },
    {
      "cell_type": "code",
      "execution_count": null,
      "metadata": {
        "id": "qDssAXk3lbOq"
      },
      "outputs": [],
      "source": [
        "# ================================================================================\n",
        "# Desempenho no conjunto de teste (n = 566)\n",
        "# ================================================================================\n",
        "y_pred_rs_u243_svc = rs_u243_svc.predict(X_test_u243)\n",
        "accuracy_rs_u243_svc = accuracy_score(y_test[\"Class\"], y_pred_rs_u243_svc)\n",
        "f1_rs_u243_svc = f1_score(y_test[\"Class\"], y_pred_rs_u243_svc, average = 'weighted')\n",
        "print(f\"Best SVC Accuracy: {accuracy_rs_u243_svc:.6f}\")\n",
        "print(f\"Best SVC F1: {f1_rs_u243_svc:.6f}\")"
      ]
    },
    {
      "cell_type": "code",
      "execution_count": null,
      "metadata": {
        "id": "KR5JJwpmlbDd"
      },
      "outputs": [],
      "source": [
        "# ================================================================================\n",
        "# Matriz de Confusão - conjunto de teste (n = 566)\n",
        "# ================================================================================\n",
        "\n",
        "cm_rs_u243_svc = confusion_matrix(y_test['Class'], y_pred_rs_u243_svc)\n",
        "disp_rs_u243_svc = ConfusionMatrixDisplay(confusion_matrix = cm_rs_u243_svc, display_labels = rs_u243_svc.classes_)\n",
        "disp_rs_u243_svc.plot(cmap = 'Blues', xticks_rotation = 90)\n",
        "disp_rs_u243_svc.ax_.set_xlabel('Predito', fontsize=10, style='normal', fontweight = 'bold')\n",
        "disp_rs_u243_svc.ax_.set_ylabel(\"Observado\", fontsize=10, style='normal', fontweight = 'bold')\n",
        "disp_rs_u243_svc.ax_.xaxis.set_tick_params(labelsize=10)\n",
        "disp_rs_u243_svc.ax_.yaxis.set_tick_params(labelsize=10)\n",
        "plt.yticks(style='italic')\n",
        "plt.xticks(style='italic')\n",
        "\n",
        "plt.savefig(f'./Output/CM_LBP/cm_teste_u243_svc', dpi = 600, bbox_inches='tight')\n",
        "plt.show()"
      ]
    },
    {
      "cell_type": "code",
      "execution_count": null,
      "metadata": {
        "id": "WRADqsixla3G"
      },
      "outputs": [],
      "source": [
        "# ================================================================================\n",
        "# Relatório de classificação (Conjunto de teste)\n",
        "# ================================================================================\n",
        "print(classification_report(y_test['Class'], y_pred_rs_u243_svc, target_names= rs_u243_svc.classes_))"
      ]
    },
    {
      "cell_type": "markdown",
      "metadata": {
        "id": "DjsaGYjHxCvo"
      },
      "source": [
        "#### **Modelo C4**: Usando features LBP Uniforme (Todos)"
      ]
    },
    {
      "cell_type": "code",
      "execution_count": null,
      "metadata": {
        "id": "ij3luSN7xasb"
      },
      "outputs": [],
      "source": [
        "# ================================================================================\n",
        "# Ajuste de Hiperparâmetros (Hyperparameter tuning) - RandomizedSearchCV()\n",
        "# ================================================================================\n",
        "\n",
        "param_grid = {\n",
        "    'C': uniform(loc = 0.1, scale = 10).rvs(size = 20, random_state = 10),             # Uniform distribution between 0.1 and 10\n",
        "    'kernel': ['linear', 'rbf', 'poly', 'sigmoid'],\n",
        "    'degree': [2, 3, 4],\n",
        "    'gamma': ['scale', 'auto'] + list(np.logspace(-9, 3, 13))\n",
        "}\n",
        "\n",
        "# Create the RandomizedSearchCV object\n",
        "rs_uni_svc = RandomizedSearchCV(estimator = model_svc, param_distributions = param_grid,\n",
        "                                 scoring = metrics, cv = cv, refit = 'accuracy',\n",
        "                                 verbose = 3, return_train_score = False, n_iter = 20)\n",
        "\n",
        "rs_uni_svc.fit(X_train_u, y_train['Class'], groups = y_train['Sample'])\n",
        "\n",
        "# Salvar modelo\n",
        "pickle.dump(rs_uni_svc, open(f'./Output/Models_LBP/SVC/rs_uni_svc.pickle', \"wb\"))\n",
        "joblib.dump(rs_uni_svc, f'./Output/Models_LBP/SVC/rs_uni_svc.joblib')\n",
        "\n",
        "print(f'Os melhores parâmetros foram: {rs_uni_svc.best_params_}')\n",
        "print(f'A melhor acurácia foi de: {rs_uni_svc.best_score_:.4f}')\n",
        "print(f'O melhor modelo foi: {rs_uni_svc.best_estimator_}')"
      ]
    },
    {
      "cell_type": "code",
      "execution_count": null,
      "metadata": {
        "id": "fTK_ptbUxaf_"
      },
      "outputs": [],
      "source": [
        "# ================================================================================\n",
        "# Desempenho na Validação Cruzada (Stratified Group 5-fold cross-validation)\n",
        "# ================================================================================\n",
        "#rs_svc = pickle.load(open('./Output/Models/rs_svc.pickle', \"rb\"))\n",
        "res1_rs_uni_svc = pd.DataFrame(rs_uni_svc.cv_results_).filter(regex = r'(params|test)').sort_values(by=[\"rank_test_accuracy\"])\n",
        "\n",
        "accf1_rs_uni_svc = res1_rs_uni_svc.iloc[0].filter(regex = r'(accuracy|f1)').filter(regex = 'split')\n",
        "min_acc_uni_svc = accf1_rs_uni_svc.filter(regex = 'accuracy').min()\n",
        "max_acc_uni_svc = accf1_rs_uni_svc.filter(regex = 'accuracy').max()\n",
        "min_f1_uni_svc = accf1_rs_uni_svc.filter(regex = 'f1').min()\n",
        "max_f1_uni_svc = accf1_rs_uni_svc.filter(regex = 'f1').max()\n",
        "\n",
        "print(f'Acurácia min: {min_acc_uni_svc:.6f}')\n",
        "print(f'Acurácia max: {max_acc_uni_svc:.6f}')\n",
        "print(f'F1 min: {min_f1_uni_svc:.6f}')\n",
        "print(f'F1 max: {max_f1_uni_svc:.6f}')\n",
        "\n",
        "res2_rs_uni_svc = res1_rs_uni_svc.filter(regex = r'(mean|std|params)')\n",
        "display(res2_rs_uni_svc.iloc[0])\n",
        "#display(res2_rs_svc[:1])"
      ]
    },
    {
      "cell_type": "code",
      "execution_count": null,
      "metadata": {
        "id": "hTbGfl6bxaUk"
      },
      "outputs": [],
      "source": [
        "# ================================================================================\n",
        "# Matriz de Confusão - Validação Cruzada\n",
        "# ================================================================================\n",
        "cm_cv(rs_uni_svc, X_train_u, y_train['Class'], y_train['Sample'], name = 'rs_uni_svc')"
      ]
    },
    {
      "cell_type": "code",
      "execution_count": null,
      "metadata": {
        "id": "yyu5OKebxaJF"
      },
      "outputs": [],
      "source": [
        "# ================================================================================\n",
        "# Desempenho no conjunto de teste (n = 566)\n",
        "# ================================================================================\n",
        "y_pred_rs_uni_svc = rs_uni_svc.predict(X_test_u)\n",
        "accuracy_rs_uni_svc = accuracy_score(y_test[\"Class\"], y_pred_rs_uni_svc)\n",
        "f1_rs_uni_svc = f1_score(y_test[\"Class\"], y_pred_rs_uni_svc, average = 'weighted')\n",
        "print(f\"Best SVC Accuracy: {accuracy_rs_uni_svc:.6f}\")\n",
        "print(f\"Best SVC F1: {f1_rs_uni_svc:.6f}\")"
      ]
    },
    {
      "cell_type": "code",
      "execution_count": null,
      "metadata": {
        "id": "pHW0h1tbxZ9I"
      },
      "outputs": [],
      "source": [
        "# ================================================================================\n",
        "# Matriz de Confusão - conjunto de teste (n = 566)\n",
        "# ================================================================================\n",
        "\n",
        "cm_rs_uni_svc = confusion_matrix(y_test['Class'], y_pred_rs_uni_svc)\n",
        "disp_rs_uni_svc = ConfusionMatrixDisplay(confusion_matrix = cm_rs_uni_svc, display_labels = rs_uni_svc.classes_)\n",
        "disp_rs_uni_svc.plot(cmap = 'Blues', xticks_rotation = 90)\n",
        "disp_rs_uni_svc.ax_.set_xlabel('Predito', fontsize=10, style='normal', fontweight = 'bold')\n",
        "disp_rs_uni_svc.ax_.set_ylabel(\"Observado\", fontsize=10, style='normal', fontweight = 'bold')\n",
        "disp_rs_uni_svc.ax_.xaxis.set_tick_params(labelsize=10)\n",
        "disp_rs_uni_svc.ax_.yaxis.set_tick_params(labelsize=10)\n",
        "plt.yticks(style='italic')\n",
        "plt.xticks(style='italic')\n",
        "\n",
        "plt.savefig(f'./Output/CM_LBP/cm_teste_uni_svc', dpi = 600, bbox_inches='tight')\n",
        "plt.show()"
      ]
    },
    {
      "cell_type": "code",
      "execution_count": null,
      "metadata": {
        "id": "UX_zarbExZv1"
      },
      "outputs": [],
      "source": [
        "# ================================================================================\n",
        "# Relatório de classificação (Conjunto de teste)\n",
        "# ================================================================================\n",
        "print(classification_report(y_test['Class'], y_pred_rs_uni_svc, target_names= rs_uni_svc.classes_))"
      ]
    },
    {
      "cell_type": "markdown",
      "metadata": {
        "id": "cGQMwve86eCF"
      },
      "source": [
        "#### **Modelo C5**: Usando features LBP Uniforme Não Invariante (P = 8, R = 1)"
      ]
    },
    {
      "cell_type": "code",
      "execution_count": null,
      "metadata": {
        "id": "pI59UXcr60oY"
      },
      "outputs": [],
      "source": [
        "# ================================================================================\n",
        "# Ajuste de Hiperparâmetros (Hyperparameter tuning) - RandomizedSearchCV()\n",
        "# ================================================================================\n",
        "\n",
        "param_grid = {\n",
        "    'C': uniform(loc = 0.1, scale = 10).rvs(size = 20, random_state = 10),             # Uniform distribution between 0.1 and 10\n",
        "    'kernel': ['linear', 'rbf', 'poly', 'sigmoid'],\n",
        "    'degree': [2, 3, 4],\n",
        "    'gamma': ['scale', 'auto'] + list(np.logspace(-9, 3, 13))\n",
        "}\n",
        "\n",
        "# Create the RandomizedSearchCV object\n",
        "rs_nri81_svc = RandomizedSearchCV(estimator = model_svc, param_distributions = param_grid,\n",
        "                                 scoring = metrics, cv = cv, refit = 'accuracy',\n",
        "                                 verbose = 3, return_train_score = False, n_iter = 20)\n",
        "\n",
        "rs_nri81_svc.fit(X_train_nri81, y_train['Class'], groups = y_train['Sample'])\n",
        "\n",
        "pickle.dump(rs_nri81_svc, open(f'./Output/Models_LBP/SVC/rs_nri81_svc.pickle', \"wb\"))\n",
        "joblib.dump(rs_nri81_svc, f'./Output/Models_LBP/SVC/rs_nri81_svc.joblib')\n",
        "\n",
        "print(f'Os melhores parâmetros foram: {rs_nri81_svc.best_params_}')\n",
        "print(f'A melhor acurácia foi de: {rs_nri81_svc.best_score_:.4f}')\n",
        "print(f'O melhor modelo foi: {rs_nri81_svc.best_estimator_}')"
      ]
    },
    {
      "cell_type": "code",
      "execution_count": null,
      "metadata": {
        "id": "hocyOZ8C60du"
      },
      "outputs": [],
      "source": [
        "# ================================================================================\n",
        "# Desempenho na Validação Cruzada (Stratified Group 5-fold cross-validation)\n",
        "# ================================================================================\n",
        "#rs_svc = pickle.load(open('./Output/Models/rs_svc.pickle', \"rb\"))\n",
        "res1_rs_nri81_svc = pd.DataFrame(rs_nri81_svc.cv_results_).filter(regex = r'(params|test)').sort_values(by=[\"rank_test_accuracy\"])\n",
        "\n",
        "accf1_rs_nri81_svc = res1_rs_nri81_svc.iloc[0].filter(regex = r'(accuracy|f1)').filter(regex = 'split')\n",
        "min_acc_nri81_svc = accf1_rs_nri81_svc.filter(regex = 'accuracy').min()\n",
        "max_acc_nri81_svc = accf1_rs_nri81_svc.filter(regex = 'accuracy').max()\n",
        "min_f1_nri81_svc = accf1_rs_nri81_svc.filter(regex = 'f1').min()\n",
        "max_f1_nri81_svc = accf1_rs_nri81_svc.filter(regex = 'f1').max()\n",
        "\n",
        "print(f'Acurácia min: {min_acc_nri81_svc:.6f}')\n",
        "print(f'Acurácia max: {max_acc_nri81_svc:.6f}')\n",
        "print(f'F1 min: {min_f1_nri81_svc:.6f}')\n",
        "print(f'F1 max: {max_f1_nri81_svc:.6f}')\n",
        "\n",
        "res2_rs_nri81_svc = res1_rs_nri81_svc.filter(regex = r'(mean|std|params)')\n",
        "display(res2_rs_nri81_svc.iloc[0])\n",
        "#display(res2_rs_svc[:1])"
      ]
    },
    {
      "cell_type": "code",
      "execution_count": null,
      "metadata": {
        "id": "nHgvlgvh60Tc"
      },
      "outputs": [],
      "source": [
        "# ================================================================================\n",
        "# Matriz de Confusão - Validação Cruzada\n",
        "# ================================================================================\n",
        "cm_cv(rs_nri81_svc, X_train_nri81, y_train['Class'], y_train['Sample'], name = 'rs_nri81_svc')"
      ]
    },
    {
      "cell_type": "code",
      "execution_count": null,
      "metadata": {
        "id": "Nr_9d5kS60Kw"
      },
      "outputs": [],
      "source": [
        "# ================================================================================\n",
        "# Desempenho no conjunto de teste (n = 561)\n",
        "# ================================================================================\n",
        "y_pred_rs_nri81_svc = rs_nri81_svc.predict(X_test_nri81)\n",
        "accuracy_rs_nri81_svc = accuracy_score(y_test[\"Class\"], y_pred_rs_nri81_svc)\n",
        "f1_rs_nri81_svc = f1_score(y_test[\"Class\"], y_pred_rs_nri81_svc, average = 'weighted')\n",
        "print(f\"Best SVC Accuracy: {accuracy_rs_nri81_svc:.6f}\")\n",
        "print(f\"Best SVC F1: {f1_rs_nri81_svc:.6f}\")"
      ]
    },
    {
      "cell_type": "code",
      "execution_count": null,
      "metadata": {
        "id": "F-yiGPnD6z-v"
      },
      "outputs": [],
      "source": [
        "# ================================================================================\n",
        "# Matriz de Confusão - conjunto de teste (n = 561)\n",
        "# ================================================================================\n",
        "\n",
        "cm_rs_nri81_svc = confusion_matrix(y_test['Class'], y_pred_rs_nri81_svc)\n",
        "disp_rs_nri81_svc = ConfusionMatrixDisplay(confusion_matrix = cm_rs_nri81_svc, display_labels = rs_nri81_svc.classes_)\n",
        "disp_rs_nri81_svc.plot(cmap = 'Blues', xticks_rotation = 90)\n",
        "disp_rs_nri81_svc.ax_.set_xlabel('Predito', fontsize=10, style='normal', fontweight = 'bold')\n",
        "disp_rs_nri81_svc.ax_.set_ylabel(\"Observado\", fontsize=10, style='normal', fontweight = 'bold')\n",
        "disp_rs_nri81_svc.ax_.xaxis.set_tick_params(labelsize=10)\n",
        "disp_rs_nri81_svc.ax_.yaxis.set_tick_params(labelsize=10)\n",
        "plt.yticks(style='italic')\n",
        "plt.xticks(style='italic')\n",
        "\n",
        "plt.savefig(f'./Output/CM_LBP/cm_teste_nri81_svc', dpi = 600, bbox_inches='tight')\n",
        "plt.show()"
      ]
    },
    {
      "cell_type": "code",
      "execution_count": null,
      "metadata": {
        "id": "PWa2Ccwo6z2K"
      },
      "outputs": [],
      "source": [
        "# ================================================================================\n",
        "# Relatório de classificação (Conjunto de teste)\n",
        "# ================================================================================\n",
        "print(classification_report(y_test['Class'], y_pred_rs_nri81_svc, target_names= rs_nri81_svc.classes_))"
      ]
    },
    {
      "cell_type": "markdown",
      "metadata": {
        "id": "5Ya7JDI5BtZu"
      },
      "source": [
        "#### **Modelo C6**: Usando features LBP Uniforme Não Invariante (P = 16, R = 2)"
      ]
    },
    {
      "cell_type": "code",
      "execution_count": null,
      "metadata": {
        "id": "2ay9enMWB095"
      },
      "outputs": [],
      "source": [
        "# ================================================================================\n",
        "# Ajuste de Hiperparâmetros (Hyperparameter tuning) - RandomizedSearchCV()\n",
        "# ================================================================================\n",
        "\n",
        "param_grid = {\n",
        "    'C': uniform(loc = 0.1, scale = 10).rvs(size = 20, random_state = 10),             # Uniform distribution between 0.1 and 10\n",
        "    'kernel': ['linear', 'rbf', 'poly', 'sigmoid'],\n",
        "    'degree': [2, 3, 4],\n",
        "    'gamma': ['scale', 'auto'] + list(np.logspace(-9, 3, 13))\n",
        "}\n",
        "\n",
        "# Create the RandomizedSearchCV object\n",
        "rs_nri162_svc = RandomizedSearchCV(estimator = model_svc, param_distributions = param_grid,\n",
        "                                 scoring = metrics, cv = cv, refit = 'accuracy',\n",
        "                                 verbose = 3, return_train_score = False, n_iter = 20)\n",
        "\n",
        "rs_nri162_svc.fit(X_train_nri162, y_train['Class'], groups = y_train['Sample'])\n",
        "\n",
        "# Salvar modelo\n",
        "pickle.dump(rs_nri162_svc, open(f'./Output/Models_LBP/SVC/rs_nri162_svc.pickle', \"wb\"))\n",
        "joblib.dump(rs_nri162_svc, f'./Output/Models_LBP/SVC/rs_nri162_svc.joblib')\n",
        "\n",
        "print(f'Os melhores parâmetros foram: {rs_nri162_svc.best_params_}')\n",
        "print(f'A melhor acurácia foi de: {rs_nri162_svc.best_score_:.4f}')\n",
        "print(f'O melhor modelo foi: {rs_nri162_svc.best_estimator_}')"
      ]
    },
    {
      "cell_type": "code",
      "execution_count": null,
      "metadata": {
        "id": "O_nHO2HZBz5e"
      },
      "outputs": [],
      "source": [
        "# ================================================================================\n",
        "# Desempenho na Validação Cruzada (Stratified Group 5-fold cross-validation)\n",
        "# ================================================================================\n",
        "#rs_svc = pickle.load(open('./Output/Models/rs_svc.pickle', \"rb\"))\n",
        "res1_rs_nri162_svc = pd.DataFrame(rs_nri162_svc.cv_results_).filter(regex = r'(params|test)').sort_values(by=[\"rank_test_accuracy\"])\n",
        "\n",
        "accf1_rs_nri162_svc = res1_rs_nri162_svc.iloc[0].filter(regex = r'(accuracy|f1)').filter(regex = 'split')\n",
        "min_acc_nri162_svc = accf1_rs_nri162_svc.filter(regex = 'accuracy').min()\n",
        "max_acc_nri162_svc = accf1_rs_nri162_svc.filter(regex = 'accuracy').max()\n",
        "min_f1_nri162_svc = accf1_rs_nri162_svc.filter(regex = 'f1').min()\n",
        "max_f1_nri162_svc = accf1_rs_nri162_svc.filter(regex = 'f1').max()\n",
        "\n",
        "print(f'Acurácia min: {min_acc_nri162_svc:.6f}')\n",
        "print(f'Acurácia max: {max_acc_nri162_svc:.6f}')\n",
        "print(f'F1 min: {min_f1_nri162_svc:.6f}')\n",
        "print(f'F1 max: {max_f1_nri162_svc:.6f}')\n",
        "\n",
        "res2_rs_nri162_svc = res1_rs_nri162_svc.filter(regex = r'(mean|std|params)')\n",
        "display(res2_rs_nri162_svc.iloc[0])\n",
        "#display(res2_rs_svc[:1])"
      ]
    },
    {
      "cell_type": "code",
      "execution_count": null,
      "metadata": {
        "id": "ENqalk6mBztj"
      },
      "outputs": [],
      "source": [
        "# ================================================================================\n",
        "# Matriz de Confusão - Validação Cruzada\n",
        "# ================================================================================\n",
        "cm_cv(rs_nri162_svc, X_train_nri162, y_train['Class'], y_train['Sample'], name = 'rs_nri162_svc')"
      ]
    },
    {
      "cell_type": "code",
      "execution_count": null,
      "metadata": {
        "id": "ngbGuSNZBzgB"
      },
      "outputs": [],
      "source": [
        "# ================================================================================\n",
        "# Desempenho no conjunto de teste (n = 566)\n",
        "# ================================================================================\n",
        "y_pred_rs_nri162_svc = rs_nri162_svc.predict(X_test_nri162)\n",
        "accuracy_rs_nri162_svc = accuracy_score(y_test[\"Class\"], y_pred_rs_nri162_svc)\n",
        "f1_rs_nri162_svc = f1_score(y_test[\"Class\"], y_pred_rs_nri162_svc, average = 'weighted')\n",
        "print(f\"Best SVC Accuracy: {accuracy_rs_nri162_svc:.6f}\")\n",
        "print(f\"Best SVC F1: {f1_rs_nri162_svc:.6f}\")"
      ]
    },
    {
      "cell_type": "code",
      "execution_count": null,
      "metadata": {
        "id": "AXfsxFGwBzR6"
      },
      "outputs": [],
      "source": [
        "# ================================================================================\n",
        "# Matriz de Confusão - conjunto de teste (n = 566)\n",
        "# ================================================================================\n",
        "\n",
        "cm_rs_nri162_svc = confusion_matrix(y_test['Class'], y_pred_rs_nri162_svc)\n",
        "disp_rs_nri162_svc = ConfusionMatrixDisplay(confusion_matrix = cm_rs_nri162_svc, display_labels = rs_nri162_svc.classes_)\n",
        "disp_rs_nri162_svc.plot(cmap = 'Blues', xticks_rotation = 90)\n",
        "disp_rs_nri162_svc.ax_.set_xlabel('Predito', fontsize=10, style='normal', fontweight = 'bold')\n",
        "disp_rs_nri162_svc.ax_.set_ylabel(\"Observado\", fontsize=10, style='normal', fontweight = 'bold')\n",
        "disp_rs_nri162_svc.ax_.xaxis.set_tick_params(labelsize=10)\n",
        "disp_rs_nri162_svc.ax_.yaxis.set_tick_params(labelsize=10)\n",
        "plt.yticks(style='italic')\n",
        "plt.xticks(style='italic')\n",
        "\n",
        "plt.savefig(f'./Output/CM_LBP/cm_teste_nri162_svc', dpi = 600, bbox_inches='tight')\n",
        "plt.show()"
      ]
    },
    {
      "cell_type": "code",
      "execution_count": null,
      "metadata": {
        "id": "WV4O1oW7Bs_8"
      },
      "outputs": [],
      "source": [
        "# ================================================================================\n",
        "# Relatório de classificação (Conjunto de teste)\n",
        "# ================================================================================\n",
        "print(classification_report(y_test['Class'], y_pred_rs_nri162_svc, target_names= rs_nri162_svc.classes_))"
      ]
    },
    {
      "cell_type": "markdown",
      "metadata": {
        "id": "K59mwtlx1kTh"
      },
      "source": [
        "#### **Modelo C7**: Usando features LBP Uniforme Não Invariante (P = 24, R = 3)"
      ]
    },
    {
      "cell_type": "code",
      "execution_count": null,
      "metadata": {
        "id": "iE0T2nZb1wAe"
      },
      "outputs": [],
      "source": [
        "# ================================================================================\n",
        "# Ajuste de Hiperparâmetros (Hyperparameter tuning) - RandomizedSearchCV()\n",
        "# ================================================================================\n",
        "\n",
        "param_grid = {\n",
        "    'C': uniform(loc = 0.1, scale = 10).rvs(size = 20, random_state = 10),             # Uniform distribution between 0.1 and 10\n",
        "    'kernel': ['linear', 'rbf', 'poly', 'sigmoid'],\n",
        "    'degree': [2, 3, 4],\n",
        "    'gamma': ['scale', 'auto'] + list(np.logspace(-9, 3, 13))\n",
        "}\n",
        "\n",
        "# Create the RandomizedSearchCV object\n",
        "rs_nri243_svc = RandomizedSearchCV(estimator = model_svc, param_distributions = param_grid,\n",
        "                                 scoring = metrics, cv = cv, refit = 'accuracy',\n",
        "                                 verbose = 3, return_train_score = False, n_iter = 20)\n",
        "\n",
        "rs_nri243_svc.fit(X_train_nri243, y_train['Class'], groups = y_train['Sample'])\n",
        "\n",
        "# Salvar modelo\n",
        "pickle.dump(rs_nri243_svc, open(f'./Output/Models_LBP/SVC/rs_nri243_svc.pickle', \"wb\"))\n",
        "joblib.dump(rs_nri243_svc, f'./Output/Models_LBP/SVC/rs_nri243_svc.joblib')\n",
        "\n",
        "print(f'Os melhores parâmetros foram: {rs_nri243_svc.best_params_}')\n",
        "print(f'A melhor acurácia foi de: {rs_nri243_svc.best_score_:.4f}')\n",
        "print(f'O melhor modelo foi: {rs_nri243_svc.best_estimator_}')"
      ]
    },
    {
      "cell_type": "code",
      "execution_count": null,
      "metadata": {
        "id": "QZFxd4IV1v3H"
      },
      "outputs": [],
      "source": [
        "# ================================================================================\n",
        "# Desempenho na Validação Cruzada (Stratified Group 5-fold cross-validation)\n",
        "# ================================================================================\n",
        "#rs_svc = pickle.load(open('./Output/Models/rs_svc.pickle', \"rb\"))\n",
        "res1_rs_nri243_svc = pd.DataFrame(rs_nri243_svc.cv_results_).filter(regex = r'(params|test)').sort_values(by=[\"rank_test_accuracy\"])\n",
        "\n",
        "accf1_rs_nri243_svc = res1_rs_nri243_svc.iloc[0].filter(regex = r'(accuracy|f1)').filter(regex = 'split')\n",
        "min_acc_nri243_svc = accf1_rs_nri243_svc.filter(regex = 'accuracy').min()\n",
        "max_acc_nri243_svc = accf1_rs_nri243_svc.filter(regex = 'accuracy').max()\n",
        "min_f1_nri243_svc = accf1_rs_nri243_svc.filter(regex = 'f1').min()\n",
        "max_f1_nri243_svc = accf1_rs_nri243_svc.filter(regex = 'f1').max()\n",
        "\n",
        "print(f'Acurácia min: {min_acc_nri243_svc:.6f}')\n",
        "print(f'Acurácia max: {max_acc_nri243_svc:.6f}')\n",
        "print(f'F1 min: {min_f1_nri243_svc:.6f}')\n",
        "print(f'F1 max: {max_f1_nri243_svc:.6f}')\n",
        "\n",
        "res2_rs_nri243_svc = res1_rs_nri243_svc.filter(regex = r'(mean|std|params)')\n",
        "display(res2_rs_nri243_svc.iloc[0])"
      ]
    },
    {
      "cell_type": "code",
      "execution_count": null,
      "metadata": {
        "id": "BX-JaBSu1vuY"
      },
      "outputs": [],
      "source": [
        "# ================================================================================\n",
        "# Matriz de Confusão - Validação Cruzada\n",
        "# ================================================================================\n",
        "cm_cv(rs_nri243_svc, X_train_nri243, y_train['Class'], y_train['Sample'], name = 'rs_nri243_svc')"
      ]
    },
    {
      "cell_type": "code",
      "execution_count": null,
      "metadata": {
        "id": "FNjaZ_811vlN"
      },
      "outputs": [],
      "source": [
        "# ================================================================================\n",
        "# Desempenho no conjunto de teste (n = 566)\n",
        "# ================================================================================\n",
        "y_pred_rs_nri243_svc = rs_nri243_svc.predict(X_test_nri243)\n",
        "accuracy_rs_nri243_svc = accuracy_score(y_test[\"Class\"], y_pred_rs_nri243_svc)\n",
        "f1_rs_nri243_svc = f1_score(y_test[\"Class\"], y_pred_rs_nri243_svc, average = 'weighted')\n",
        "print(f\"Best SVC Accuracy: {accuracy_rs_nri243_svc:.6f}\")\n",
        "print(f\"Best SVC F1: {f1_rs_nri243_svc:.6f}\")"
      ]
    },
    {
      "cell_type": "code",
      "execution_count": null,
      "metadata": {
        "id": "zJ1NgIeT1vby"
      },
      "outputs": [],
      "source": [
        "# ================================================================================\n",
        "# Matriz de Confusão - conjunto de teste (n = 566)\n",
        "# ================================================================================\n",
        "\n",
        "cm_rs_nri243_svc = confusion_matrix(y_test['Class'], y_pred_rs_nri243_svc)\n",
        "disp_rs_nri243_svc = ConfusionMatrixDisplay(confusion_matrix = cm_rs_nri243_svc, display_labels = rs_nri243_svc.classes_)\n",
        "disp_rs_nri243_svc.plot(cmap = 'Blues', xticks_rotation = 90)\n",
        "disp_rs_nri243_svc.ax_.set_xlabel('Predito', fontsize=10, style='normal', fontweight = 'bold')\n",
        "disp_rs_nri243_svc.ax_.set_ylabel(\"Observado\", fontsize=10, style='normal', fontweight = 'bold')\n",
        "disp_rs_nri243_svc.ax_.xaxis.set_tick_params(labelsize=10)\n",
        "disp_rs_nri243_svc.ax_.yaxis.set_tick_params(labelsize=10)\n",
        "plt.yticks(style='italic')\n",
        "plt.xticks(style='italic')\n",
        "\n",
        "plt.savefig(f'./Output/CM_LBP/cm_teste_nri243_svc', dpi = 600, bbox_inches='tight')\n",
        "plt.show()"
      ]
    },
    {
      "cell_type": "code",
      "execution_count": null,
      "metadata": {
        "id": "AGRSYCu81vRt"
      },
      "outputs": [],
      "source": [
        "# ================================================================================\n",
        "# Relatório de classificação (Conjunto de teste)\n",
        "# ================================================================================\n",
        "print(classification_report(y_test['Class'], y_pred_rs_nri243_svc, target_names= rs_nri243_svc.classes_))"
      ]
    },
    {
      "cell_type": "markdown",
      "metadata": {
        "id": "nUzgOLPh-oB2"
      },
      "source": [
        "#### **Modelo C8**: Usando features LBP Uniforme Não Invariante (Todos)"
      ]
    },
    {
      "cell_type": "code",
      "execution_count": null,
      "metadata": {
        "id": "pkiSmph5-1g2"
      },
      "outputs": [],
      "source": [
        "# ================================================================================\n",
        "# Ajuste de Hiperparâmetros (Hyperparameter tuning) - RandomizedSearchCV()\n",
        "# ================================================================================\n",
        "\n",
        "param_grid = {\n",
        "    'C': uniform(loc = 0.1, scale = 10).rvs(size = 20, random_state = 10),             # Uniform distribution between 0.1 and 10\n",
        "    'kernel': ['linear', 'rbf', 'poly', 'sigmoid'],\n",
        "    'degree': [2, 3, 4],\n",
        "    'gamma': ['scale', 'auto'] + list(np.logspace(-9, 3, 13))\n",
        "}\n",
        "\n",
        "# Create the RandomizedSearchCV object\n",
        "rs_nri_svc = RandomizedSearchCV(estimator = model_svc, param_distributions = param_grid,\n",
        "                                 scoring = metrics, cv = cv, refit = 'accuracy',\n",
        "                                 verbose = 3, return_train_score = False, n_iter = 20)\n",
        "\n",
        "rs_nri_svc.fit(X_train_nri, y_train['Class'], groups = y_train['Sample'])\n",
        "\n",
        "# Salvar modelo\n",
        "pickle.dump(rs_nri_svc, open(f'./Output/Models_LBP/SVC/rs_nri_svc.pickle', \"wb\"))\n",
        "joblib.dump(rs_nri_svc, f'./Output/Models_LBP/SVC/rs_nri_svc.joblib')\n",
        "\n",
        "print(f'Os melhores parâmetros foram: {rs_nri_svc.best_params_}')\n",
        "print(f'A melhor acurácia foi de: {rs_nri_svc.best_score_:.4f}')\n",
        "print(f'O melhor modelo foi: {rs_nri_svc.best_estimator_}')"
      ]
    },
    {
      "cell_type": "code",
      "execution_count": null,
      "metadata": {
        "id": "OdcbhPAl-8QA"
      },
      "outputs": [],
      "source": [
        "# ================================================================================\n",
        "# Desempenho na Validação Cruzada (Stratified Group 5-fold cross-validation)\n",
        "# ================================================================================\n",
        "#rs_svc = pickle.load(open('./Output/Models/rs_svc.pickle', \"rb\"))\n",
        "res1_rs_nri_svc = pd.DataFrame(rs_nri_svc.cv_results_).filter(regex = r'(params|test)').sort_values(by=[\"rank_test_accuracy\"])\n",
        "\n",
        "accf1_rs_nri_svc = res1_rs_nri_svc.iloc[0].filter(regex = r'(accuracy|f1)').filter(regex = 'split')\n",
        "min_acc_nri_svc = accf1_rs_nri_svc.filter(regex = 'accuracy').min()\n",
        "max_acc_nri_svc = accf1_rs_nri_svc.filter(regex = 'accuracy').max()\n",
        "min_f1_nri_svc = accf1_rs_nri_svc.filter(regex = 'f1').min()\n",
        "max_f1_nri_svc = accf1_rs_nri_svc.filter(regex = 'f1').max()\n",
        "\n",
        "print(f'Acurácia min: {min_acc_nri_svc:.6f}')\n",
        "print(f'Acurácia max: {max_acc_nri_svc:.6f}')\n",
        "print(f'F1 min: {min_f1_nri_svc:.6f}')\n",
        "print(f'F1 max: {max_f1_nri_svc:.6f}')\n",
        "\n",
        "res2_rs_nri_svc = res1_rs_nri_svc.filter(regex = r'(mean|std|params)')\n",
        "display(res2_rs_nri_svc.iloc[0])"
      ]
    },
    {
      "cell_type": "code",
      "execution_count": null,
      "metadata": {
        "id": "hj0lj9kM-8G6"
      },
      "outputs": [],
      "source": [
        "# ================================================================================\n",
        "# Matriz de Confusão - Validação Cruzada\n",
        "# ================================================================================\n",
        "cm_cv(rs_nri_svc, X_train_nri, y_train['Class'], y_train['Sample'], name = 'rs_nri_svc')"
      ]
    },
    {
      "cell_type": "code",
      "execution_count": null,
      "metadata": {
        "id": "6cdpkaCj-784"
      },
      "outputs": [],
      "source": [
        "# ================================================================================\n",
        "# Desempenho no conjunto de teste (n = 566)\n",
        "# ================================================================================\n",
        "y_pred_rs_nri_svc = rs_nri_svc.predict(X_test_nri)\n",
        "accuracy_rs_nri_svc = accuracy_score(y_test[\"Class\"], y_pred_rs_nri_svc)\n",
        "f1_rs_nri_svc = f1_score(y_test[\"Class\"], y_pred_rs_nri_svc, average = 'weighted')\n",
        "print(f\"Best SVC Accuracy: {accuracy_rs_nri_svc:.6f}\")\n",
        "print(f\"Best SVC F1: {f1_rs_nri_svc:.6f}\")"
      ]
    },
    {
      "cell_type": "code",
      "execution_count": null,
      "metadata": {
        "id": "mpvccT2W-7zJ"
      },
      "outputs": [],
      "source": [
        "# ================================================================================\n",
        "# Matriz de Confusão - conjunto de teste (n = 566)\n",
        "# ================================================================================\n",
        "\n",
        "cm_rs_nri_svc = confusion_matrix(y_test['Class'], y_pred_rs_nri_svc)\n",
        "disp_rs_nri_svc = ConfusionMatrixDisplay(confusion_matrix = cm_rs_nri_svc, display_labels = rs_nri_svc.classes_)\n",
        "disp_rs_nri_svc.plot(cmap = 'Blues', xticks_rotation = 90)\n",
        "disp_rs_nri_svc.ax_.set_xlabel('Predito', fontsize=10, style='normal', fontweight = 'bold')\n",
        "disp_rs_nri_svc.ax_.set_ylabel(\"Observado\", fontsize=10, style='normal', fontweight = 'bold')\n",
        "disp_rs_nri_svc.ax_.xaxis.set_tick_params(labelsize=10)\n",
        "disp_rs_nri_svc.ax_.yaxis.set_tick_params(labelsize=10)\n",
        "plt.yticks(style='italic')\n",
        "plt.xticks(style='italic')\n",
        "\n",
        "plt.savefig(f'./Output/CM_LBP/SVC/cm_teste_nri_svc', dpi = 600, bbox_inches='tight')\n",
        "plt.show()"
      ]
    },
    {
      "cell_type": "code",
      "execution_count": null,
      "metadata": {
        "id": "07Lr5AGW_Sq-"
      },
      "outputs": [],
      "source": [
        "# ================================================================================\n",
        "# Relatório de classificação (Conjunto de teste)\n",
        "# ================================================================================\n",
        "print(classification_report(y_test['Class'], y_pred_rs_nri_svc, target_names= rs_nri_svc.classes_))"
      ]
    },
    {
      "cell_type": "markdown",
      "metadata": {
        "id": "0vIACcJESvc3"
      },
      "source": [
        "#### **Modelo C9**: Usando features LBP (Todos)"
      ]
    },
    {
      "cell_type": "code",
      "execution_count": null,
      "metadata": {
        "id": "t6fCfvfeTKP-"
      },
      "outputs": [],
      "source": [
        "# ================================================================================\n",
        "# Ajuste de Hiperparâmetros (Hyperparameter tuning) - RandomizedSearchCV()\n",
        "# ================================================================================\n",
        "\n",
        "param_grid = {\n",
        "    'C': uniform(loc = 0.1, scale = 10).rvs(size = 20, random_state = 10),             # Uniform distribution between 0.1 and 10\n",
        "    'kernel': ['linear', 'rbf', 'poly', 'sigmoid'],\n",
        "    'degree': [2, 3, 4],\n",
        "    'gamma': ['scale', 'auto'] + list(np.logspace(-9, 3, 13))\n",
        "}\n",
        "\n",
        "# Create the RandomizedSearchCV object\n",
        "rs_unri_svc = RandomizedSearchCV(estimator = model_svc, param_distributions = param_grid,\n",
        "                                 scoring = metrics, cv = cv, refit = 'accuracy',\n",
        "                                 verbose = 3, return_train_score = False, n_iter = 20)\n",
        "\n",
        "rs_unri_svc.fit(X_train_unri, y_train['Class'], groups = y_train['Sample'])\n",
        "\n",
        "# Salvar modelo\n",
        "pickle.dump(rs_unri_svc, open(f'./Output/Models_LBP/SVC/rs_unri_svc.pickle', \"wb\"))\n",
        "joblib.dump(rs_unri_svc, f'./Output/Models_LBP/SVC/rs_unri_svc.joblib')\n",
        "\n",
        "print(f'Os melhores parâmetros foram: {rs_unri_svc.best_params_}')\n",
        "print(f'A melhor acurácia foi de: {rs_unri_svc.best_score_:.4f}')\n",
        "print(f'O melhor modelo foi: {rs_unri_svc.best_estimator_}')"
      ]
    },
    {
      "cell_type": "code",
      "execution_count": null,
      "metadata": {
        "id": "1qmDdlrXTKCV"
      },
      "outputs": [],
      "source": [
        "# ================================================================================\n",
        "# Desempenho na Validação Cruzada (Stratified Group 5-fold cross-validation)\n",
        "# ================================================================================\n",
        "#rs_unri_svc = joblib.load(open('./Output/Models_LBP/SVC/rs_unri_svc.joblib', \"rb\"))\n",
        "res1_rs_unri_svc = pd.DataFrame(rs_unri_svc.cv_results_).filter(regex = r'(params|test)').sort_values(by=[\"rank_test_accuracy\"])\n",
        "\n",
        "accf1_rs_unri_svc = res1_rs_unri_svc.iloc[0].filter(regex = r'(accuracy|f1)').filter(regex = 'split')\n",
        "min_acc_unri_svc = accf1_rs_unri_svc.filter(regex = 'accuracy').min()\n",
        "max_acc_unri_svc = accf1_rs_unri_svc.filter(regex = 'accuracy').max()\n",
        "min_f1_unri_svc = accf1_rs_unri_svc.filter(regex = 'f1').min()\n",
        "max_f1_unri_svc = accf1_rs_unri_svc.filter(regex = 'f1').max()\n",
        "\n",
        "print(f'Acurácia min: {min_acc_unri_svc:.6f}')\n",
        "print(f'Acurácia max: {max_acc_unri_svc:.6f}')\n",
        "print(f'F1 min: {min_f1_unri_svc:.6f}')\n",
        "print(f'F1 max: {max_f1_unri_svc:.6f}')\n",
        "\n",
        "res2_rs_unri_svc = res1_rs_unri_svc.filter(regex = r'(mean|std|params)')\n",
        "display(res2_rs_unri_svc.iloc[0])"
      ]
    },
    {
      "cell_type": "code",
      "execution_count": null,
      "metadata": {
        "id": "knTisYWvTJzN"
      },
      "outputs": [],
      "source": [
        "# ================================================================================\n",
        "# Matriz de Confusão - Validação Cruzada\n",
        "# ================================================================================\n",
        "cm_cv(rs_unri_svc, X_train_unri, y_train['Class'], y_train['Sample'], name = 'rs_unri_svc')"
      ]
    },
    {
      "cell_type": "code",
      "execution_count": null,
      "metadata": {
        "id": "LRrDQguxTJm6"
      },
      "outputs": [],
      "source": [
        "# ================================================================================\n",
        "# Desempenho no conjunto de teste (n = 566)\n",
        "# ================================================================================\n",
        "y_pred_rs_unri_svc = rs_unri_svc.predict(X_test_unri)\n",
        "accuracy_rs_unri_svc = accuracy_score(y_test[\"Class\"], y_pred_rs_unri_svc)\n",
        "f1_rs_unri_svc = f1_score(y_test[\"Class\"], y_pred_rs_unri_svc, average = 'weighted')\n",
        "print(f\"Best SVC Accuracy: {accuracy_rs_unri_svc:.6f}\")\n",
        "print(f\"Best SVC F1: {f1_rs_unri_svc:.6f}\")"
      ]
    },
    {
      "cell_type": "code",
      "execution_count": null,
      "metadata": {
        "id": "7R8PxYVATJaF"
      },
      "outputs": [],
      "source": [
        "# ================================================================================\n",
        "# Matriz de Confusão - conjunto de teste (n = 566)\n",
        "# ================================================================================\n",
        "\n",
        "cm_rs_unri_svc = confusion_matrix(y_test['Class'], y_pred_rs_unri_svc)\n",
        "disp_rs_unri_svc = ConfusionMatrixDisplay(confusion_matrix = cm_rs_unri_svc, display_labels = rs_unri_svc.classes_)\n",
        "disp_rs_unri_svc.plot(cmap = 'Blues', xticks_rotation = 90)\n",
        "disp_rs_unri_svc.ax_.set_xlabel('Predito', fontsize=10, style='normal', fontweight = 'bold')\n",
        "disp_rs_unri_svc.ax_.set_ylabel(\"Observado\", fontsize=10, style='normal', fontweight = 'bold')\n",
        "disp_rs_unri_svc.ax_.xaxis.set_tick_params(labelsize=10)\n",
        "disp_rs_unri_svc.ax_.yaxis.set_tick_params(labelsize=10)\n",
        "plt.yticks(style='italic')\n",
        "plt.xticks(style='italic')\n",
        "\n",
        "plt.savefig(f'./Output/CM_LBP/SVC/cm_teste_unri_svc', dpi = 800, bbox_inches='tight')\n",
        "plt.show()"
      ]
    },
    {
      "cell_type": "code",
      "execution_count": null,
      "metadata": {
        "id": "yk5zezqySsiZ"
      },
      "outputs": [],
      "source": [
        "# ================================================================================\n",
        "# Relatório de classificação (Conjunto de teste)\n",
        "# ================================================================================\n",
        "print(classification_report(y_test['Class'], y_pred_rs_unri_svc, target_names= rs_unri_svc.classes_))"
      ]
    },
    {
      "cell_type": "markdown",
      "metadata": {
        "id": "RO63SbJJ5kl4"
      },
      "source": [
        "### **2.4.4 - Artificial Neural Network - ANN**"
      ]
    },
    {
      "cell_type": "code",
      "execution_count": null,
      "metadata": {
        "id": "FaCuLDMZtT5-"
      },
      "outputs": [],
      "source": [
        "# ================================================================================\n",
        "# Definições do estimador ANN\n",
        "# ================================================================================\n",
        "# MLPClassifier().get_params()\n",
        "\n",
        "# Define o modelo\n",
        "model_ann = MLPClassifier(random_state = 10, max_iter = 2000)"
      ]
    },
    {
      "cell_type": "markdown",
      "metadata": {
        "id": "WWIMQP1UlBVU"
      },
      "source": [
        "#### **Modelo C1**: Usando features LBP Uniforme (P = 8, R = 1)"
      ]
    },
    {
      "cell_type": "code",
      "execution_count": null,
      "metadata": {
        "id": "TuQNaWU0lP5Y"
      },
      "outputs": [],
      "source": [
        "# ================================================================================\n",
        "# Ajuste de Hiperparâmetros (Hyperparameter tuning) - RandomizedSearchCV()\n",
        "# ================================================================================\n",
        "\n",
        "param_grid = {\n",
        "    'hidden_layer_sizes': [(50,), (100,), (150,), (200,), (250,),\n",
        "                          (300,), (350,), (400,), (450,),(500,)],\n",
        "    'activation': ['relu', 'identity'],    # ['relu', 'tanh', 'logistic', 'identity']\n",
        "    'solver': ['adam', 'lbfgs'],           # ['sgd', 'adam', 'lbfgs']\n",
        "    'alpha': uniform(loc = 0.0001, scale = 0.09).rvs(size = 20, random_state = 10),\n",
        "    'learning_rate': ['constant','adaptive', 'invscaling']}\n",
        "\n",
        "# Create the RandomizedSearchCV object\n",
        "rs_u81_ann = RandomizedSearchCV(estimator = model_ann, param_distributions = param_grid,\n",
        "                                 scoring = metrics, cv = cv, refit = 'accuracy',\n",
        "                                 verbose = 3, return_train_score = False, n_iter = 20)\n",
        "\n",
        "rs_u81_ann.fit(X_train_u81, y_train['Class'], groups = y_train['Sample'])\n",
        "\n",
        "# Salvar modelo\n",
        "pickle.dump(rs_u81_ann, open(f'./Output/Models/rs_u81_ann.pickle', \"wb\"))\n",
        "\n",
        "print(f'Os melhores parâmetros foram: {rs_u81_ann.best_params_}')\n",
        "print(f'A melhor acurácia foi de: {rs_u81_ann.best_score_:.4f}')\n",
        "print(f'O melhor modelo foi: {rs_u81_ann.best_estimator_}')"
      ]
    },
    {
      "cell_type": "code",
      "execution_count": null,
      "metadata": {
        "id": "ZqoyovjVl3_A"
      },
      "outputs": [],
      "source": [
        "# ================================================================================\n",
        "# Desempenho na Validação Cruzada (Stratified Group 5-fold cross-validation)\n",
        "# ================================================================================\n",
        "#rs_svc = pickle.load(open('./Output/Models/rs_svc.pickle', \"rb\"))\n",
        "res1_rs_u81_ann = pd.DataFrame(rs_u81_ann.cv_results_).filter(regex = r'(params|test)').sort_values(by=[\"rank_test_accuracy\"])\n",
        "\n",
        "accf1_rs_u81_ann = res1_rs_u81_ann.iloc[0].filter(regex = r'(accuracy|f1)').filter(regex = 'split')\n",
        "min_acc_rs_u81_ann = accf1_rs_u81_ann.filter(regex = 'accuracy').min()\n",
        "max_acc_rs_u81_ann = accf1_rs_u81_ann.filter(regex = 'accuracy').max()\n",
        "min_f1_rs_u81_ann = accf1_rs_u81_ann.filter(regex = 'f1').min()\n",
        "max_f1_rs_u81_ann = accf1_rs_u81_ann.filter(regex = 'f1').max()\n",
        "\n",
        "print(f'Acurácia min: {min_acc_rs_u81_ann:.6f}')\n",
        "print(f'Acurácia max: {max_acc_rs_u81_ann:.6f}')\n",
        "print(f'F1 min: {min_f1_rs_u81_ann:.6f}')\n",
        "print(f'F1 max: {max_f1_rs_u81_ann:.6f}')\n",
        "\n",
        "res2_rs_u81_ann = res1_rs_u81_ann.filter(regex = r'(mean|std|params)')\n",
        "display(res2_rs_u81_ann.iloc[0])"
      ]
    },
    {
      "cell_type": "code",
      "execution_count": null,
      "metadata": {
        "id": "uT2wNB5JmiWA"
      },
      "outputs": [],
      "source": [
        "# ================================================================================\n",
        "# Matriz de Confusão - Validação Cruzada\n",
        "# ================================================================================\n",
        "cm_cv(rs_u81_ann, X_train_u81, y_train['Class'], y_train['Sample'], name = 'rs_u81_ann')"
      ]
    },
    {
      "cell_type": "code",
      "execution_count": null,
      "metadata": {
        "id": "3HQC25f4l9lb"
      },
      "outputs": [],
      "source": [
        "# ================================================================================\n",
        "# Desempenho no conjunto de teste\n",
        "# ================================================================================\n",
        "y_pred_rs_u81_ann = rs_u81_ann.predict(X_test_u81)\n",
        "acc_test_rs_u81_ann = accuracy_score(y_test[\"Class\"], y_pred_rs_u81_ann)\n",
        "f1_rs_u81_ann = f1_score(y_test[\"Class\"], y_pred_rs_u81_ann, average = 'weighted')\n",
        "print(f\"Best ANN Accuracy: {acc_test_rs_u81_ann:.2f}\")\n",
        "print(f\"Best ANN F1: {f1_rs_u81_ann:.6f}\")"
      ]
    },
    {
      "cell_type": "code",
      "execution_count": null,
      "metadata": {
        "id": "T7HT5FfUmC1-"
      },
      "outputs": [],
      "source": [
        "# ================================================================================\n",
        "# Matriz de Confusão - conjunto de teste (n = 566)\n",
        "# ================================================================================\n",
        "cm_rs_u81_ann = confusion_matrix(y_test['Class'], y_pred_rs_u81_ann)\n",
        "disp_rs_u81_ann = ConfusionMatrixDisplay(confusion_matrix = cm_rs_u81_ann, display_labels = rs_u81_ann.classes_)\n",
        "disp_rs_u81_ann.plot(cmap = 'Blues', xticks_rotation = 90)\n",
        "disp_rs_u81_ann.ax_.set_xlabel('Predito', fontsize=10, style='normal', fontweight = 'bold')\n",
        "disp_rs_u81_ann.ax_.set_ylabel(\"Observado\", fontsize=10, style='normal', fontweight = 'bold')\n",
        "disp_rs_u81_ann.ax_.xaxis.set_tick_params(labelsize=10)\n",
        "disp_rs_u81_ann.ax_.yaxis.set_tick_params(labelsize=10)\n",
        "plt.yticks(style='italic')\n",
        "plt.xticks(style='italic')\n",
        "\n",
        "plt.savefig(f'./Output/CM/cm_teste_u81_ann', dpi = 600, bbox_inches='tight')\n",
        "plt.show()"
      ]
    },
    {
      "cell_type": "code",
      "execution_count": null,
      "metadata": {
        "id": "v9Q_TEGtmGNJ"
      },
      "outputs": [],
      "source": [
        "# ================================================================================\n",
        "# Relatório de classificação (Conjunto de teste)\n",
        "# ================================================================================\n",
        "print(classification_report(y_test['Class'], y_pred_rs_u81_ann, target_names= rs_u81_ann.classes_))"
      ]
    },
    {
      "cell_type": "markdown",
      "metadata": {
        "id": "Qm-CRiES2Uni"
      },
      "source": [
        "#### **Modelo C2**: Usando features LBP Uniforme (P = 16, R = 2)"
      ]
    },
    {
      "cell_type": "code",
      "execution_count": null,
      "metadata": {
        "id": "QRyVyHBu2VIK"
      },
      "outputs": [],
      "source": [
        "# ================================================================================\n",
        "# Ajuste de Hiperparâmetros (Hyperparameter tuning) - RandomizedSearchCV()\n",
        "# ================================================================================\n",
        "\n",
        "param_grid = {\n",
        "    'hidden_layer_sizes': [(50,), (100,), (150,), (200,), (250,),\n",
        "                          (300,), (350,), (400,), (450,),(500,)],\n",
        "    'activation': ['relu', 'identity'],    # ['relu', 'tanh', 'logistic', 'identity']\n",
        "    'solver': ['adam', 'lbfgs'],           # ['sgd', 'adam', 'lbfgs']\n",
        "    'alpha': uniform(loc = 0.0001, scale = 0.09).rvs(size = 20, random_state = 10),\n",
        "    'learning_rate': ['constant','adaptive', 'invscaling']}\n",
        "\n",
        "# Create the RandomizedSearchCV object\n",
        "rs_u162_ann = RandomizedSearchCV(estimator = model_ann, param_distributions = param_grid,\n",
        "                                 scoring = metrics, cv = cv, refit = 'accuracy',\n",
        "                                 verbose = 3, return_train_score = False, n_iter = 20)\n",
        "\n",
        "rs_u162_ann.fit(X_train_u162, y_train['Class'], groups = y_train['Sample'])\n",
        "\n",
        "# Salvar modelo\n",
        "pickle.dump(rs_u162_ann, open(f'./Output/Models/rs_u162_ann.pickle', \"wb\"))\n",
        "joblib.dump(rs_u162_ann, open(f'./Output/Models/rs_u162_ann.joblib', \"wb\"))\n",
        "\n",
        "print(f'Os melhores parâmetros foram: {rs_u162_ann.best_params_}')\n",
        "print(f'A melhor acurácia foi de: {rs_u162_ann.best_score_:.4f}')\n",
        "print(f'O melhor modelo foi: {rs_u162_ann.best_estimator_}')"
      ]
    },
    {
      "cell_type": "code",
      "execution_count": null,
      "metadata": {
        "id": "fWPyB3Ry2Xn-"
      },
      "outputs": [],
      "source": [
        "# ================================================================================\n",
        "# Desempenho na Validação Cruzada (Stratified Group 5-fold cross-validation)\n",
        "# ================================================================================\n",
        "#rs_svc = pickle.load(open('./Output/Models/rs_svc.pickle', \"rb\"))\n",
        "res1_rs_u162_ann = pd.DataFrame(rs_u162_ann.cv_results_).filter(regex = r'(params|test)').sort_values(by=[\"rank_test_accuracy\"])\n",
        "\n",
        "accf1_rs_u162_ann = res1_rs_u162_ann.iloc[0].filter(regex = r'(accuracy|f1)').filter(regex = 'split')\n",
        "min_acc_rs_u162_ann = accf1_rs_u162_ann.filter(regex = 'accuracy').min()\n",
        "max_acc_rs_u162_ann = accf1_rs_u162_ann.filter(regex = 'accuracy').max()\n",
        "min_f1_rs_u162_ann = accf1_rs_u162_ann.filter(regex = 'f1').min()\n",
        "max_f1_rs_u162_ann = accf1_rs_u162_ann.filter(regex = 'f1').max()\n",
        "\n",
        "print(f'Acurácia min: {min_acc_rs_u162_ann:.6f}')\n",
        "print(f'Acurácia max: {max_acc_rs_u162_ann:.6f}')\n",
        "print(f'F1 min: {min_f1_rs_u162_ann:.6f}')\n",
        "print(f'F1 max: {max_f1_rs_u162_ann:.6f}')\n",
        "\n",
        "res2_rs_u162_ann = res1_rs_u162_ann.filter(regex = r'(mean|std|params)')\n",
        "display(res2_rs_u162_ann.iloc[0])"
      ]
    },
    {
      "cell_type": "code",
      "execution_count": null,
      "metadata": {
        "id": "rvvjy7wt2Wrn"
      },
      "outputs": [],
      "source": [
        "# ================================================================================\n",
        "# Matriz de Confusão - Validação Cruzada\n",
        "# ================================================================================\n",
        "cm_cv(rs_u162_ann, X_train_u162, y_train['Class'], y_train['Sample'], name = 'rs_u162_ann')"
      ]
    },
    {
      "cell_type": "code",
      "execution_count": null,
      "metadata": {
        "id": "9rn0IEqQ2Wiv"
      },
      "outputs": [],
      "source": [
        "# ================================================================================\n",
        "# Desempenho no conjunto de teste\n",
        "# ================================================================================\n",
        "y_pred_rs_u162_ann = rs_u162_ann.predict(X_test_u162)\n",
        "acc_test_rs_u162_ann = accuracy_score(y_test[\"Class\"], y_pred_rs_u162_ann)\n",
        "f1_rs_u162_ann = f1_score(y_test[\"Class\"], y_pred_rs_u162_ann, average = 'weighted')\n",
        "print(f\"Best ANN Accuracy: {acc_test_rs_u162_ann:.2f}\")\n",
        "print(f\"Best ANN F1: {f1_rs_u162_ann:.6f}\")"
      ]
    },
    {
      "cell_type": "code",
      "execution_count": null,
      "metadata": {
        "id": "MuGgpvf82V4H"
      },
      "outputs": [],
      "source": [
        "# ================================================================================\n",
        "# Matriz de Confusão - conjunto de teste (n = 566)\n",
        "# ================================================================================\n",
        "cm_rs_u162_ann = confusion_matrix(y_test['Class'], y_pred_rs_u162_ann)\n",
        "disp_rs_u162_ann = ConfusionMatrixDisplay(confusion_matrix = cm_rs_u162_ann, display_labels = rs_u162_ann.classes_)\n",
        "disp_rs_u162_ann.plot(cmap = 'Blues', xticks_rotation = 90)\n",
        "disp_rs_u162_ann.ax_.set_xlabel('Predito', fontsize=10, style='normal', fontweight = 'bold')\n",
        "disp_rs_u162_ann.ax_.set_ylabel(\"Observado\", fontsize=10, style='normal', fontweight = 'bold')\n",
        "disp_rs_u162_ann.ax_.xaxis.set_tick_params(labelsize=10)\n",
        "disp_rs_u162_ann.ax_.yaxis.set_tick_params(labelsize=10)\n",
        "plt.yticks(style='italic')\n",
        "plt.xticks(style='italic')\n",
        "\n",
        "plt.savefig(f'./Output/CM/cm_teste_u162_ann', dpi = 600, bbox_inches='tight')\n",
        "plt.show()"
      ]
    },
    {
      "cell_type": "code",
      "execution_count": null,
      "metadata": {
        "id": "n3jGJar72Vn8"
      },
      "outputs": [],
      "source": [
        "# ================================================================================\n",
        "# Relatório de classificação (Conjunto de teste)\n",
        "# ================================================================================\n",
        "print(classification_report(y_test['Class'], y_pred_rs_u162_ann, target_names= rs_u162_ann.classes_))"
      ]
    },
    {
      "cell_type": "markdown",
      "metadata": {
        "id": "vtogThs0JhCz"
      },
      "source": [
        "#### **Modelo C3**: Usando features LBP Uniforme (P = 24, R = 3)"
      ]
    },
    {
      "cell_type": "code",
      "execution_count": null,
      "metadata": {
        "id": "0P6zOatwJj5w"
      },
      "outputs": [],
      "source": [
        "# ================================================================================\n",
        "# Ajuste de Hiperparâmetros (Hyperparameter tuning) - RandomizedSearchCV()\n",
        "# ================================================================================\n",
        "\n",
        "param_grid = {\n",
        "    'hidden_layer_sizes': [(50,), (100,), (150,), (200,), (250,),\n",
        "                          (300,), (350,), (400,), (450,),(500,)],\n",
        "    'activation': ['relu', 'identity'],    # ['relu', 'tanh', 'logistic', 'identity']\n",
        "    'solver': ['adam', 'lbfgs'],           # ['sgd', 'adam', 'lbfgs']\n",
        "    'alpha': uniform(loc = 0.0001, scale = 0.09).rvs(size = 20, random_state = 10),\n",
        "    'learning_rate': ['constant','adaptive', 'invscaling']}\n",
        "\n",
        "# Create the RandomizedSearchCV object\n",
        "rs_u243_ann = RandomizedSearchCV(estimator = model_ann, param_distributions = param_grid,\n",
        "                                 scoring = metrics, cv = cv, refit = 'accuracy',\n",
        "                                 verbose = 3, return_train_score = False, n_iter = 20)\n",
        "\n",
        "rs_u243_ann.fit(X_train_u243, y_train['Class'], groups = y_train['Sample'])\n",
        "\n",
        "# Salvar modelo\n",
        "pickle.dump(rs_u243_ann, open(f'./Output/Models/rs_u243_ann.pickle', \"wb\"))\n",
        "joblib.dump(rs_u243_ann, open(f'./Output/Models/rs_u243_ann.joblib', \"wb\"))\n",
        "\n",
        "print(f'Os melhores parâmetros foram: {rs_u243_ann.best_params_}')\n",
        "print(f'A melhor acurácia foi de: {rs_u243_ann.best_score_:.4f}')\n",
        "print(f'O melhor modelo foi: {rs_u243_ann.best_estimator_}')"
      ]
    },
    {
      "cell_type": "code",
      "execution_count": null,
      "metadata": {
        "id": "J2sYKNi0JjvF"
      },
      "outputs": [],
      "source": [
        "# ================================================================================\n",
        "# Desempenho na Validação Cruzada (Stratified Group 5-fold cross-validation)\n",
        "# ================================================================================\n",
        "#rs_svc = pickle.load(open('./Output/Models/rs_svc.pickle', \"rb\"))\n",
        "res1_rs_u243_ann = pd.DataFrame(rs_u243_ann.cv_results_).filter(regex = r'(params|test)').sort_values(by=[\"rank_test_accuracy\"])\n",
        "\n",
        "accf1_rs_u243_ann = res1_rs_u243_ann.iloc[0].filter(regex = r'(accuracy|f1)').filter(regex = 'split')\n",
        "min_acc_rs_u243_ann = accf1_rs_u243_ann.filter(regex = 'accuracy').min()\n",
        "max_acc_rs_u243_ann = accf1_rs_u243_ann.filter(regex = 'accuracy').max()\n",
        "min_f1_rs_u243_ann = accf1_rs_u243_ann.filter(regex = 'f1').min()\n",
        "max_f1_rs_u243_ann = accf1_rs_u243_ann.filter(regex = 'f1').max()\n",
        "\n",
        "print(f'Acurácia min: {min_acc_rs_u243_ann:.6f}')\n",
        "print(f'Acurácia max: {max_acc_rs_u243_ann:.6f}')\n",
        "print(f'F1 min: {min_f1_rs_u243_ann:.6f}')\n",
        "print(f'F1 max: {max_f1_rs_u243_ann:.6f}')\n",
        "\n",
        "res2_rs_u243_ann = res1_rs_u243_ann.filter(regex = r'(mean|std|params)')\n",
        "display(res2_rs_u243_ann.iloc[0])"
      ]
    },
    {
      "cell_type": "code",
      "execution_count": null,
      "metadata": {
        "id": "hvs3B8T2JjkB"
      },
      "outputs": [],
      "source": [
        "# ================================================================================\n",
        "# Matriz de Confusão - Validação Cruzada\n",
        "# ================================================================================\n",
        "cm_cv(rs_u243_ann, X_train_u243, y_train['Class'], y_train['Sample'], name = 'rs_u243_ann')"
      ]
    },
    {
      "cell_type": "code",
      "execution_count": null,
      "metadata": {
        "id": "wvVjD23EJjVn"
      },
      "outputs": [],
      "source": [
        "# ================================================================================\n",
        "# Desempenho no conjunto de teste\n",
        "# ================================================================================\n",
        "y_pred_rs_u243_ann = rs_u243_ann.predict(X_test_u243)\n",
        "acc_test_rs_u243_ann = accuracy_score(y_test[\"Class\"], y_pred_rs_u243_ann)\n",
        "f1_rs_u243_ann = f1_score(y_test[\"Class\"], y_pred_rs_u243_ann, average = 'weighted')\n",
        "print(f\"Best ANN Accuracy: {acc_test_rs_u243_ann:.2f}\")\n",
        "print(f\"Best ANN F1: {f1_rs_u243_ann:.6f}\")"
      ]
    },
    {
      "cell_type": "code",
      "execution_count": null,
      "metadata": {
        "id": "NqfCviymJjKW"
      },
      "outputs": [],
      "source": [
        "# ================================================================================\n",
        "# Matriz de Confusão - conjunto de teste (n = 566)\n",
        "# ================================================================================\n",
        "cm_rs_u243_ann = confusion_matrix(y_test['Class'], y_pred_rs_u243_ann)\n",
        "disp_rs_u243_ann = ConfusionMatrixDisplay(confusion_matrix = cm_rs_u243_ann, display_labels = rs_u243_ann.classes_)\n",
        "disp_rs_u243_ann.plot(cmap = 'Blues', xticks_rotation = 90)\n",
        "disp_rs_u243_ann.ax_.set_xlabel('Predito', fontsize=10, style='normal', fontweight = 'bold')\n",
        "disp_rs_u243_ann.ax_.set_ylabel(\"Observado\", fontsize=10, style='normal', fontweight = 'bold')\n",
        "disp_rs_u243_ann.ax_.xaxis.set_tick_params(labelsize=10)\n",
        "disp_rs_u243_ann.ax_.yaxis.set_tick_params(labelsize=10)\n",
        "plt.yticks(style='italic')\n",
        "plt.xticks(style='italic')\n",
        "\n",
        "plt.savefig(f'./Output/CM/cm_teste_u243_ann', dpi = 600, bbox_inches='tight')\n",
        "plt.show()"
      ]
    },
    {
      "cell_type": "code",
      "execution_count": null,
      "metadata": {
        "id": "JJ3HfrQmJjAL"
      },
      "outputs": [],
      "source": [
        "# ================================================================================\n",
        "# Relatório de classificação (Conjunto de teste)\n",
        "# ================================================================================\n",
        "print(classification_report(y_test['Class'], y_pred_rs_u243_ann, target_names= rs_u243_ann.classes_))"
      ]
    },
    {
      "cell_type": "markdown",
      "metadata": {
        "id": "cPi7Ugqliifc"
      },
      "source": [
        "#### **Modelo C4**: Usando features LBP Uniforme (Todos)"
      ]
    },
    {
      "cell_type": "code",
      "execution_count": null,
      "metadata": {
        "id": "ialQ6utTilS4"
      },
      "outputs": [],
      "source": [
        "# ================================================================================\n",
        "# Ajuste de Hiperparâmetros (Hyperparameter tuning) - RandomizedSearchCV()\n",
        "# ================================================================================\n",
        "\n",
        "param_grid = {\n",
        "    'hidden_layer_sizes': [(50,), (100,), (150,), (200,), (250,),\n",
        "                          (300,), (350,), (400,), (450,),(500,)],\n",
        "    'activation': ['relu', 'identity'],    # ['relu', 'tanh', 'logistic', 'identity']\n",
        "    'solver': ['adam', 'lbfgs'],           # ['sgd', 'adam', 'lbfgs']\n",
        "    'alpha': uniform(loc = 0.0001, scale = 0.09).rvs(size = 20, random_state = 10),\n",
        "    'learning_rate': ['constant','adaptive', 'invscaling']}\n",
        "\n",
        "# Create the RandomizedSearchCV object\n",
        "rs_uni_ann = RandomizedSearchCV(estimator = model_ann, param_distributions = param_grid,\n",
        "                                 scoring = metrics, cv = cv, refit = 'accuracy',\n",
        "                                 verbose = 3, return_train_score = False, n_iter = 20)\n",
        "\n",
        "rs_uni_ann.fit(X_train_u, y_train['Class'], groups = y_train['Sample'])\n",
        "\n",
        "pickle.dump(rs_uni_ann, open(f'./Output/Models/rs_uni_ann.pickle', \"wb\"))\n",
        "\n",
        "print(f'Os melhores parâmetros foram: {rs_uni_ann.best_params_}')\n",
        "print(f'A melhor acurácia foi de: {rs_uni_ann.best_score_:.4f}')\n",
        "print(f'O melhor modelo foi: {rs_uni_ann.best_estimator_}')"
      ]
    },
    {
      "cell_type": "code",
      "execution_count": null,
      "metadata": {
        "id": "R3SRMCg_ilHb"
      },
      "outputs": [],
      "source": [
        "# ================================================================================\n",
        "# Desempenho na Validação Cruzada (Stratified Group 5-fold cross-validation)\n",
        "# ================================================================================\n",
        "#rs_svc = pickle.load(open('./Output/Models/rs_svc.pickle', \"rb\"))\n",
        "res1_rs_uni_ann = pd.DataFrame(rs_uni_ann.cv_results_).filter(regex = r'(params|test)').sort_values(by=[\"rank_test_accuracy\"])\n",
        "\n",
        "accf1_rs_uni_ann = res1_rs_uni_ann.iloc[0].filter(regex = r'(accuracy|f1)').filter(regex = 'split')\n",
        "min_acc_rs_uni_ann = accf1_rs_uni_ann.filter(regex = 'accuracy').min()\n",
        "max_acc_rs_uni_ann = accf1_rs_uni_ann.filter(regex = 'accuracy').max()\n",
        "min_f1_rs_uni_ann = accf1_rs_uni_ann.filter(regex = 'f1').min()\n",
        "max_f1_rs_uni_ann = accf1_rs_uni_ann.filter(regex = 'f1').max()\n",
        "\n",
        "print(f'Acurácia min: {min_acc_rs_uni_ann:.6f}')\n",
        "print(f'Acurácia max: {max_acc_rs_uni_ann:.6f}')\n",
        "print(f'F1 min: {min_f1_rs_uni_ann:.6f}')\n",
        "print(f'F1 max: {max_f1_rs_uni_ann:.6f}')\n",
        "\n",
        "res2_rs_uni_ann = res1_rs_uni_ann.filter(regex = r'(mean|std|params)')\n",
        "display(res2_rs_uni_ann.iloc[0])"
      ]
    },
    {
      "cell_type": "code",
      "execution_count": null,
      "metadata": {
        "id": "8rl80jIrik8P"
      },
      "outputs": [],
      "source": [
        "# ================================================================================\n",
        "# Matriz de Confusão - Validação Cruzada\n",
        "# ================================================================================\n",
        "cm_cv(rs_uni_ann, X_train_u, y_train['Class'], y_train['Sample'], name = 'rs_uni_ann')"
      ]
    },
    {
      "cell_type": "code",
      "execution_count": null,
      "metadata": {
        "id": "SaiM-2Rkikx0"
      },
      "outputs": [],
      "source": [
        "# ================================================================================\n",
        "# Desempenho no conjunto de teste\n",
        "# ================================================================================\n",
        "y_pred_rs_uni_ann = rs_uni_ann.predict(X_test_u)\n",
        "acc_test_rs_uni_ann = accuracy_score(y_test[\"Class\"], y_pred_rs_uni_ann)\n",
        "f1_rs_uni_ann = f1_score(y_test[\"Class\"], y_pred_rs_uni_ann, average = 'weighted')\n",
        "print(f\"Best ANN Accuracy: {acc_test_rs_uni_ann:.2f}\")\n",
        "print(f\"Best ANN F1: {f1_rs_uni_ann:.6f}\")"
      ]
    },
    {
      "cell_type": "code",
      "execution_count": null,
      "metadata": {
        "id": "ACelDjgsiklq"
      },
      "outputs": [],
      "source": [
        "# ================================================================================\n",
        "# Matriz de Confusão - conjunto de teste (n = 566)\n",
        "# ================================================================================\n",
        "cm_rs_uni_ann = confusion_matrix(y_test['Class'], y_pred_rs_uni_ann)\n",
        "disp_rs_uni_ann = ConfusionMatrixDisplay(confusion_matrix = cm_rs_uni_ann, display_labels = rs_uni_ann.classes_)\n",
        "disp_rs_uni_ann.plot(cmap = 'Blues', xticks_rotation = 90)\n",
        "disp_rs_uni_ann.ax_.set_xlabel('Predito', fontsize=10, style='normal', fontweight = 'bold')\n",
        "disp_rs_uni_ann.ax_.set_ylabel(\"Observado\", fontsize=10, style='normal', fontweight = 'bold')\n",
        "disp_rs_uni_ann.ax_.xaxis.set_tick_params(labelsize=10)\n",
        "disp_rs_uni_ann.ax_.yaxis.set_tick_params(labelsize=10)\n",
        "plt.yticks(style='italic')\n",
        "plt.xticks(style='italic')\n",
        "\n",
        "plt.savefig(f'./Output/CM/cm_teste_uni_ann', dpi = 600, bbox_inches='tight')\n",
        "plt.show()"
      ]
    },
    {
      "cell_type": "code",
      "execution_count": null,
      "metadata": {
        "id": "7_NWpcG3i4Zd"
      },
      "outputs": [],
      "source": [
        "# ================================================================================\n",
        "# Relatório de classificação (Conjunto de teste)\n",
        "# ================================================================================\n",
        "print(classification_report(y_test['Class'], y_pred_rs_uni_ann, target_names= rs_uni_ann.classes_))"
      ]
    },
    {
      "cell_type": "markdown",
      "metadata": {
        "id": "TVwTghifxM_c"
      },
      "source": [
        "#### **Modelo C5**: Usando features LBP Uniforme Não Invariante (P = 8, R = 1)"
      ]
    },
    {
      "cell_type": "code",
      "execution_count": null,
      "metadata": {
        "id": "tU1e-o3mxRkv"
      },
      "outputs": [],
      "source": [
        "# ================================================================================\n",
        "# Ajuste de Hiperparâmetros (Hyperparameter tuning) - RandomizedSearchCV()\n",
        "# ================================================================================\n",
        "\n",
        "param_grid = {\n",
        "    'hidden_layer_sizes': [(50,), (100,), (150,), (200,), (250,),\n",
        "                          (300,), (350,), (400,), (450,),(500,)],\n",
        "    'activation': ['relu', 'identity'],    # ['relu', 'tanh', 'logistic', 'identity']\n",
        "    'solver': ['adam', 'lbfgs'],           # ['sgd', 'adam', 'lbfgs']\n",
        "    'alpha': uniform(loc = 0.0001, scale = 0.09).rvs(size = 20, random_state = 10),\n",
        "    'learning_rate': ['constant','adaptive', 'invscaling']}\n",
        "\n",
        "# Create the RandomizedSearchCV object\n",
        "rs_nri81_ann = RandomizedSearchCV(estimator = model_ann, param_distributions = param_grid,\n",
        "                                 scoring = metrics, cv = cv, refit = 'accuracy',\n",
        "                                 verbose = 3, return_train_score = False, n_iter = 20)\n",
        "\n",
        "rs_nri81_ann.fit(X_train_nri81, y_train['Class'], groups = y_train['Sample'])\n",
        "\n",
        "# Salvar modelo\n",
        "pickle.dump(rs_nri81_ann, open(f'./Output/Models/rs_nri81_ann.pickle', \"wb\"))\n",
        "joblib.dump(rs_nri81_ann, open(f'./Output/Models/rs_nri81_ann.joblib', \"wb\"))\n",
        "\n",
        "print(f'Os melhores parâmetros foram: {rs_nri81_ann.best_params_}')\n",
        "print(f'A melhor acurácia foi de: {rs_nri81_ann.best_score_:.4f}')\n",
        "print(f'O melhor modelo foi: {rs_nri81_ann.best_estimator_}')"
      ]
    },
    {
      "cell_type": "code",
      "execution_count": null,
      "metadata": {
        "id": "JEoE1cO9xPkI"
      },
      "outputs": [],
      "source": [
        "# ================================================================================\n",
        "# Desempenho na Validação Cruzada (Stratified Group 5-fold cross-validation)\n",
        "# ================================================================================\n",
        "#rs_svc = pickle.load(open('./Output/Models/rs_svc.pickle', \"rb\"))\n",
        "res1_rs_nri81_ann = pd.DataFrame(rs_nri81_ann.cv_results_).filter(regex = r'(params|test)').sort_values(by=[\"rank_test_accuracy\"])\n",
        "\n",
        "accf1_rs_nri81_ann = res1_rs_nri81_ann.iloc[0].filter(regex = r'(accuracy|f1)').filter(regex = 'split')\n",
        "min_acc_rs_nri81_ann = accf1_rs_nri81_ann.filter(regex = 'accuracy').min()\n",
        "max_acc_rs_nri81_ann = accf1_rs_nri81_ann.filter(regex = 'accuracy').max()\n",
        "min_f1_rs_nri81_ann = accf1_rs_nri81_ann.filter(regex = 'f1').min()\n",
        "max_f1_rs_nri81_ann = accf1_rs_nri81_ann.filter(regex = 'f1').max()\n",
        "\n",
        "print(f'Acurácia min: {min_acc_rs_nri81_ann:.6f}')\n",
        "print(f'Acurácia max: {max_acc_rs_nri81_ann:.6f}')\n",
        "print(f'F1 min: {min_f1_rs_nri81_ann:.6f}')\n",
        "print(f'F1 max: {max_f1_rs_nri81_ann:.6f}')\n",
        "\n",
        "res2_rs_nri81_ann = res1_rs_nri81_ann.filter(regex = r'(mean|std|params)')\n",
        "display(res2_rs_nri81_ann.iloc[0])"
      ]
    },
    {
      "cell_type": "code",
      "execution_count": null,
      "metadata": {
        "id": "70ufsxBjxPdQ"
      },
      "outputs": [],
      "source": [
        "# ================================================================================\n",
        "# Matriz de Confusão - Validação Cruzada\n",
        "# ================================================================================\n",
        "cm_cv(rs_nri81_ann, X_train_nri81, y_train['Class'], y_train['Sample'], name = 'rs_nri81_ann')"
      ]
    },
    {
      "cell_type": "code",
      "execution_count": null,
      "metadata": {
        "id": "W7as8FaXxPU_"
      },
      "outputs": [],
      "source": [
        "# ================================================================================\n",
        "# Desempenho no conjunto de teste\n",
        "# ================================================================================\n",
        "y_pred_rs_nri81_ann = rs_nri81_ann.predict(X_test_nri81)\n",
        "acc_test_rs_nri81_ann = accuracy_score(y_test[\"Class\"], y_pred_rs_nri81_ann)\n",
        "f1_rs_nri81_ann = f1_score(y_test[\"Class\"], y_pred_rs_nri81_ann, average = 'weighted')\n",
        "print(f\"Best ANN Accuracy: {acc_test_rs_nri81_ann:.2f}\")\n",
        "print(f\"Best ANN F1: {f1_rs_nri81_ann:.6f}\")"
      ]
    },
    {
      "cell_type": "code",
      "execution_count": null,
      "metadata": {
        "id": "EYcWs-xuxPNP"
      },
      "outputs": [],
      "source": [
        "# ================================================================================\n",
        "# Matriz de Confusão - conjunto de teste (n = 566)\n",
        "# ================================================================================\n",
        "cm_rs_nri81_ann = confusion_matrix(y_test['Class'], y_pred_rs_nri81_ann)\n",
        "disp_rs_nri81_ann = ConfusionMatrixDisplay(confusion_matrix = cm_rs_nri81_ann, display_labels = rs_nri81_ann.classes_)\n",
        "disp_rs_nri81_ann.plot(cmap = 'Blues', xticks_rotation = 90)\n",
        "disp_rs_nri81_ann.ax_.set_xlabel('Predito', fontsize=10, style='normal', fontweight = 'bold')\n",
        "disp_rs_nri81_ann.ax_.set_ylabel(\"Observado\", fontsize=10, style='normal', fontweight = 'bold')\n",
        "disp_rs_nri81_ann.ax_.xaxis.set_tick_params(labelsize=10)\n",
        "disp_rs_nri81_ann.ax_.yaxis.set_tick_params(labelsize=10)\n",
        "plt.yticks(style='italic')\n",
        "plt.xticks(style='italic')\n",
        "\n",
        "plt.savefig(f'./Output/CM/cm_teste_nri81_ann', dpi = 600, bbox_inches='tight')\n",
        "plt.show()"
      ]
    },
    {
      "cell_type": "code",
      "execution_count": null,
      "metadata": {
        "id": "L5uSHNtfxPGY"
      },
      "outputs": [],
      "source": [
        "# ================================================================================\n",
        "# Relatório de classificação (Conjunto de teste)\n",
        "# ================================================================================\n",
        "print(classification_report(y_test['Class'], y_pred_rs_nri81_ann, target_names= rs_nri81_ann.classes_))"
      ]
    },
    {
      "cell_type": "markdown",
      "metadata": {
        "id": "RFWCYX0S0v3r"
      },
      "source": [
        "#### **Modelo C6**: Usando features LBP Uniforme Não Invariante (P = 16, R = 2)"
      ]
    },
    {
      "cell_type": "code",
      "execution_count": null,
      "metadata": {
        "id": "BBcsBwYm0ciS"
      },
      "outputs": [],
      "source": [
        "# ================================================================================\n",
        "# Ajuste de Hiperparâmetros (Hyperparameter tuning) - RandomizedSearchCV()\n",
        "# ================================================================================\n",
        "\n",
        "param_grid = {\n",
        "    'hidden_layer_sizes': [(50,), (100,), (150,), (200,), (250,),\n",
        "                          (300,), (350,), (400,), (450,),(500,)],\n",
        "    'activation': ['relu', 'identity'],    # ['relu', 'tanh', 'logistic', 'identity']\n",
        "    'solver': ['adam', 'lbfgs'],           # ['sgd', 'adam', 'lbfgs']\n",
        "    'alpha': uniform(loc = 0.0001, scale = 0.09).rvs(size = 20, random_state = 10),\n",
        "    'learning_rate': ['constant','adaptive', 'invscaling']}\n",
        "\n",
        "# Create the RandomizedSearchCV object\n",
        "rs_nri162_ann = RandomizedSearchCV(estimator = model_ann, param_distributions = param_grid,\n",
        "                                 scoring = metrics, cv = cv, refit = 'accuracy',\n",
        "                                 verbose = 3, return_train_score = False, n_iter = 20)\n",
        "\n",
        "rs_nri162_ann.fit(X_train_nri162, y_train['Class'], groups = y_train['Sample'])\n",
        "\n",
        "# Salvar modelo\n",
        "pickle.dump(rs_nri162_ann, open(f'./Output/Models/rs_nri162_ann.pickle', \"wb\"))\n",
        "pickle.joblib(rs_nri162_ann, open(f'./Output/Models/rs_nri162_ann.joblib', \"wb\"))\n",
        "\n",
        "print(f'Os melhores parâmetros foram: {rs_nri162_ann.best_params_}')\n",
        "print(f'A melhor acurácia foi de: {rs_nri162_ann.best_score_:.4f}')\n",
        "print(f'O melhor modelo foi: {rs_nri162_ann.best_estimator_}')"
      ]
    },
    {
      "cell_type": "code",
      "execution_count": null,
      "metadata": {
        "id": "BeC_ns-90ciY"
      },
      "outputs": [],
      "source": [
        "# ================================================================================\n",
        "# Desempenho na Validação Cruzada (Stratified Group 5-fold cross-validation)\n",
        "# ================================================================================\n",
        "#rs_svc = pickle.load(open('./Output/Models/rs_svc.pickle', \"rb\"))\n",
        "res1_rs_nri162_ann = pd.DataFrame(rs_nri162_ann.cv_results_).filter(regex = r'(params|test)').sort_values(by=[\"rank_test_accuracy\"])\n",
        "\n",
        "accf1_rs_nri162_ann = res1_rs_nri162_ann.iloc[0].filter(regex = r'(accuracy|f1)').filter(regex = 'split')\n",
        "min_acc_rs_nri162_ann = accf1_rs_nri162_ann.filter(regex = 'accuracy').min()\n",
        "max_acc_rs_nri162_ann = accf1_rs_nri162_ann.filter(regex = 'accuracy').max()\n",
        "min_f1_rs_nri162_ann = accf1_rs_nri162_ann.filter(regex = 'f1').min()\n",
        "max_f1_rs_nri162_ann = accf1_rs_nri162_ann.filter(regex = 'f1').max()\n",
        "\n",
        "print(f'Acurácia min: {min_acc_rs_nri162_ann:.6f}')\n",
        "print(f'Acurácia max: {max_acc_rs_nri162_ann:.6f}')\n",
        "print(f'F1 min: {min_f1_rs_nri162_ann:.6f}')\n",
        "print(f'F1 max: {max_f1_rs_nri162_ann:.6f}')\n",
        "\n",
        "res2_rs_nri162_ann = res1_rs_nri162_ann.filter(regex = r'(mean|std|params)')\n",
        "display(res2_rs_nri162_ann.iloc[0])\n",
        "#display(res2_rs_svc[:1])"
      ]
    },
    {
      "cell_type": "code",
      "execution_count": null,
      "metadata": {
        "id": "ajWEteur0ciZ"
      },
      "outputs": [],
      "source": [
        "# ================================================================================\n",
        "# Matriz de Confusão - Validação Cruzada\n",
        "# ================================================================================\n",
        "cm_cv(rs_nri162_ann, X_train_nri162, y_train['Class'], y_train['Sample'], name = 'rs_nri162_ann')"
      ]
    },
    {
      "cell_type": "code",
      "execution_count": null,
      "metadata": {
        "id": "vMO3v7Bf0ciZ"
      },
      "outputs": [],
      "source": [
        "# ================================================================================\n",
        "# Desempenho no conjunto de teste\n",
        "# ================================================================================\n",
        "y_pred_rs_nri162_ann = rs_nri162_ann.predict(X_test_nri162)\n",
        "acc_test_rs_nri162_ann = accuracy_score(y_test[\"Class\"], y_pred_rs_nri162_ann)\n",
        "f1_rs_nri162_ann = f1_score(y_test[\"Class\"], y_pred_rs_nri162_ann, average = 'weighted')\n",
        "print(f\"Best ANN Accuracy: {acc_test_rs_nri162_ann:.2f}\")\n",
        "print(f\"Best ANN F1: {f1_rs_nri162_ann:.6f}\")"
      ]
    },
    {
      "cell_type": "code",
      "execution_count": null,
      "metadata": {
        "id": "cdEImzbi0cia"
      },
      "outputs": [],
      "source": [
        "# ================================================================================\n",
        "# Matriz de Confusão - conjunto de teste (n = 566)\n",
        "# ================================================================================\n",
        "cm_rs_nri162_ann = confusion_matrix(y_test['Class'], y_pred_rs_nri162_ann)\n",
        "disp_rs_nri162_ann = ConfusionMatrixDisplay(confusion_matrix = cm_rs_nri162_ann, display_labels = rs_nri162_ann.classes_)\n",
        "disp_rs_nri162_ann.plot(cmap = 'Blues', xticks_rotation = 90)\n",
        "disp_rs_nri162_ann.ax_.set_xlabel('Predito', fontsize=10, style='normal', fontweight = 'bold')\n",
        "disp_rs_nri162_ann.ax_.set_ylabel(\"Observado\", fontsize=10, style='normal', fontweight = 'bold')\n",
        "disp_rs_nri162_ann.ax_.xaxis.set_tick_params(labelsize=10)\n",
        "disp_rs_nri162_ann.ax_.yaxis.set_tick_params(labelsize=10)\n",
        "plt.yticks(style='italic')\n",
        "plt.xticks(style='italic')\n",
        "\n",
        "plt.savefig(f'./Output/CM/cm_teste_nri162_ann', dpi = 600, bbox_inches='tight')\n",
        "plt.show()"
      ]
    },
    {
      "cell_type": "code",
      "execution_count": null,
      "metadata": {
        "id": "s21GcR8Z0cia"
      },
      "outputs": [],
      "source": [
        "# ================================================================================\n",
        "# Relatório de classificação (Conjunto de teste)\n",
        "# ================================================================================\n",
        "print(classification_report(y_test['Class'], y_pred_rs_nri162_ann, target_names= rs_nri162_ann.classes_))"
      ]
    },
    {
      "cell_type": "markdown",
      "metadata": {
        "id": "yWuR4i-X5D3v"
      },
      "source": [
        "#### **Modelo C7**: Usando features LBP Uniforme Não Invariante (P = 24, R = 3)"
      ]
    },
    {
      "cell_type": "code",
      "execution_count": null,
      "metadata": {
        "id": "m_zaW2AQ46Q7"
      },
      "outputs": [],
      "source": [
        "# ================================================================================\n",
        "# Ajuste de Hiperparâmetros (Hyperparameter tuning) - RandomizedSearchCV()\n",
        "# ================================================================================\n",
        "\n",
        "param_grid = {\n",
        "    'hidden_layer_sizes': [(50,), (100,), (150,), (200,), (250,),\n",
        "                          (300,), (350,), (400,), (450,),(500,)],\n",
        "    'activation': ['relu', 'identity'],    # ['relu', 'tanh', 'logistic', 'identity']\n",
        "    'solver': ['adam', 'lbfgs'],           # ['sgd', 'adam', 'lbfgs']\n",
        "    'alpha': uniform(loc = 0.0001, scale = 0.09).rvs(size = 20, random_state = 10),\n",
        "    'learning_rate': ['constant','adaptive', 'invscaling']}\n",
        "\n",
        "# Create the RandomizedSearchCV object\n",
        "rs_nri243_ann = RandomizedSearchCV(estimator = model_ann, param_distributions = param_grid,\n",
        "                                 scoring = metrics, cv = cv, refit = 'accuracy',\n",
        "                                 verbose = 3, return_train_score = False, n_iter = 20)\n",
        "\n",
        "rs_nri243_ann.fit(X_train_nri243, y_train['Class'], groups = y_train['Sample'])\n",
        "\n",
        "# Salvar modelo\n",
        "pickle.dump(rs_nri243_ann, open(f'./Output/Models_LBP/rs_nri243_ann.pickle', \"wb\"))\n",
        "joblib.dump(rs_nri243_ann, open(f'./Output/Models_LBP/rs_nri243_ann.joblib', \"wb\"))\n",
        "\n",
        "print(f'Os melhores parâmetros foram: {rs_nri243_ann.best_params_}')\n",
        "print(f'A melhor acurácia foi de: {rs_nri243_ann.best_score_:.4f}')\n",
        "print(f'O melhor modelo foi: {rs_nri243_ann.best_estimator_}')"
      ]
    },
    {
      "cell_type": "code",
      "execution_count": null,
      "metadata": {
        "id": "cEwA9S3i46RG"
      },
      "outputs": [],
      "source": [
        "# ================================================================================\n",
        "# Desempenho na Validação Cruzada (Stratified Group 5-fold cross-validation)\n",
        "# ================================================================================\n",
        "#rs_svc = pickle.load(open('./Output/Models/rs_svc.pickle', \"rb\"))\n",
        "res1_rs_nri243_ann = pd.DataFrame(rs_nri243_ann.cv_results_).filter(regex = r'(params|test)').sort_values(by=[\"rank_test_accuracy\"])\n",
        "\n",
        "accf1_rs_nri243_ann = res1_rs_nri243_ann.iloc[0].filter(regex = r'(accuracy|f1)').filter(regex = 'split')\n",
        "min_acc_rs_nri243_ann = accf1_rs_nri243_ann.filter(regex = 'accuracy').min()\n",
        "max_acc_rs_nri243_ann = accf1_rs_nri243_ann.filter(regex = 'accuracy').max()\n",
        "min_f1_rs_nri243_ann = accf1_rs_nri243_ann.filter(regex = 'f1').min()\n",
        "max_f1_rs_nri243_ann = accf1_rs_nri243_ann.filter(regex = 'f1').max()\n",
        "\n",
        "print(f'Acurácia min: {min_acc_rs_nri243_ann:.6f}')\n",
        "print(f'Acurácia max: {max_acc_rs_nri243_ann:.6f}')\n",
        "print(f'F1 min: {min_f1_rs_nri243_ann:.6f}')\n",
        "print(f'F1 max: {max_f1_rs_nri243_ann:.6f}')\n",
        "\n",
        "res2_rs_nri243_ann = res1_rs_nri243_ann.filter(regex = r'(mean|std|params)')\n",
        "display(res2_rs_nri243_ann.iloc[0])"
      ]
    },
    {
      "cell_type": "code",
      "execution_count": null,
      "metadata": {
        "id": "b9DaeSKt46RG"
      },
      "outputs": [],
      "source": [
        "# ================================================================================\n",
        "# Matriz de Confusão - Validação Cruzada\n",
        "# ================================================================================\n",
        "cm_cv(rs_nri243_ann, X_train_nri243, y_train['Class'], y_train['Sample'], name = 'rs_nri243_ann')"
      ]
    },
    {
      "cell_type": "code",
      "execution_count": null,
      "metadata": {
        "id": "4vpKGMGU46RG"
      },
      "outputs": [],
      "source": [
        "# ================================================================================\n",
        "# Desempenho no conjunto de teste\n",
        "# ================================================================================\n",
        "y_pred_rs_nri243_ann = rs_nri243_ann.predict(X_test_nri243)\n",
        "acc_test_rs_nri243_ann = accuracy_score(y_test[\"Class\"], y_pred_rs_nri243_ann)\n",
        "f1_rs_nri243_ann = f1_score(y_test[\"Class\"], y_pred_rs_nri243_ann, average = 'weighted')\n",
        "print(f\"Best ANN Accuracy: {acc_test_rs_nri243_ann:.2f}\")\n",
        "print(f\"Best ANN F1: {f1_rs_nri243_ann:.6f}\")"
      ]
    },
    {
      "cell_type": "code",
      "execution_count": null,
      "metadata": {
        "id": "NIfzIUq846RH"
      },
      "outputs": [],
      "source": [
        "# ================================================================================\n",
        "# Matriz de Confusão - conjunto de teste (n = 566)\n",
        "# ================================================================================\n",
        "cm_rs_nri243_ann = confusion_matrix(y_test['Class'], y_pred_rs_nri243_ann)\n",
        "disp_rs_nri243_ann = ConfusionMatrixDisplay(confusion_matrix = cm_rs_nri243_ann, display_labels = rs_nri243_ann.classes_)\n",
        "disp_rs_nri243_ann.plot(cmap = 'Blues', xticks_rotation = 90)\n",
        "disp_rs_nri243_ann.ax_.set_xlabel('Predito', fontsize=10, style='normal', fontweight = 'bold')\n",
        "disp_rs_nri243_ann.ax_.set_ylabel(\"Observado\", fontsize=10, style='normal', fontweight = 'bold')\n",
        "disp_rs_nri243_ann.ax_.xaxis.set_tick_params(labelsize=10)\n",
        "disp_rs_nri243_ann.ax_.yaxis.set_tick_params(labelsize=10)\n",
        "plt.yticks(style='italic')\n",
        "plt.xticks(style='italic')\n",
        "\n",
        "plt.savefig(f'./Output/CM_LBP/cm_teste_nri243_ann', dpi = 600, bbox_inches='tight')\n",
        "plt.show()"
      ]
    },
    {
      "cell_type": "code",
      "execution_count": null,
      "metadata": {
        "id": "7BuUJhn546RH"
      },
      "outputs": [],
      "source": [
        "# ================================================================================\n",
        "# Relatório de classificação (Conjunto de teste)\n",
        "# ================================================================================\n",
        "print(classification_report(y_test['Class'], y_pred_rs_nri243_ann, target_names= rs_nri243_ann.classes_))"
      ]
    },
    {
      "cell_type": "markdown",
      "metadata": {
        "id": "SP4r8lRk75F2"
      },
      "source": [
        "#### **Modelo C8**: Usando features LBP Uniforme Não Invariante (Todos)"
      ]
    },
    {
      "cell_type": "code",
      "execution_count": null,
      "metadata": {
        "colab": {
          "background_save": true
        },
        "id": "aCKoSjjrRIox"
      },
      "outputs": [],
      "source": [
        "# ================================================================================\n",
        "# Ajuste de Hiperparâmetros (Hyperparameter tuning) - RandomizedSearchCV()\n",
        "# ================================================================================\n",
        "\n",
        "param_grid = {\n",
        "    'hidden_layer_sizes': [(50,), (100,), (150,), (200,), (250,),\n",
        "                          (300,), (350,), (400,), (450,),(500,)],\n",
        "    'activation': ['relu', 'identity'],    # ['relu', 'tanh', 'logistic', 'identity']\n",
        "    'solver': ['adam', 'lbfgs', 'sgd'],           # ['sgd', 'adam', 'lbfgs']\n",
        "    'alpha': uniform(loc = 0.0001, scale = 0.09).rvs(size = 20, random_state = 10),\n",
        "    'learning_rate': ['constant','adaptive', 'invscaling']}\n",
        "\n",
        "# Create the RandomizedSearchCV object\n",
        "rs_nri_ann = RandomizedSearchCV(estimator = model_ann, param_distributions = param_grid,\n",
        "                                 scoring = metrics, cv = cv, refit = 'accuracy',\n",
        "                                 verbose = 3, return_train_score = False, n_iter = 20)\n",
        "\n",
        "rs_nri_ann.fit(X_train_nri, y_train['Class'], groups = y_train['Sample'])\n",
        "\n",
        "# Salvar modelo\n",
        "pickle.dump(rs_nri_ann, open(f'./Output_patches/Models_LBP/rs_nri_ann.pickle', \"wb\"))\n",
        "joblib.dump(rs_nri_ann, open(f'./Output_patches/Models_LBP/rs_nri_ann.joblib', \"wb\"))\n",
        "\n",
        "print(f'Os melhores parâmetros foram: {rs_nri_ann.best_params_}')\n",
        "print(f'A melhor acurácia foi de: {rs_nri_ann.best_score_:.4f}')\n",
        "print(f'O melhor modelo foi: {rs_nri_ann.best_estimator_}')"
      ]
    },
    {
      "cell_type": "code",
      "execution_count": null,
      "metadata": {
        "id": "Rcky8unURIpH"
      },
      "outputs": [],
      "source": [
        "# ================================================================================\n",
        "# Desempenho na Validação Cruzada (Stratified Group 5-fold cross-validation)\n",
        "# ================================================================================\n",
        "#rs_svc = pickle.load(open('./Output/Models/rs_svc.pickle', \"rb\"))\n",
        "res1_rs_nri_ann = pd.DataFrame(rs_nri_ann.cv_results_).filter(regex = r'(params|test)').sort_values(by=[\"rank_test_accuracy\"])\n",
        "\n",
        "accf1_rs_nri_ann = res1_rs_nri_ann.iloc[0].filter(regex = r'(accuracy|f1)').filter(regex = 'split')\n",
        "min_acc_rs_nri_ann = accf1_rs_nri_ann.filter(regex = 'accuracy').min()\n",
        "max_acc_rs_nri_ann = accf1_rs_nri_ann.filter(regex = 'accuracy').max()\n",
        "min_f1_rs_nri_ann = accf1_rs_nri_ann.filter(regex = 'f1').min()\n",
        "max_f1_rs_nri_ann = accf1_rs_nri_ann.filter(regex = 'f1').max()\n",
        "\n",
        "print(f'Acurácia min: {min_acc_rs_nri_ann:.6f}')\n",
        "print(f'Acurácia max: {max_acc_rs_nri_ann:.6f}')\n",
        "print(f'F1 min: {min_f1_rs_nri_ann:.6f}')\n",
        "print(f'F1 max: {max_f1_rs_nri_ann:.6f}')\n",
        "\n",
        "res2_rs_nri_ann = res1_rs_nri_ann.filter(regex = r'(mean|std|params)')\n",
        "display(res2_rs_nri_ann.iloc[0])"
      ]
    },
    {
      "cell_type": "code",
      "execution_count": null,
      "metadata": {
        "id": "rUNt6mLGRIpH"
      },
      "outputs": [],
      "source": [
        "# ================================================================================\n",
        "# Matriz de Confusão - Validação Cruzada\n",
        "# ================================================================================\n",
        "cm_cv(rs_nri_ann, X_train_nri, y_train['Class'], y_train['Sample'], name = 'rs_nri_ann')"
      ]
    },
    {
      "cell_type": "code",
      "execution_count": null,
      "metadata": {
        "id": "ALFS8MKLRIpI"
      },
      "outputs": [],
      "source": [
        "# ================================================================================\n",
        "# Desempenho no conjunto de teste\n",
        "# ================================================================================\n",
        "y_pred_rs_nri_ann = rs_nri_ann.predict(X_test_nri)\n",
        "acc_test_rs_nri_ann = accuracy_score(y_test[\"Class\"], y_pred_rs_nri_ann)\n",
        "f1_rs_nri_ann = f1_score(y_test[\"Class\"], y_pred_rs_nri_ann, average = 'weighted')\n",
        "print(f\"Best ANN Accuracy: {acc_test_rs_nri_ann:.2f}\")\n",
        "print(f\"Best ANN F1: {f1_rs_nri_ann:.6f}\")"
      ]
    },
    {
      "cell_type": "code",
      "execution_count": null,
      "metadata": {
        "id": "zz_kEXs7RIpI"
      },
      "outputs": [],
      "source": [
        "# ================================================================================\n",
        "# Matriz de Confusão - conjunto de teste (n = 566)\n",
        "# ================================================================================\n",
        "cm_rs_nri_ann = confusion_matrix(y_test['Class'], y_pred_rs_nri_ann)\n",
        "disp_rs_nri_ann = ConfusionMatrixDisplay(confusion_matrix = cm_rs_nri_ann, display_labels = rs_nri_ann.classes_)\n",
        "disp_rs_nri_ann.plot(cmap = 'Blues', xticks_rotation = 90)\n",
        "disp_rs_nri_ann.ax_.set_xlabel('Predito', fontsize=10, style='normal', fontweight = 'bold')\n",
        "disp_rs_nri_ann.ax_.set_ylabel(\"Observado\", fontsize=10, style='normal', fontweight = 'bold')\n",
        "disp_rs_nri_ann.ax_.xaxis.set_tick_params(labelsize=10)\n",
        "disp_rs_nri_ann.ax_.yaxis.set_tick_params(labelsize=10)\n",
        "plt.yticks(style='italic')\n",
        "plt.xticks(style='italic')\n",
        "\n",
        "plt.savefig(f'./Output/CM_LBP/cm_teste_nri_ann', dpi = 600, bbox_inches='tight')\n",
        "plt.show()"
      ]
    },
    {
      "cell_type": "code",
      "execution_count": null,
      "metadata": {
        "id": "Fdig906-RIpI"
      },
      "outputs": [],
      "source": [
        "# ================================================================================\n",
        "# Relatório de classificação (Conjunto de teste)\n",
        "# ================================================================================\n",
        "print(classification_report(y_test['Class'], y_pred_rs_nri_ann, target_names= rs_nri_ann.classes_))"
      ]
    },
    {
      "cell_type": "markdown",
      "metadata": {
        "id": "pe_KiGfDTBxO"
      },
      "source": [
        "#### **Modelo C9**: Usando features LBP (Todos)"
      ]
    },
    {
      "cell_type": "code",
      "execution_count": null,
      "metadata": {
        "id": "-DuLs_c3UN8y"
      },
      "outputs": [],
      "source": [
        "# ================================================================================\n",
        "# Ajuste de Hiperparâmetros (Hyperparameter tuning) - RandomizedSearchCV()\n",
        "# ================================================================================\n",
        "\n",
        "param_grid = {\n",
        "    'hidden_layer_sizes': [(50,), (100,), (150,), (200,), (250,),\n",
        "                          (300,), (350,), (400,), (450,),(500,)],\n",
        "    'activation': ['relu', 'identity'],    # ['relu', 'tanh', 'logistic', 'identity']\n",
        "    'solver': ['adam', 'lbfgs'],           # ['sgd', 'adam', 'lbfgs']\n",
        "    'alpha': uniform(loc = 0.0001, scale = 0.09).rvs(size = 20, random_state = 10),\n",
        "    'learning_rate': ['constant','adaptive', 'invscaling']}\n",
        "\n",
        "# Create the RandomizedSearchCV object\n",
        "rs_unri_ann = RandomizedSearchCV(estimator = model_ann, param_distributions = param_grid,\n",
        "                                 scoring = metrics, cv = cv, refit = 'accuracy',\n",
        "                                 verbose = 3, return_train_score = False, n_iter = 20)\n",
        "\n",
        "rs_unri_ann.fit(X_train_unri, y_train['Class'], groups = y_train['Sample'])\n",
        "\n",
        "# Salvar modelo\n",
        "pickle.dump(rs_unri_ann, open(f'./Output/Models_LBP/rs_unri_ann.pickle', \"wb\"))\n",
        "joblib.dump(rs_unri_ann, open(f'./Output/Models_LBP/rs_unri_ann.joblib', \"wb\"))\n",
        "\n",
        "print(f'Os melhores parâmetros foram: {rs_unri_ann.best_params_}')\n",
        "print(f'A melhor acurácia foi de: {rs_unri_ann.best_score_:.4f}')\n",
        "print(f'O melhor modelo foi: {rs_unri_ann.best_estimator_}')"
      ]
    },
    {
      "cell_type": "code",
      "execution_count": null,
      "metadata": {
        "id": "4xjT_wi8UN8z"
      },
      "outputs": [],
      "source": [
        "# ================================================================================\n",
        "# Desempenho na Validação Cruzada (Stratified Group 5-fold cross-validation)\n",
        "# ================================================================================\n",
        "#rs_svc = pickle.load(open('./Output/Models/rs_svc.pickle', \"rb\"))\n",
        "res1_rs_unri_ann = pd.DataFrame(rs_unri_ann.cv_results_).filter(regex = r'(params|test)').sort_values(by=[\"rank_test_accuracy\"])\n",
        "\n",
        "accf1_rs_unri_ann = res1_rs_unri_ann.iloc[0].filter(regex = r'(accuracy|f1)').filter(regex = 'split')\n",
        "min_acc_rs_unri_ann = accf1_rs_unri_ann.filter(regex = 'accuracy').min()\n",
        "max_acc_rs_unri_ann = accf1_rs_unri_ann.filter(regex = 'accuracy').max()\n",
        "min_f1_rs_unri_ann = accf1_rs_unri_ann.filter(regex = 'f1').min()\n",
        "max_f1_rs_unri_ann = accf1_rs_unri_ann.filter(regex = 'f1').max()\n",
        "\n",
        "print(f'Acurácia min: {min_acc_rs_unri_ann:.6f}')\n",
        "print(f'Acurácia max: {max_acc_rs_unri_ann:.6f}')\n",
        "print(f'F1 min: {min_f1_rs_unri_ann:.6f}')\n",
        "print(f'F1 max: {max_f1_rs_unri_ann:.6f}')\n",
        "\n",
        "res2_rs_unri_ann = res1_rs_unri_ann.filter(regex = r'(mean|std|params)')\n",
        "display(res2_rs_unri_ann.iloc[0])"
      ]
    },
    {
      "cell_type": "code",
      "execution_count": null,
      "metadata": {
        "id": "0fmIcb7AUN80"
      },
      "outputs": [],
      "source": [
        "# ================================================================================\n",
        "# Matriz de Confusão - Validação Cruzada\n",
        "# ================================================================================\n",
        "cm_cv(rs_unri_ann, X_train_unri, y_train['Class'], y_train['Sample'], name = 'rs_unri_ann')"
      ]
    },
    {
      "cell_type": "code",
      "execution_count": null,
      "metadata": {
        "id": "o_z7r2SzUN80"
      },
      "outputs": [],
      "source": [
        "# ================================================================================\n",
        "# Desempenho no conjunto de teste\n",
        "# ================================================================================\n",
        "y_pred_rs_unri_ann = rs_unri_ann.predict(X_test_unri)\n",
        "acc_test_rs_unri_ann = accuracy_score(y_test[\"Class\"], y_pred_rs_unri_ann)\n",
        "f1_rs_unri_ann = f1_score(y_test[\"Class\"], y_pred_rs_unri_ann, average = 'weighted')\n",
        "print(f\"Best ANN Accuracy: {acc_test_rs_unri_ann:.2f}\")\n",
        "print(f\"Best ANN F1: {f1_rs_unri_ann:.6f}\")"
      ]
    },
    {
      "cell_type": "code",
      "execution_count": null,
      "metadata": {
        "id": "WqspM2gaUN80"
      },
      "outputs": [],
      "source": [
        "# ================================================================================\n",
        "# Matriz de Confusão - conjunto de teste (n = 566)\n",
        "# ================================================================================\n",
        "cm_rs_unri_ann = confusion_matrix(y_test['Class'], y_pred_rs_unri_ann)\n",
        "disp_rs_unri_ann = ConfusionMatrixDisplay(confusion_matrix = cm_rs_unri_ann, display_labels = rs_unri_ann.classes_)\n",
        "disp_rs_unri_ann.plot(cmap = 'Blues', xticks_rotation = 90)\n",
        "disp_rs_unri_ann.ax_.set_xlabel('Predito', fontsize=10, style='normal', fontweight = 'bold')\n",
        "disp_rs_unri_ann.ax_.set_ylabel(\"Observado\", fontsize=10, style='normal', fontweight = 'bold')\n",
        "disp_rs_unri_ann.ax_.xaxis.set_tick_params(labelsize=10)\n",
        "disp_rs_unri_ann.ax_.yaxis.set_tick_params(labelsize=10)\n",
        "plt.yticks(style='italic')\n",
        "plt.xticks(style='italic')\n",
        "\n",
        "plt.savefig(f'./Output/CM_LBP/cm_teste_unri_ann', dpi = 600, bbox_inches='tight')\n",
        "plt.show()"
      ]
    },
    {
      "cell_type": "code",
      "execution_count": null,
      "metadata": {
        "id": "YKfvIEVPUN80"
      },
      "outputs": [],
      "source": [
        "# ================================================================================\n",
        "# Relatório de classificação (Conjunto de teste)\n",
        "# ================================================================================\n",
        "print(classification_report(y_test['Class'], y_pred_rs_unri_ann, target_names= rs_unri_ann.classes_))"
      ]
    },
    {
      "cell_type": "markdown",
      "metadata": {
        "id": "ny8j-WfC1VTj"
      },
      "source": [
        "### **2.4.5 - Random Forest - RF**"
      ]
    },
    {
      "cell_type": "code",
      "execution_count": null,
      "metadata": {
        "id": "qArTsM4T1sjr"
      },
      "outputs": [],
      "source": [
        "# ================================================================================\n",
        "# Definições do estimador RF\n",
        "# ================================================================================\n",
        "#RandomForestClassifier().get_params()\n",
        "\n",
        "# Define o modelo\n",
        "model_rf = RandomForestClassifier(random_state = 10)"
      ]
    },
    {
      "cell_type": "markdown",
      "metadata": {
        "id": "AcdmaX1lZ5P4"
      },
      "source": [
        "#### **Modelo C1**: Usando features LBP Uniforme (P = 8, R = 1)"
      ]
    },
    {
      "cell_type": "code",
      "execution_count": null,
      "metadata": {
        "id": "ZGBWbBlGZ-uc"
      },
      "outputs": [],
      "source": [
        "# ================================================================================\n",
        "# Ajuste de Hiperparâmetros (Hyperparameter tuning) - RandomizedSearchCV()\n",
        "# ================================================================================\n",
        "\n",
        "param_grid = {'n_estimators': np.arange(40, 320, 20),                        # Número de árvores (estimadores) na floresta aleatória\n",
        "              'max_depth': list(np.arange(10, 100, step=10)) + [None],       # Número máximo de níveis na árvore\n",
        "              'max_features': list(np.arange(30, 60, 5)) + ['sqrt', \"log2\"], # Número de variáveis a serem considerados em cada divisão\n",
        "              'criterion': ['gini','entropy'],\n",
        "              'min_samples_leaf': np.arange(10, 110, 10),                    # Número mínimo de amostras exigidos em cada nó folha (terminal)\n",
        "              'min_samples_split': np.arange(2, 10, 2),                      # Número mínimo de amostras exigido para dividir um nó\n",
        "              'bootstrap': [True, False]                                     # Método de seleção de amostras para treinamento de cada árvore\n",
        "              }\n",
        "\n",
        "# Create the RandomizedSearchCV object\n",
        "rs_u81_rf = RandomizedSearchCV(estimator = model_rf, param_distributions = param_grid,\n",
        "                           scoring = metrics, cv = cv, refit = 'accuracy',\n",
        "                           verbose = 3, return_train_score = False, n_iter = 50)\n",
        "\n",
        "rs_u81_rf.fit(X_train_u81, y_train['Class'], groups = y_train['Sample'])\n",
        "\n",
        "# Salvar modelo\n",
        "pickle.dump(rs_u81_rf, open(f'./Output/Models_LBP/rs_u81_rf.pickle', \"wb\"))\n",
        "joblib.dump(rs_u81_rf, open(f'./Output/Models_LBP/rs_u81_rf.joblib', \"wb\"))\n",
        "\n",
        "print('Melhores hiperparâmetros: '+str(rs_u81_rf.best_params_))\n",
        "print('Melhor Acurácia: '+str(rs_u81_rf.best_score_))\n",
        "print('Melhor Estimador: '+str(rs_u81_rf.best_estimator_))"
      ]
    },
    {
      "cell_type": "code",
      "execution_count": null,
      "metadata": {
        "id": "1Y4p7i4YaAZO"
      },
      "outputs": [],
      "source": [
        "# ================================================================================\n",
        "# Desempenho na Validação Cruzada (Stratified Group 5-fold cross-validation)\n",
        "# ================================================================================\n",
        "#rs_svc = pickle.load(open('./Output/Models/rs_svc.pickle', \"rb\"))\n",
        "res1_rs_u81_rf = pd.DataFrame(rs_u81_rf.cv_results_).filter(regex = r'(params|test)').sort_values(by=[\"rank_test_accuracy\"])\n",
        "\n",
        "accf1_rs_u81_rf = res1_rs_u81_rf.iloc[0].filter(regex = r'(accuracy|f1)').filter(regex = 'split')\n",
        "min_acc_rs_u81_rf = accf1_rs_u81_rf.filter(regex = 'accuracy').min()\n",
        "max_acc_rs_u81_rf = accf1_rs_u81_rf.filter(regex = 'accuracy').max()\n",
        "min_f1_rs_u81_rf = accf1_rs_u81_rf.filter(regex = 'f1').min()\n",
        "max_f1_rs_u81_rf = accf1_rs_u81_rf.filter(regex = 'f1').max()\n",
        "\n",
        "print(f'Acurácia min: {min_acc_rs_u81_rf:.6f}')\n",
        "print(f'Acurácia max: {max_acc_rs_u81_rf:.6f}')\n",
        "print(f'F1 min: {min_f1_rs_u81_rf:.6f}')\n",
        "print(f'F1 max: {max_f1_rs_u81_rf:.6f}')\n",
        "\n",
        "res2_rs_u81_rf = res1_rs_u81_rf.filter(regex = r'(mean|std|params)')\n",
        "display(res2_rs_u81_rf.iloc[0])"
      ]
    },
    {
      "cell_type": "code",
      "execution_count": null,
      "metadata": {
        "id": "VwpY0G3haAPl"
      },
      "outputs": [],
      "source": [
        "# ================================================================================\n",
        "# Matriz de Confusão - Validação Cruzada\n",
        "# ================================================================================\n",
        "cm_cv(rs_u81_rf, X_train, y_train['Class'], y_train['Sample'], name = 'rs_u81_rf')"
      ]
    },
    {
      "cell_type": "code",
      "execution_count": null,
      "metadata": {
        "id": "Cqjj18aeaAFf"
      },
      "outputs": [],
      "source": [
        "# ================================================================================\n",
        "# Desempenho no conjunto de teste\n",
        "# ================================================================================\n",
        "y_pred_rs_u81_rf = rs_u81_rf.predict(X_test_u81)\n",
        "acc_test_rs_u81_rf = accuracy_score(y_test[\"Class\"], y_pred_rs_u81_rf)\n",
        "f1_rs_u81_rf = f1_score(y_test[\"Class\"], y_pred_rs_u81_rf, average = 'weighted')\n",
        "print(f\"Best RF Accuracy: {acc_test_rs_u81_rf:.2f}\")\n",
        "print(f\"Best RF F1: {f1_rs_u81_rf:.6f}\")"
      ]
    },
    {
      "cell_type": "code",
      "execution_count": null,
      "metadata": {
        "id": "iBuiluBZZ_4w"
      },
      "outputs": [],
      "source": [
        "# ================================================================================\n",
        "# Matriz de Confusão - conjunto de teste (n = 566)\n",
        "# ================================================================================\n",
        "cm_rs_u81_rf = confusion_matrix(y_test['Class'], y_pred_rs_u81_rf)\n",
        "disp_rs_u81_rf = ConfusionMatrixDisplay(confusion_matrix = cm_rs_u81_rf, display_labels = rs_u81_rf.classes_)\n",
        "disp_rs_u81_rf.plot(cmap = 'Blues', xticks_rotation = 90)\n",
        "disp_rs_u81_rf.ax_.set_xlabel('Predito', fontsize=10, style='normal', fontweight = 'bold')\n",
        "disp_rs_u81_rf.ax_.set_ylabel(\"Observado\", fontsize=10, style='normal', fontweight = 'bold')\n",
        "disp_rs_u81_rf.ax_.xaxis.set_tick_params(labelsize=10)\n",
        "disp_rs_u81_rf.ax_.yaxis.set_tick_params(labelsize=10)\n",
        "plt.yticks(style='italic')\n",
        "plt.xticks(style='italic')\n",
        "\n",
        "plt.savefig(f'.Output/CM_LBP/RF/cm_rs_u81_rf', dpi = 600, bbox_inches='tight')\n",
        "plt.show()"
      ]
    },
    {
      "cell_type": "code",
      "execution_count": null,
      "metadata": {
        "id": "4NQ8qV0VaWNs"
      },
      "outputs": [],
      "source": [
        "# ================================================================================\n",
        "# Relatório de classificação (Conjunto de teste)\n",
        "# ================================================================================\n",
        "print(classification_report(y_test['Class'], y_pred_rs_u81_rf, target_names= rs_u81_rf.classes_))"
      ]
    },
    {
      "cell_type": "markdown",
      "metadata": {
        "id": "yLkS5hglZ7k2"
      },
      "source": [
        "#### **Modelo C2**: Usando features LBP Uniforme (P = 16, R = 2)"
      ]
    },
    {
      "cell_type": "code",
      "execution_count": null,
      "metadata": {
        "id": "3D-qNXiJZ2nK"
      },
      "outputs": [],
      "source": [
        "# ================================================================================\n",
        "# Ajuste de Hiperparâmetros (Hyperparameter tuning) - RandomizedSearchCV()\n",
        "# ================================================================================\n",
        "\n",
        "param_grid = {'n_estimators': np.arange(40, 320, 20),                        # Número de árvores (estimadores) na floresta aleatória\n",
        "              'max_depth': list(np.arange(10, 100, step=10)) + [None],       # Número máximo de níveis na árvore\n",
        "              'max_features': list(np.arange(30, 60, 5)) + ['sqrt', \"log2\"], # Número de variáveis a serem considerados em cada divisão\n",
        "              'criterion': ['gini','entropy'],\n",
        "              'min_samples_leaf': np.arange(10, 110, 10),                    # Número mínimo de amostras exigidos em cada nó folha (terminal)\n",
        "              'min_samples_split': np.arange(2, 10, 2),                      # Número mínimo de amostras exigido para dividir um nó\n",
        "              'bootstrap': [True, False]                                     # Método de seleção de amostras para treinamento de cada árvore\n",
        "              }\n",
        "\n",
        "# Create the RandomizedSearchCV object\n",
        "rs_u162_rf = RandomizedSearchCV(estimator = model_rf, param_distributions = param_grid,\n",
        "                           scoring = metrics, cv = cv, refit = 'accuracy',\n",
        "                           verbose = 3, return_train_score = False, n_iter = 50)\n",
        "\n",
        "rs_u162_rf.fit(X_train_u162, y_train['Class'], groups = y_train['Sample'])\n",
        "\n",
        "# Salvar modelo\n",
        "pickle.dump(rs_u162_rf, open(f'./Output/Models_LBP/rs_u162_rf.pickle', \"wb\"))\n",
        "joblib.dump(rs_u162_rf, open(f'./Output/Models_LBP/rs_u162_rf.joblib', \"wb\"))\n",
        "\n",
        "print(f'Melhores hiperparâmetros: {rs_u162_rf.best_params_}')\n",
        "print(f'Melhor Acurácia: {rs_u162_rf.best_score_}')\n",
        "print(f'Melhor Estimador: {rs_u162_rf.best_estimator_}')"
      ]
    },
    {
      "cell_type": "code",
      "execution_count": null,
      "metadata": {
        "id": "4YoTMxUcOyi_"
      },
      "outputs": [],
      "source": [
        "# ================================================================================\n",
        "# Desempenho na Validação Cruzada (Stratified Group 5-fold cross-validation)\n",
        "# ================================================================================\n",
        "#rs_svc = pickle.load(open('./Output/Models/rs_svc.pickle', \"rb\"))\n",
        "res1_rs_u162_rf = pd.DataFrame(rs_u162_rf.cv_results_).filter(regex = r'(params|test)').sort_values(by=[\"rank_test_accuracy\"])\n",
        "\n",
        "accf1_rs_u162_rf = res1_rs_u162_rf.iloc[0].filter(regex = r'(accuracy|f1)').filter(regex = 'split')\n",
        "min_acc_rs_u162_rf = accf1_rs_u162_rf.filter(regex = 'accuracy').min()\n",
        "max_acc_rs_u162_rf = accf1_rs_u162_rf.filter(regex = 'accuracy').max()\n",
        "min_f1_rs_u162_rf = accf1_rs_u162_rf.filter(regex = 'f1').min()\n",
        "max_f1_rs_u162_rf = accf1_rs_u162_rf.filter(regex = 'f1').max()\n",
        "\n",
        "print(f'Acurácia min: {min_acc_rs_u162_rf:.6f}')\n",
        "print(f'Acurácia max: {max_acc_rs_u162_rf:.6f}')\n",
        "print(f'F1 min: {min_f1_rs_u162_rf:.6f}')\n",
        "print(f'F1 max: {max_f1_rs_u162_rf:.6f}')\n",
        "\n",
        "res2_rs_u162_rf = res1_rs_u162_rf.filter(regex = r'(mean|std|params)')\n",
        "display(res2_rs_u162_rf.iloc[0])"
      ]
    },
    {
      "cell_type": "code",
      "execution_count": null,
      "metadata": {
        "id": "2b2-eZ5dOyjA"
      },
      "outputs": [],
      "source": [
        "# ================================================================================\n",
        "# Matriz de Confusão - Validação Cruzada\n",
        "# ================================================================================\n",
        "cm_cv(rs_u162_rf, X_train_u162, y_train['Class'], y_train['Sample'], name = 'rs_u162_rf')"
      ]
    },
    {
      "cell_type": "code",
      "execution_count": null,
      "metadata": {
        "id": "m432-eBHOyjA"
      },
      "outputs": [],
      "source": [
        "# ================================================================================\n",
        "# Desempenho no conjunto de teste\n",
        "# ================================================================================\n",
        "y_pred_rs_u162_rf = rs_u162_rf.predict(X_test_u162)\n",
        "acc_test_rs_u162_rf = accuracy_score(y_test[\"Class\"], y_pred_rs_u162_rf)\n",
        "f1_rs_u162_rf = f1_score(y_test[\"Class\"], y_pred_rs_u162_rf, average = 'weighted')\n",
        "print(f\"Best RF Accuracy: {acc_test_rs_u162_rf:.2f}\")\n",
        "print(f\"Best RF F1: {f1_rs_u162_rf:.6f}\")"
      ]
    },
    {
      "cell_type": "code",
      "execution_count": null,
      "metadata": {
        "id": "ePhvZNlpOyjA"
      },
      "outputs": [],
      "source": [
        "# ================================================================================\n",
        "# Matriz de Confusão - conjunto de teste (n = 566)\n",
        "# ================================================================================\n",
        "cm_rs_u162_rf = confusion_matrix(y_test['Class'], y_pred_rs_u162_rf)\n",
        "disp_rs_u162_rf = ConfusionMatrixDisplay(confusion_matrix = cm_rs_u162_rf, display_labels = rs_u162_rf.classes_)\n",
        "disp_rs_u162_rf.plot(cmap = 'Blues', xticks_rotation = 90)\n",
        "disp_rs_u162_rf.ax_.set_xlabel('Predito', fontsize=10, style='normal', fontweight = 'bold')\n",
        "disp_rs_u162_rf.ax_.set_ylabel(\"Observado\", fontsize=10, style='normal', fontweight = 'bold')\n",
        "disp_rs_u162_rf.ax_.xaxis.set_tick_params(labelsize=10)\n",
        "disp_rs_u162_rf.ax_.yaxis.set_tick_params(labelsize=10)\n",
        "plt.yticks(style='italic')\n",
        "plt.xticks(style='italic')\n",
        "\n",
        "plt.savefig(f'./Output/CM_LBP/RF/cm_rs_u162_rf', dpi = 600, bbox_inches='tight')\n",
        "plt.show()"
      ]
    },
    {
      "cell_type": "code",
      "execution_count": null,
      "metadata": {
        "id": "6yv6sGMVOyjA"
      },
      "outputs": [],
      "source": [
        "# ================================================================================\n",
        "# Relatório de classificação (Conjunto de teste)\n",
        "# ================================================================================\n",
        "print(classification_report(y_test['Class'], y_pred_rs_u162_rf, target_names= rs_u162_rf.classes_))"
      ]
    },
    {
      "cell_type": "markdown",
      "metadata": {
        "id": "zoL8oWSBOyjA"
      },
      "source": [
        "#### **Modelo C3**: Usando features LBP Uniforme (P = 24, R = 23)"
      ]
    },
    {
      "cell_type": "code",
      "execution_count": null,
      "metadata": {
        "id": "m4Un2zOnOyjA"
      },
      "outputs": [],
      "source": [
        "# ================================================================================\n",
        "# Ajuste de Hiperparâmetros (Hyperparameter tuning) - RandomizedSearchCV()\n",
        "# ================================================================================\n",
        "\n",
        "param_grid = {'n_estimators': np.arange(40, 320, 20),                        # Número de árvores (estimadores) na floresta aleatória\n",
        "              'max_depth': list(np.arange(10, 100, step=10)) + [None],       # Número máximo de níveis na árvore\n",
        "              'max_features': list(np.arange(30, 60, 5)) + ['sqrt', \"log2\"], # Número de variáveis a serem considerados em cada divisão\n",
        "              'criterion': ['gini','entropy'],\n",
        "              'min_samples_leaf': np.arange(10, 110, 10),                    # Número mínimo de amostras exigidos em cada nó folha (terminal)\n",
        "              'min_samples_split': np.arange(2, 10, 2),                      # Número mínimo de amostras exigido para dividir um nó\n",
        "              'bootstrap': [True, False]                                     # Método de seleção de amostras para treinamento de cada árvore\n",
        "              }\n",
        "\n",
        "# Create the RandomizedSearchCV object\n",
        "rs_u243_rf = RandomizedSearchCV(estimator = model_rf, param_distributions = param_grid,\n",
        "                           scoring = metrics, cv = cv, refit = 'accuracy',\n",
        "                           verbose = 3, return_train_score = False, n_iter = 50)\n",
        "\n",
        "rs_u243_rf.fit(X_train_u243, y_train['Class'], groups = y_train['Sample'])\n",
        "\n",
        "# Salvar modelo\n",
        "pickle.dump(rs_u243_rf, open(f'./Output/Models_LBP/rs_u243_rf.pickle', \"wb\"))\n",
        "joblib.dump(rs_u243_rf, open(f'./Output/Models_LBP/rs_u243_rf.joblib', \"wb\"))\n",
        "\n",
        "print(f'Melhores hiperparâmetros: {rs_u243_rf.best_params_}')\n",
        "print(f'Melhor Acurácia: {rs_u243_rf.best_score_}')\n",
        "print(f'Melhor Estimador: {rs_u243_rf.best_estimator_}')"
      ]
    },
    {
      "cell_type": "code",
      "execution_count": null,
      "metadata": {
        "id": "9Rt8d6t6OyjB"
      },
      "outputs": [],
      "source": [
        "# ================================================================================\n",
        "# Desempenho na Validação Cruzada (Stratified Group 5-fold cross-validation)\n",
        "# ================================================================================\n",
        "#rs_svc = pickle.load(open('./Output/Models/rs_svc.pickle', \"rb\"))\n",
        "res1_rs_u243_rf = pd.DataFrame(rs_u243_rf.cv_results_).filter(regex = r'(params|test)').sort_values(by=[\"rank_test_accuracy\"])\n",
        "\n",
        "accf1_rs_u243_rf = res1_rs_u243_rf.iloc[0].filter(regex = r'(accuracy|f1)').filter(regex = 'split')\n",
        "min_acc_rs_u243_rf = accf1_rs_u243_rf.filter(regex = 'accuracy').min()\n",
        "max_acc_rs_u243_rf = accf1_rs_u243_rf.filter(regex = 'accuracy').max()\n",
        "min_f1_rs_u243_rf = accf1_rs_u243_rf.filter(regex = 'f1').min()\n",
        "max_f1_rs_u243_rf = accf1_rs_u243_rf.filter(regex = 'f1').max()\n",
        "\n",
        "print(f'Acurácia min: {min_acc_rs_u243_rf:.6f}')\n",
        "print(f'Acurácia max: {max_acc_rs_u243_rf:.6f}')\n",
        "print(f'F1 min: {min_f1_rs_u243_rf:.6f}')\n",
        "print(f'F1 max: {max_f1_rs_u243_rf:.6f}')\n",
        "\n",
        "res2_rs_u243_rf = res1_rs_u243_rf.filter(regex = r'(mean|std|params)')\n",
        "display(res2_rs_u243_rf.iloc[0])"
      ]
    },
    {
      "cell_type": "code",
      "execution_count": null,
      "metadata": {
        "id": "TtJkFPFGOyjB"
      },
      "outputs": [],
      "source": [
        "# ================================================================================\n",
        "# Matriz de Confusão - Validação Cruzada\n",
        "# ================================================================================\n",
        "cm_cv(rs_u243_rf, X_train_u243, y_train['Class'], y_train['Sample'], name = 'rs_u243_rf')"
      ]
    },
    {
      "cell_type": "code",
      "execution_count": null,
      "metadata": {
        "id": "vvZMwzaBOyjB"
      },
      "outputs": [],
      "source": [
        "# ================================================================================\n",
        "# Desempenho no conjunto de teste\n",
        "# ================================================================================\n",
        "y_pred_rs_u243_rf = rs_u243_rf.predict(X_test_u243)\n",
        "acc_test_rs_u243_rf = accuracy_score(y_test[\"Class\"], y_pred_rs_u243_rf)\n",
        "f1_rs_u243_rf = f1_score(y_test[\"Class\"], y_pred_rs_u243_rf, average = 'weighted')\n",
        "print(f\"Best RF Accuracy: {acc_test_rs_u243_rf:.2f}\")\n",
        "print(f\"Best RF F1: {f1_rs_u243_rf:.6f}\")"
      ]
    },
    {
      "cell_type": "code",
      "execution_count": null,
      "metadata": {
        "id": "BXhfxUigOyjB"
      },
      "outputs": [],
      "source": [
        "# ================================================================================\n",
        "# Matriz de Confusão - conjunto de teste (n = 566)\n",
        "# ================================================================================\n",
        "cm_rs_u243_rf = confusion_matrix(y_test['Class'], y_pred_rs_u243_rf)\n",
        "disp_rs_u243_rf = ConfusionMatrixDisplay(confusion_matrix = cm_rs_u243_rf, display_labels = rs_u243_rf.classes_)\n",
        "disp_rs_u243_rf.plot(cmap = 'Blues', xticks_rotation = 90)\n",
        "disp_rs_u243_rf.ax_.set_xlabel('Predito', fontsize=10, style='normal', fontweight = 'bold')\n",
        "disp_rs_u243_rf.ax_.set_ylabel(\"Observado\", fontsize=10, style='normal', fontweight = 'bold')\n",
        "disp_rs_u243_rf.ax_.xaxis.set_tick_params(labelsize=10)\n",
        "disp_rs_u243_rf.ax_.yaxis.set_tick_params(labelsize=10)\n",
        "plt.yticks(style='italic')\n",
        "plt.xticks(style='italic')\n",
        "\n",
        "plt.savefig(f'./Output/CM_LBP/RF/cm_rs_u243_rf', dpi = 600, bbox_inches='tight')\n",
        "plt.show()"
      ]
    },
    {
      "cell_type": "code",
      "execution_count": null,
      "metadata": {
        "id": "0CFGtd2kOyjB"
      },
      "outputs": [],
      "source": [
        "# ================================================================================\n",
        "# Relatório de classificação (Conjunto de teste)\n",
        "# ================================================================================\n",
        "print(classification_report(y_test['Class'], y_pred_rs_u243_rf, target_names= rs_u243_rf.classes_))"
      ]
    },
    {
      "cell_type": "markdown",
      "metadata": {
        "id": "Zl2OMpt0OyjB"
      },
      "source": [
        "#### **Modelo C4**: Usando features LBP Uniforme (Todos)"
      ]
    },
    {
      "cell_type": "code",
      "execution_count": null,
      "metadata": {
        "id": "OxatyvOFOyjB"
      },
      "outputs": [],
      "source": [
        "# ================================================================================\n",
        "# Ajuste de Hiperparâmetros (Hyperparameter tuning) - RandomizedSearchCV()\n",
        "# ================================================================================\n",
        "\n",
        "param_grid = {'n_estimators': np.arange(40, 320, 20),                        # Número de árvores (estimadores) na floresta aleatória\n",
        "              'max_depth': list(np.arange(10, 100, step=10)) + [None],       # Número máximo de níveis na árvore\n",
        "              'max_features': list(np.arange(30, 60, 5)) + ['sqrt', \"log2\"], # Número de variáveis a serem considerados em cada divisão\n",
        "              'criterion': ['gini','entropy'],\n",
        "              'min_samples_leaf': np.arange(10, 110, 10),                    # Número mínimo de amostras exigidos em cada nó folha (terminal)\n",
        "              'min_samples_split': np.arange(2, 10, 2),                      # Número mínimo de amostras exigido para dividir um nó\n",
        "              'bootstrap': [True, False]                                     # Método de seleção de amostras para treinamento de cada árvore\n",
        "              }\n",
        "\n",
        "# Create the RandomizedSearchCV object\n",
        "rs_uni_rf = RandomizedSearchCV(estimator = model_rf, param_distributions = param_grid,\n",
        "                           scoring = metrics, cv = cv, refit = 'accuracy',\n",
        "                           verbose = 3, return_train_score = False, n_iter = 50)\n",
        "\n",
        "rs_uni_rf.fit(X_train_u, y_train['Class'], groups = y_train['Sample'])\n",
        "\n",
        "# Salvar modelo\n",
        "pickle.dump(rs_uni_rf, open(f'./Output/Models_LBP/rs_uni_rf.pickle', \"wb\"))\n",
        "joblib.dump(rs_uni_rf, open(f'./Output/Models_LBP/rs_uni_rf.joblib', \"wb\"))\n",
        "\n",
        "print(f'Melhores hiperparâmetros: {rs_uni_rf.best_params_}')\n",
        "print(f'Melhor Acurácia: {rs_uni_rf.best_score_}')\n",
        "print(f'Melhor Estimador: {rs_uni_rf.best_estimator_}')"
      ]
    },
    {
      "cell_type": "code",
      "execution_count": null,
      "metadata": {
        "id": "dJCmQYYtOyjC"
      },
      "outputs": [],
      "source": [
        "# ================================================================================\n",
        "# Desempenho na Validação Cruzada (Stratified Group 5-fold cross-validation)\n",
        "# ================================================================================\n",
        "#rs_svc = pickle.load(open('./Output/Models/rs_svc.pickle', \"rb\"))\n",
        "res1_rs_uni_rf = pd.DataFrame(rs_uni_rf.cv_results_).filter(regex = r'(params|test)').sort_values(by=[\"rank_test_accuracy\"])\n",
        "\n",
        "accf1_rs_uni_rf = res1_rs_uni_rf.iloc[0].filter(regex = r'(accuracy|f1)').filter(regex = 'split')\n",
        "min_acc_rs_uni_rf = accf1_rs_uni_rf.filter(regex = 'accuracy').min()\n",
        "max_acc_rs_uni_rf = accf1_rs_uni_rf.filter(regex = 'accuracy').max()\n",
        "min_f1_rs_uni_rf = accf1_rs_uni_rf.filter(regex = 'f1').min()\n",
        "max_f1_rs_uni_rf = accf1_rs_uni_rf.filter(regex = 'f1').max()\n",
        "\n",
        "print(f'Acurácia min: {min_acc_rs_uni_rf:.6f}')\n",
        "print(f'Acurácia max: {max_acc_rs_uni_rf:.6f}')\n",
        "print(f'F1 min: {min_f1_rs_uni_rf:.6f}')\n",
        "print(f'F1 max: {max_f1_rs_uni_rf:.6f}')\n",
        "\n",
        "res2_rs_uni_rf = res1_rs_uni_rf.filter(regex = r'(mean|std|params)')\n",
        "display(res2_rs_uni_rf.iloc[0])"
      ]
    },
    {
      "cell_type": "code",
      "execution_count": null,
      "metadata": {
        "id": "W7rth23iOyjC"
      },
      "outputs": [],
      "source": [
        "# ================================================================================\n",
        "# Matriz de Confusão - Validação Cruzada\n",
        "# ================================================================================\n",
        "cm_cv(rs_uni_rf, X_train_u, y_train['Class'], y_train['Sample'], name = 'rs_uni_rf')"
      ]
    },
    {
      "cell_type": "code",
      "execution_count": null,
      "metadata": {
        "id": "ZJOxCnhLOyjC"
      },
      "outputs": [],
      "source": [
        "# ================================================================================\n",
        "# Desempenho no conjunto de teste\n",
        "# ================================================================================\n",
        "y_pred_rs_uni_rf = rs_uni_rf.predict(X_test_u)\n",
        "acc_test_rs_uni_rf = accuracy_score(y_test[\"Class\"], y_pred_rs_uni_rf)\n",
        "f1_rs_uni_rf = f1_score(y_test[\"Class\"], y_pred_rs_uni_rf, average = 'weighted')\n",
        "print(f\"Best RF Accuracy: {acc_test_rs_uni_rf:.2f}\")\n",
        "print(f\"Best RF F1: {f1_rs_uni_rf:.6f}\")"
      ]
    },
    {
      "cell_type": "code",
      "execution_count": null,
      "metadata": {
        "id": "paR8_-8cOyjC"
      },
      "outputs": [],
      "source": [
        "# ================================================================================\n",
        "# Matriz de Confusão - conjunto de teste (n = 566)\n",
        "# ================================================================================\n",
        "cm_rs_uni_rf = confusion_matrix(y_test['Class'], y_pred_rs_uni_rf)\n",
        "disp_rs_uni_rf = ConfusionMatrixDisplay(confusion_matrix = cm_rs_uni_rf, display_labels = rs_uni_rf.classes_)\n",
        "disp_rs_uni_rf.plot(cmap = 'Blues', xticks_rotation = 90)\n",
        "disp_rs_uni_rf.ax_.set_xlabel('Predito', fontsize=10, style='normal', fontweight = 'bold')\n",
        "disp_rs_uni_rf.ax_.set_ylabel(\"Observado\", fontsize=10, style='normal', fontweight = 'bold')\n",
        "disp_rs_uni_rf.ax_.xaxis.set_tick_params(labelsize=10)\n",
        "disp_rs_uni_rf.ax_.yaxis.set_tick_params(labelsize=10)\n",
        "plt.yticks(style='italic')\n",
        "plt.xticks(style='italic')\n",
        "\n",
        "plt.savefig(f'./Output/CM_LBP/RF/cm_rs_uni_rf', dpi = 600, bbox_inches='tight')\n",
        "plt.show()"
      ]
    },
    {
      "cell_type": "code",
      "execution_count": null,
      "metadata": {
        "id": "oWSD79IaOyjC"
      },
      "outputs": [],
      "source": [
        "# ================================================================================\n",
        "# Relatório de classificação (Conjunto de teste)\n",
        "# ================================================================================\n",
        "print(classification_report(y_test['Class'], y_pred_rs_uni_rf, target_names= rs_uni_rf.classes_))"
      ]
    },
    {
      "cell_type": "markdown",
      "metadata": {
        "id": "Vj1kUBRKOyjC"
      },
      "source": [
        "#### **Modelo C5**: Usando features LBP Uniforme Não Invariante (P = 8, R = 1)"
      ]
    },
    {
      "cell_type": "code",
      "execution_count": null,
      "metadata": {
        "id": "0B99pyS-OyjC"
      },
      "outputs": [],
      "source": [
        "# ================================================================================\n",
        "# Ajuste de Hiperparâmetros (Hyperparameter tuning) - RandomizedSearchCV()\n",
        "# ================================================================================\n",
        "\n",
        "param_grid = {'n_estimators': np.arange(40, 320, 20),                        # Número de árvores (estimadores) na floresta aleatória\n",
        "              'max_depth': list(np.arange(10, 100, step=10)) + [None],       # Número máximo de níveis na árvore\n",
        "              'max_features': list(np.arange(30, 60, 5)) + ['sqrt', \"log2\"], # Número de variáveis a serem considerados em cada divisão\n",
        "              'criterion': ['gini','entropy'],\n",
        "              'min_samples_leaf': np.arange(10, 110, 10),                    # Número mínimo de amostras exigidos em cada nó folha (terminal)\n",
        "              'min_samples_split': np.arange(2, 10, 2),                      # Número mínimo de amostras exigido para dividir um nó\n",
        "              'bootstrap': [True, False]                                     # Método de seleção de amostras para treinamento de cada árvore\n",
        "              }\n",
        "\n",
        "# Create the RandomizedSearchCV object\n",
        "rs_nri81_rf = RandomizedSearchCV(estimator = model_rf, param_distributions = param_grid,\n",
        "                           scoring = metrics, cv = cv, refit = 'accuracy',\n",
        "                           verbose = 3, return_train_score = False, n_iter = 50)\n",
        "\n",
        "rs_nri81_rf.fit(X_train_nri81, y_train['Class'], groups = y_train['Sample'])\n",
        "\n",
        "# Salvar modelo\n",
        "pickle.dump(rs_nri81_rf, open(f'./Output/Models_LBP/rs_nri81_rf.pickle', \"wb\"))\n",
        "joblib.dump(rs_nri81_rf, open(f'./nathy/Output/Models_LBP/rs_nri81_rf.pickle', \"wb\"))\n",
        "\n",
        "print(f'Melhores hiperparâmetros: {rs_nri81_rf.best_params_}')\n",
        "print(f'Melhor Acurácia: {rs_nri81_rf.best_score_}')\n",
        "print(f'Melhor Estimador: {rs_nri81_rf.best_estimator_}')"
      ]
    },
    {
      "cell_type": "code",
      "execution_count": null,
      "metadata": {
        "id": "aLaqS2OjOyjD"
      },
      "outputs": [],
      "source": [
        "# ================================================================================\n",
        "# Desempenho na Validação Cruzada (Stratified Group 5-fold cross-validation)\n",
        "# ================================================================================\n",
        "#rs_svc = pickle.load(open('./Output/Models/rs_svc.pickle', \"rb\"))\n",
        "res1_rs_nri81_rf = pd.DataFrame(rs_nri81_rf.cv_results_).filter(regex = r'(params|test)').sort_values(by=[\"rank_test_accuracy\"])\n",
        "\n",
        "accf1_rs_nri81_rf = res1_rs_nri81_rf.iloc[0].filter(regex = r'(accuracy|f1)').filter(regex = 'split')\n",
        "min_acc_rs_nri81_rf = accf1_rs_nri81_rf.filter(regex = 'accuracy').min()\n",
        "max_acc_rs_nri81_rf = accf1_rs_nri81_rf.filter(regex = 'accuracy').max()\n",
        "min_f1_rs_nri81_rf = accf1_rs_nri81_rf.filter(regex = 'f1').min()\n",
        "max_f1_rs_nri81_rf = accf1_rs_nri81_rf.filter(regex = 'f1').max()\n",
        "\n",
        "print(f'Acurácia min: {min_acc_rs_nri81_rf:.6f}')\n",
        "print(f'Acurácia max: {max_acc_rs_nri81_rf:.6f}')\n",
        "print(f'F1 min: {min_f1_rs_nri81_rf:.6f}')\n",
        "print(f'F1 max: {max_f1_rs_nri81_rf:.6f}')\n",
        "\n",
        "res2_rs_nri81_rf = res1_rs_nri81_rf.filter(regex = r'(mean|std|params)')\n",
        "display(res2_rs_nri81_rf.iloc[0])"
      ]
    },
    {
      "cell_type": "code",
      "execution_count": null,
      "metadata": {
        "id": "bRKdUi0FOyjD"
      },
      "outputs": [],
      "source": [
        "# ================================================================================\n",
        "# Matriz de Confusão - Validação Cruzada\n",
        "# ================================================================================\n",
        "cm_cv(rs_nri81_rf, X_train_nri81, y_train['Class'], y_train['Sample'], name = 'rs_nri81_rf')"
      ]
    },
    {
      "cell_type": "code",
      "execution_count": null,
      "metadata": {
        "id": "boATlDBMOyjD"
      },
      "outputs": [],
      "source": [
        "# ================================================================================\n",
        "# Desempenho no conjunto de teste\n",
        "# ================================================================================\n",
        "y_pred_rs_nri81_rf = rs_nri81_rf.predict(X_test_nri81)\n",
        "acc_test_rs_nri81_rf = accuracy_score(y_test[\"Class\"], y_pred_rs_nri81_rf)\n",
        "f1_rs_nri81_rf = f1_score(y_test[\"Class\"], y_pred_rs_nri81_rf, average = 'weighted')\n",
        "print(f\"Best RF Accuracy: {acc_test_rs_nri81_rf:.2f}\")\n",
        "print(f\"Best RF F1: {f1_rs_nri81_rf:.6f}\")"
      ]
    },
    {
      "cell_type": "code",
      "execution_count": null,
      "metadata": {
        "id": "2zkZAXpCOyjD"
      },
      "outputs": [],
      "source": [
        "# ================================================================================\n",
        "# Matriz de Confusão - conjunto de teste (n = 566)\n",
        "# ================================================================================\n",
        "cm_rs_nri81_rf = confusion_matrix(y_test['Class'], y_pred_rs_nri81_rf)\n",
        "disp_rs_nri81_rf = ConfusionMatrixDisplay(confusion_matrix = cm_rs_nri81_rf, display_labels = rs_nri81_rf.classes_)\n",
        "disp_rs_nri81_rf.plot(cmap = 'Blues', xticks_rotation = 90)\n",
        "disp_rs_nri81_rf.ax_.set_xlabel('Predito', fontsize=10, style='normal', fontweight = 'bold')\n",
        "disp_rs_nri81_rf.ax_.set_ylabel(\"Observado\", fontsize=10, style='normal', fontweight = 'bold')\n",
        "disp_rs_nri81_rf.ax_.xaxis.set_tick_params(labelsize=10)\n",
        "disp_rs_nri81_rf.ax_.yaxis.set_tick_params(labelsize=10)\n",
        "plt.yticks(style='italic')\n",
        "plt.xticks(style='italic')\n",
        "\n",
        "plt.savefig(f'.Output/CM_LBP/RF/cm_rs_nri81_rf', dpi = 600, bbox_inches='tight')\n",
        "plt.show()"
      ]
    },
    {
      "cell_type": "code",
      "execution_count": null,
      "metadata": {
        "id": "aa36Ts_POyjD"
      },
      "outputs": [],
      "source": [
        "# ================================================================================\n",
        "# Relatório de classificação (Conjunto de teste)\n",
        "# ================================================================================\n",
        "print(classification_report(y_test['Class'], y_pred_rs_nri81_rf, target_names= rs_nri81_rf.classes_))"
      ]
    },
    {
      "cell_type": "markdown",
      "metadata": {
        "id": "M6f_DDVeOyjD"
      },
      "source": [
        "#### **Modelo C6**: Usando features LBP Uniforme Não Invariante (P = 16, R = 2)"
      ]
    },
    {
      "cell_type": "code",
      "execution_count": null,
      "metadata": {
        "id": "Os1vr60hOyjD"
      },
      "outputs": [],
      "source": [
        "# ================================================================================\n",
        "# Ajuste de Hiperparâmetros (Hyperparameter tuning) - RandomizedSearchCV()\n",
        "# ================================================================================\n",
        "\n",
        "param_grid = {'n_estimators': np.arange(40, 320, 20),                        # Número de árvores (estimadores) na floresta aleatória\n",
        "              'max_depth': list(np.arange(10, 100, step=10)) + [None],       # Número máximo de níveis na árvore\n",
        "              'max_features': list(np.arange(30, 60, 5)) + ['sqrt', \"log2\"], # Número de variáveis a serem considerados em cada divisão\n",
        "              'criterion': ['gini','entropy'],\n",
        "              'min_samples_leaf': np.arange(10, 110, 10),                    # Número mínimo de amostras exigidos em cada nó folha (terminal)\n",
        "              'min_samples_split': np.arange(2, 10, 2),                      # Número mínimo de amostras exigido para dividir um nó\n",
        "              'bootstrap': [True, False]                                     # Método de seleção de amostras para treinamento de cada árvore\n",
        "              }\n",
        "\n",
        "# Create the RandomizedSearchCV object\n",
        "rs_nri162_rf = RandomizedSearchCV(estimator = model_rf, param_distributions = param_grid,\n",
        "                           scoring = metrics, cv = cv, refit = 'accuracy',\n",
        "                           verbose = 3, return_train_score = False, n_iter = 50)\n",
        "\n",
        "rs_nri162_rf.fit(X_train_nri162, y_train['Class'], groups = y_train['Sample'])\n",
        "\n",
        "# Salvar modelo\n",
        "pickle.dump(rs_nri162_rf, open(f'./Output/Models_LBP/rs_nri162_rf.pickle', \"wb\"))\n",
        "joblib.dump(rs_nri162_rf, open(f'./Output/Models_LBP/rs_nri162_rf.joblib', \"wb\"))\n",
        "\n",
        "print(f'Melhores hiperparâmetros: {rs_nri162_rf.best_params_}')\n",
        "print(f'Melhor Acurácia: {rs_nri162_rf.best_score_}')\n",
        "print(f'Melhor Estimador: {rs_nri162_rf.best_estimator_}')"
      ]
    },
    {
      "cell_type": "code",
      "execution_count": null,
      "metadata": {
        "id": "V5JHoPMTOyjD"
      },
      "outputs": [],
      "source": [
        "# ================================================================================\n",
        "# Desempenho na Validação Cruzada (Stratified Group 5-fold cross-validation)\n",
        "# ================================================================================\n",
        "#rs_svc = pickle.load(open('./Output/Models/rs_svc.pickle', \"rb\"))\n",
        "res1_rs_nri162_rf = pd.DataFrame(rs_nri162_rf.cv_results_).filter(regex = r'(params|test)').sort_values(by=[\"rank_test_accuracy\"])\n",
        "\n",
        "accf1_rs_nri162_rf = res1_rs_nri162_rf.iloc[0].filter(regex = r'(accuracy|f1)').filter(regex = 'split')\n",
        "min_acc_rs_nri162_rf = accf1_rs_nri162_rf.filter(regex = 'accuracy').min()\n",
        "max_acc_rs_nri162_rf = accf1_rs_nri162_rf.filter(regex = 'accuracy').max()\n",
        "min_f1_rs_nri162_rf = accf1_rs_nri162_rf.filter(regex = 'f1').min()\n",
        "max_f1_rs_nri162_rf = accf1_rs_nri162_rf.filter(regex = 'f1').max()\n",
        "\n",
        "print(f'Acurácia min: {min_acc_rs_nri162_rf:.6f}')\n",
        "print(f'Acurácia max: {max_acc_rs_nri162_rf:.6f}')\n",
        "print(f'F1 min: {min_f1_rs_nri162_rf:.6f}')\n",
        "print(f'F1 max: {max_f1_rs_nri162_rf:.6f}')\n",
        "\n",
        "res2_rs_nri162_rf = res1_rs_nri162_rf.filter(regex = r'(mean|std|params)')\n",
        "display(res2_rs_nri162_rf.iloc[0])"
      ]
    },
    {
      "cell_type": "code",
      "execution_count": null,
      "metadata": {
        "id": "dSvgPCyoOyjD"
      },
      "outputs": [],
      "source": [
        "# ================================================================================\n",
        "# Matriz de Confusão - Validação Cruzada\n",
        "# ================================================================================\n",
        "cm_cv(rs_nri162_rf, X_train_nri162, y_train['Class'], y_train['Sample'], name = 'rs_nri162_rf')"
      ]
    },
    {
      "cell_type": "code",
      "execution_count": null,
      "metadata": {
        "id": "Ca1tu_qyOyjE"
      },
      "outputs": [],
      "source": [
        "# ================================================================================\n",
        "# Desempenho no conjunto de teste\n",
        "# ================================================================================\n",
        "y_pred_rs_nri162_rf = rs_nri162_rf.predict(X_test_nri162)\n",
        "acc_test_rs_nri162_rf = accuracy_score(y_test[\"Class\"], y_pred_rs_nri162_rf)\n",
        "f1_rs_nri162_rf = f1_score(y_test[\"Class\"], y_pred_rs_nri162_rf, average = 'weighted')\n",
        "print(f\"Best RF Accuracy: {acc_test_rs_nri162_rf:.2f}\")\n",
        "print(f\"Best RF F1: {f1_rs_nri162_rf:.6f}\")"
      ]
    },
    {
      "cell_type": "code",
      "execution_count": null,
      "metadata": {
        "id": "saXSqOjjOyjE"
      },
      "outputs": [],
      "source": [
        "# ================================================================================\n",
        "# Matriz de Confusão - conjunto de teste (n = 566)\n",
        "# ================================================================================\n",
        "cm_rs_nri162_rf = confusion_matrix(y_test['Class'], y_pred_rs_nri162_rf)\n",
        "disp_rs_nri162_rf = ConfusionMatrixDisplay(confusion_matrix = cm_rs_nri162_rf, display_labels = rs_nri162_rf.classes_)\n",
        "disp_rs_nri162_rf.plot(cmap = 'Blues', xticks_rotation = 90)\n",
        "disp_rs_nri162_rf.ax_.set_xlabel('Predito', fontsize=10, style='normal', fontweight = 'bold')\n",
        "disp_rs_nri162_rf.ax_.set_ylabel(\"Observado\", fontsize=10, style='normal', fontweight = 'bold')\n",
        "disp_rs_nri162_rf.ax_.xaxis.set_tick_params(labelsize=10)\n",
        "disp_rs_nri162_rf.ax_.yaxis.set_tick_params(labelsize=10)\n",
        "plt.yticks(style='italic')\n",
        "plt.xticks(style='italic')\n",
        "\n",
        "plt.savefig(f'./Output/CM_LBP/RF/cm_rs_nri162_rf', dpi = 600, bbox_inches='tight')\n",
        "plt.show()"
      ]
    },
    {
      "cell_type": "code",
      "execution_count": null,
      "metadata": {
        "id": "CC-Uf5qgOyjE"
      },
      "outputs": [],
      "source": [
        "# ================================================================================\n",
        "# Relatório de classificação (Conjunto de teste)\n",
        "# ================================================================================\n",
        "print(classification_report(y_test['Class'], y_pred_rs_nri162_rf, target_names= rs_nri162_rf.classes_))"
      ]
    },
    {
      "cell_type": "markdown",
      "metadata": {
        "id": "ZHxoHp9GOyjE"
      },
      "source": [
        "#### **Modelo C7**: Usando features LBP Uniforme Não Invariante (P = 24, R = 3)"
      ]
    },
    {
      "cell_type": "code",
      "execution_count": null,
      "metadata": {
        "id": "jiBXDsBEOyjE"
      },
      "outputs": [],
      "source": [
        "# ================================================================================\n",
        "# Ajuste de Hiperparâmetros (Hyperparameter tuning) - RandomizedSearchCV()\n",
        "# ================================================================================\n",
        "\n",
        "param_grid = {'n_estimators': np.arange(40, 320, 20),                        # Número de árvores (estimadores) na floresta aleatória\n",
        "              'max_depth': list(np.arange(10, 100, step=10)) + [None],       # Número máximo de níveis na árvore\n",
        "              'max_features': list(np.arange(30, 60, 5)) + ['sqrt', \"log2\"], # Número de variáveis a serem considerados em cada divisão\n",
        "              'criterion': ['gini','entropy'],\n",
        "              'min_samples_leaf': np.arange(10, 110, 10),                    # Número mínimo de amostras exigidos em cada nó folha (terminal)\n",
        "              'min_samples_split': np.arange(2, 10, 2),                      # Número mínimo de amostras exigido para dividir um nó\n",
        "              'bootstrap': [True, False]                                     # Método de seleção de amostras para treinamento de cada árvore\n",
        "              }\n",
        "\n",
        "# Create the RandomizedSearchCV object\n",
        "rs_nri243_rf = RandomizedSearchCV(estimator = model_rf, param_distributions = param_grid,\n",
        "                           scoring = metrics, cv = cv, refit = 'accuracy',\n",
        "                           verbose = 3, return_train_score = False, n_iter = 50)\n",
        "\n",
        "rs_nri243_rf.fit(X_train_nri243, y_train['Class'], groups = y_train['Sample'])\n",
        "\n",
        "# Salvar modelo\n",
        "pickle.dump(rs_nri243_rf, open(f'./Output/Models_LBP/rs_nri243_rf.pickle', \"wb\"))\n",
        "joblib.dump(rs_nri243_rf, open(f'./Output/Models_LBP/rs_nri243_rf.joblib', \"wb\"))\n",
        "\n",
        "print(f'Melhores hiperparâmetros: {rs_nri243_rf.best_params_}')\n",
        "print(f'Melhor Acurácia: {rs_nri243_rf.best_score_}')\n",
        "print(f'Melhor Estimador: {rs_nri243_rf.best_estimator_}')"
      ]
    },
    {
      "cell_type": "code",
      "execution_count": null,
      "metadata": {
        "id": "H4hqSwIfOyjE"
      },
      "outputs": [],
      "source": [
        "# ================================================================================\n",
        "# Desempenho na Validação Cruzada (Stratified Group 5-fold cross-validation)\n",
        "# ================================================================================\n",
        "#rs_svc = pickle.load(open('./Output/Models/rs_svc.pickle', \"rb\"))\n",
        "res1_rs_nri243_rf = pd.DataFrame(rs_nri243_rf.cv_results_).filter(regex = r'(params|test)').sort_values(by=[\"rank_test_accuracy\"])\n",
        "\n",
        "accf1_rs_nri243_rf = res1_rs_nri243_rf.iloc[0].filter(regex = r'(accuracy|f1)').filter(regex = 'split')\n",
        "min_acc_rs_nri243_rf = accf1_rs_nri243_rf.filter(regex = 'accuracy').min()\n",
        "max_acc_rs_nri243_rf = accf1_rs_nri243_rf.filter(regex = 'accuracy').max()\n",
        "min_f1_rs_nri243_rf = accf1_rs_nri243_rf.filter(regex = 'f1').min()\n",
        "max_f1_rs_nri243_rf = accf1_rs_nri243_rf.filter(regex = 'f1').max()\n",
        "\n",
        "print(f'Acurácia min: {min_acc_rs_nri243_rf:.6f}')\n",
        "print(f'Acurácia max: {max_acc_rs_nri243_rf:.6f}')\n",
        "print(f'F1 min: {min_f1_rs_nri243_rf:.6f}')\n",
        "print(f'F1 max: {max_f1_rs_nri243_rf:.6f}')\n",
        "\n",
        "res2_rs_nri243_rf = res1_rs_nri243_rf.filter(regex = r'(mean|std|params)')\n",
        "display(res2_rs_nri243_rf.iloc[0])"
      ]
    },
    {
      "cell_type": "code",
      "execution_count": null,
      "metadata": {
        "id": "aWAoWSS0OyjF"
      },
      "outputs": [],
      "source": [
        "# ================================================================================\n",
        "# Matriz de Confusão - Validação Cruzada\n",
        "# ================================================================================\n",
        "cm_cv(rs_nri243_rf, X_train_nri243, y_train['Class'], y_train['Sample'], name = 'rs_nri243_rf')"
      ]
    },
    {
      "cell_type": "code",
      "execution_count": null,
      "metadata": {
        "id": "1VdEvo_NOyjF"
      },
      "outputs": [],
      "source": [
        "# ================================================================================\n",
        "# Desempenho no conjunto de teste\n",
        "# ================================================================================\n",
        "y_pred_rs_nri243_rf = rs_nri243_rf.predict(X_test_nri243)\n",
        "acc_test_rs_nri243_rf = accuracy_score(y_test[\"Class\"], y_pred_rs_nri243_rf)\n",
        "f1_rs_nri243_rf = f1_score(y_test[\"Class\"], y_pred_rs_nri243_rf, average = 'weighted')\n",
        "print(f\"Best RF Accuracy: {acc_test_rs_nri243_rf:.2f}\")\n",
        "print(f\"Best RF F1: {f1_rs_nri243_rf:.6f}\")"
      ]
    },
    {
      "cell_type": "code",
      "execution_count": null,
      "metadata": {
        "id": "JzfiNBDnOyjF"
      },
      "outputs": [],
      "source": [
        "# ================================================================================\n",
        "# Matriz de Confusão - conjunto de teste (n = 566)\n",
        "# ================================================================================\n",
        "cm_rs_nri243_rf = confusion_matrix(y_test['Class'], y_pred_rs_nri243_rf)\n",
        "disp_rs_nri243_rf = ConfusionMatrixDisplay(confusion_matrix = cm_rs_nri243_rf, display_labels = rs_nri243_rf.classes_)\n",
        "disp_rs_nri243_rf.plot(cmap = 'Blues', xticks_rotation = 90)\n",
        "disp_rs_nri243_rf.ax_.set_xlabel('Predito', fontsize=10, style='normal', fontweight = 'bold')\n",
        "disp_rs_nri243_rf.ax_.set_ylabel(\"Observado\", fontsize=10, style='normal', fontweight = 'bold')\n",
        "disp_rs_nri243_rf.ax_.xaxis.set_tick_params(labelsize=10)\n",
        "disp_rs_nri243_rf.ax_.yaxis.set_tick_params(labelsize=10)\n",
        "plt.yticks(style='italic')\n",
        "plt.xticks(style='italic')\n",
        "\n",
        "plt.savefig(f'./Output/CM_LBP/RF/cm_rs_nri243_rf', dpi = 600, bbox_inches='tight')\n",
        "plt.show()"
      ]
    },
    {
      "cell_type": "code",
      "execution_count": null,
      "metadata": {
        "id": "kAV-XCGlOyjF"
      },
      "outputs": [],
      "source": [
        "# ================================================================================\n",
        "# Relatório de classificação (Conjunto de teste)\n",
        "# ================================================================================\n",
        "print(classification_report(y_test['Class'], y_pred_rs_nri243_rf, target_names= rs_nri243_rf.classes_))"
      ]
    },
    {
      "cell_type": "markdown",
      "metadata": {
        "id": "C60_yNEOOyjF"
      },
      "source": [
        "#### **Modelo C8**: Usando features LBP Uniforme Não Invariante (Todos)"
      ]
    },
    {
      "cell_type": "code",
      "execution_count": null,
      "metadata": {
        "id": "Ip9Dd65VOyjG"
      },
      "outputs": [],
      "source": [
        "# ================================================================================\n",
        "# Ajuste de Hiperparâmetros (Hyperparameter tuning) - RandomizedSearchCV()\n",
        "# ================================================================================\n",
        "\n",
        "param_grid = {'n_estimators': np.arange(40, 320, 20),                        # Número de árvores (estimadores) na floresta aleatória\n",
        "              'max_depth': list(np.arange(10, 100, step=10)) + [None],       # Número máximo de níveis na árvore\n",
        "              'max_features': list(np.arange(30, 60, 5)) + ['sqrt', \"log2\"], # Número de variáveis a serem considerados em cada divisão\n",
        "              'criterion': ['gini','entropy'],\n",
        "              'min_samples_leaf': np.arange(10, 110, 10),                    # Número mínimo de amostras exigidos em cada nó folha (terminal)\n",
        "              'min_samples_split': np.arange(2, 10, 2),                      # Número mínimo de amostras exigido para dividir um nó\n",
        "              'bootstrap': [True, False]                                     # Método de seleção de amostras para treinamento de cada árvore\n",
        "              }\n",
        "\n",
        "# Create the RandomizedSearchCV object\n",
        "rs_nri_rf = RandomizedSearchCV(estimator = model_rf, param_distributions = param_grid,\n",
        "                           scoring = metrics, cv = cv, refit = 'accuracy',\n",
        "                           verbose = 3, return_train_score = False, n_iter = 50)\n",
        "\n",
        "rs_nri_rf.fit(X_train_nri, y_train['Class'], groups = y_train['Sample'])\n",
        "\n",
        "# Salvar modelo\n",
        "pickle.dump(rs_nri_rf, open(f'./Output/Models_LBP/rs_nri_rf.pickle', \"wb\"))\n",
        "joblib.dump(rs_nri_rf, open(f'./Output/Models_LBP/rs_nri_rf.joblib', \"wb\"))\n",
        "\n",
        "print(f'Melhores hiperparâmetros: {rs_nri_rf.best_params_}')\n",
        "print(f'Melhor Acurácia: {rs_nri_rf.best_score_}')\n",
        "print(f'Melhor Estimador: {rs_nri_rf.best_estimator_}')"
      ]
    },
    {
      "cell_type": "code",
      "execution_count": null,
      "metadata": {
        "id": "6Oc-_dVbOyjG"
      },
      "outputs": [],
      "source": [
        "# ================================================================================\n",
        "# Desempenho na Validação Cruzada (Stratified Group 5-fold cross-validation)\n",
        "# ================================================================================\n",
        "#rs_svc = pickle.load(open('./Output/Models/rs_svc.pickle', \"rb\"))\n",
        "res1_rs_nri_rf = pd.DataFrame(rs_nri_rf.cv_results_).filter(regex = r'(params|test)').sort_values(by=[\"rank_test_accuracy\"])\n",
        "\n",
        "accf1_rs_nri_rf = res1_rs_nri_rf.iloc[0].filter(regex = r'(accuracy|f1)').filter(regex = 'split')\n",
        "min_acc_rs_nri_rf = accf1_rs_nri_rf.filter(regex = 'accuracy').min()\n",
        "max_acc_rs_nri_rf = accf1_rs_nri_rf.filter(regex = 'accuracy').max()\n",
        "min_f1_rs_nri_rf = accf1_rs_nri_rf.filter(regex = 'f1').min()\n",
        "max_f1_rs_nri_rf = accf1_rs_nri_rf.filter(regex = 'f1').max()\n",
        "\n",
        "print(f'Acurácia min: {min_acc_rs_nri_rf:.6f}')\n",
        "print(f'Acurácia max: {max_acc_rs_nri_rf:.6f}')\n",
        "print(f'F1 min: {min_f1_rs_nri_rf:.6f}')\n",
        "print(f'F1 max: {max_f1_rs_nri_rf:.6f}')\n",
        "\n",
        "res2_rs_nri_rf = res1_rs_nri_rf.filter(regex = r'(mean|std|params)')\n",
        "display(res2_rs_nri_rf.iloc[0])"
      ]
    },
    {
      "cell_type": "code",
      "execution_count": null,
      "metadata": {
        "id": "jHZ379IkOyjG"
      },
      "outputs": [],
      "source": [
        "# ================================================================================\n",
        "# Matriz de Confusão - Validação Cruzada\n",
        "# ================================================================================\n",
        "cm_cv(rs_nri_rf, X_train_nri, y_train['Class'], y_train['Sample'], name = 'rs_nri_rf')"
      ]
    },
    {
      "cell_type": "code",
      "execution_count": null,
      "metadata": {
        "id": "8oZYRnJEOyjG"
      },
      "outputs": [],
      "source": [
        "# ================================================================================\n",
        "# Desempenho no conjunto de teste\n",
        "# ================================================================================\n",
        "y_pred_rs_nri_rf = rs_nri_rf.predict(X_test_nri)\n",
        "acc_test_rs_nri_rf = accuracy_score(y_test[\"Class\"], y_pred_rs_nri_rf)\n",
        "f1_rs_nri_rf = f1_score(y_test[\"Class\"], y_pred_rs_nri_rf, average = 'weighted')\n",
        "print(f\"Best RF Accuracy: {acc_test_rs_nri_rf:.2f}\")\n",
        "print(f\"Best RF F1: {f1_rs_nri_rf:.6f}\")"
      ]
    },
    {
      "cell_type": "code",
      "execution_count": null,
      "metadata": {
        "id": "bFGXaV0OOyjG"
      },
      "outputs": [],
      "source": [
        "# ================================================================================\n",
        "# Matriz de Confusão - conjunto de teste (n = 566)\n",
        "# ================================================================================\n",
        "cm_rs_nri_rf = confusion_matrix(y_test['Class'], y_pred_rs_nri_rf)\n",
        "disp_rs_nri_rf = ConfusionMatrixDisplay(confusion_matrix = cm_rs_nri_rf, display_labels = rs_nri_rf.classes_)\n",
        "disp_rs_nri_rf.plot(cmap = 'Blues', xticks_rotation = 90)\n",
        "disp_rs_nri_rf.ax_.set_xlabel('Predito', fontsize=10, style='normal', fontweight = 'bold')\n",
        "disp_rs_nri_rf.ax_.set_ylabel(\"Observado\", fontsize=10, style='normal', fontweight = 'bold')\n",
        "disp_rs_nri_rf.ax_.xaxis.set_tick_params(labelsize=10)\n",
        "disp_rs_nri_rf.ax_.yaxis.set_tick_params(labelsize=10)\n",
        "plt.yticks(style='italic')\n",
        "plt.xticks(style='italic')\n",
        "\n",
        "plt.savefig(f'./Output/CM_LBP/RF/cm_rs_nri_rf', dpi = 600, bbox_inches='tight')\n",
        "plt.show()"
      ]
    },
    {
      "cell_type": "code",
      "execution_count": null,
      "metadata": {
        "id": "Zf_UFWU9OyjG"
      },
      "outputs": [],
      "source": [
        "# ================================================================================\n",
        "# Relatório de classificação (Conjunto de teste)\n",
        "# ================================================================================\n",
        "print(classification_report(y_test['Class'], y_pred_rs_nri_rf, target_names= rs_nri_rf.classes_))"
      ]
    },
    {
      "cell_type": "markdown",
      "metadata": {
        "id": "rUCqtjt3OyjG"
      },
      "source": [
        "#### **Modelo C9**: Usando features LBP (Todos)"
      ]
    },
    {
      "cell_type": "code",
      "execution_count": null,
      "metadata": {
        "id": "EOlOc8OKOyjG"
      },
      "outputs": [],
      "source": [
        "# ================================================================================\n",
        "# Ajuste de Hiperparâmetros (Hyperparameter tuning) - RandomizedSearchCV()\n",
        "# ================================================================================\n",
        "\n",
        "param_grid = {'n_estimators': np.arange(40, 320, 20),                        # Número de árvores (estimadores) na floresta aleatória\n",
        "              'max_depth': list(np.arange(10, 100, step=10)) + [None],       # Número máximo de níveis na árvore\n",
        "              'max_features': list(np.arange(30, 60, 5)) + ['sqrt', \"log2\"], # Número de variáveis a serem considerados em cada divisão\n",
        "              'criterion': ['gini','entropy'],\n",
        "              'min_samples_leaf': np.arange(10, 110, 10),                    # Número mínimo de amostras exigidos em cada nó folha (terminal)\n",
        "              'min_samples_split': np.arange(2, 10, 2),                      # Número mínimo de amostras exigido para dividir um nó\n",
        "              'bootstrap': [True, False]                                     # Método de seleção de amostras para treinamento de cada árvore\n",
        "              }\n",
        "\n",
        "# Create the RandomizedSearchCV object\n",
        "rs_unri_rf = RandomizedSearchCV(estimator = model_rf, param_distributions = param_grid,\n",
        "                           scoring = metrics, cv = cv, refit = 'accuracy',\n",
        "                           verbose = 3, return_train_score = False, n_iter = 50)\n",
        "\n",
        "rs_unri_rf.fit(X_train_unri, y_train['Class'], groups = y_train['Sample'])\n",
        "\n",
        "# Salvar modelo\n",
        "pickle.dump(rs_unri_rf, open(f'./Output/Models_LBP/rs_unri_rf.pickle', \"wb\"))\n",
        "joblib.dump(rs_unri_rf, open(f'./Output/Models_LBP/rs_unri_rf.joblib', \"wb\"))\n",
        "\n",
        "print(f'Melhores hiperparâmetros: {rs_unri_rf.best_params_}')\n",
        "print(f'Melhor Acurácia: {rs_unri_rf.best_score_}')\n",
        "print(f'Melhor Estimador: {rs_unri_rf.best_estimator_}')"
      ]
    },
    {
      "cell_type": "code",
      "execution_count": null,
      "metadata": {
        "id": "SUL_p4IeOyjH"
      },
      "outputs": [],
      "source": [
        "# ================================================================================\n",
        "# Desempenho na Validação Cruzada (Stratified Group 5-fold cross-validation)\n",
        "# ================================================================================\n",
        "#rs_svc = pickle.load(open('./Output/Models/rs_svc.pickle', \"rb\"))\n",
        "res1_rs_unri_rf = pd.DataFrame(rs_unri_rf.cv_results_).filter(regex = r'(params|test)').sort_values(by=[\"rank_test_accuracy\"])\n",
        "\n",
        "accf1_rs_unri_rf = res1_rs_unri_rf.iloc[0].filter(regex = r'(accuracy|f1)').filter(regex = 'split')\n",
        "min_acc_rs_unri_rf = accf1_rs_unri_rf.filter(regex = 'accuracy').min()\n",
        "max_acc_rs_unri_rf = accf1_rs_unri_rf.filter(regex = 'accuracy').max()\n",
        "min_f1_rs_unri_rf = accf1_rs_unri_rf.filter(regex = 'f1').min()\n",
        "max_f1_rs_unri_rf = accf1_rs_unri_rf.filter(regex = 'f1').max()\n",
        "\n",
        "print(f'Acurácia min: {min_acc_rs_unri_rf:.6f}')\n",
        "print(f'Acurácia max: {max_acc_rs_unri_rf:.6f}')\n",
        "print(f'F1 min: {min_f1_rs_unri_rf:.6f}')\n",
        "print(f'F1 max: {max_f1_rs_unri_rf:.6f}')\n",
        "\n",
        "res2_rs_unri_rf = res1_rs_unri_rf.filter(regex = r'(mean|std|params)')\n",
        "display(res2_rs_unri_rf.iloc[0])"
      ]
    },
    {
      "cell_type": "code",
      "execution_count": null,
      "metadata": {
        "id": "t5RBBa5_OyjH"
      },
      "outputs": [],
      "source": [
        "# ================================================================================\n",
        "# Matriz de Confusão - Validação Cruzada\n",
        "# ================================================================================\n",
        "cm_cv(rs_unri_rf, X_train_unri, y_train['Class'], y_train['Sample'], name = 'rs_unri_rf')"
      ]
    },
    {
      "cell_type": "code",
      "execution_count": null,
      "metadata": {
        "id": "jaIbXGXJOyjH"
      },
      "outputs": [],
      "source": [
        "# ================================================================================\n",
        "# Desempenho no conjunto de teste\n",
        "# ================================================================================\n",
        "y_pred_rs_unri_rf = rs_unri_rf.predict(X_test_unri)\n",
        "acc_test_rs_unri_rf = accuracy_score(y_test[\"Class\"], y_pred_rs_unri_rf)\n",
        "f1_rs_unri_rf = f1_score(y_test[\"Class\"], y_pred_rs_unri_rf, average = 'weighted')\n",
        "print(f\"Best RF Accuracy: {acc_test_rs_unri_rf:.2f}\")\n",
        "print(f\"Best RF F1: {f1_rs_unri_rf:.6f}\")"
      ]
    },
    {
      "cell_type": "code",
      "execution_count": null,
      "metadata": {
        "id": "QDHeSLcgOyjH"
      },
      "outputs": [],
      "source": [
        "# ================================================================================\n",
        "# Matriz de Confusão - conjunto de teste (n = 566)\n",
        "# ================================================================================\n",
        "cm_rs_unri_rf = confusion_matrix(y_test['Class'], y_pred_rs_unri_rf)\n",
        "disp_rs_unri_rf = ConfusionMatrixDisplay(confusion_matrix = cm_rs_unri_rf, display_labels = rs_unri_rf.classes_)\n",
        "disp_rs_unri_rf.plot(cmap = 'Blues', xticks_rotation = 90)\n",
        "disp_rs_unri_rf.ax_.set_xlabel('Predito', fontsize=10, style='normal', fontweight = 'bold')\n",
        "disp_rs_unri_rf.ax_.set_ylabel(\"Observado\", fontsize=10, style='normal', fontweight = 'bold')\n",
        "disp_rs_unri_rf.ax_.xaxis.set_tick_params(labelsize=10)\n",
        "disp_rs_unri_rf.ax_.yaxis.set_tick_params(labelsize=10)\n",
        "plt.yticks(style='italic')\n",
        "plt.xticks(style='italic')\n",
        "\n",
        "plt.savefig(f'./Output/CM_LBP/RF/cm_rs_unri_rf', dpi = 600, bbox_inches='tight')\n",
        "plt.show()"
      ]
    },
    {
      "cell_type": "code",
      "execution_count": null,
      "metadata": {
        "id": "iLiqf8vfOyjH"
      },
      "outputs": [],
      "source": [
        "# ================================================================================\n",
        "# Relatório de classificação (Conjunto de teste)\n",
        "# ================================================================================\n",
        "print(classification_report(y_test['Class'], y_pred_rs_unri_rf, target_names= rs_unri_rf.classes_))"
      ]
    },
    {
      "cell_type": "markdown",
      "metadata": {
        "id": "s5_TYbtoxLYL"
      },
      "source": [
        "### **2.4.6 - Linear Discriminant Analysis - LDA**"
      ]
    },
    {
      "cell_type": "code",
      "execution_count": null,
      "metadata": {
        "id": "ulI9Q-SKxZo8"
      },
      "outputs": [],
      "source": [
        "# ================================================================================\n",
        "# Definições do estimador LDA\n",
        "# ================================================================================\n",
        "# LinearDiscriminantAnalysis().get_params()\n",
        "\n",
        "# Define o modelo\n",
        "model_lda = LinearDiscriminantAnalysis(shrinkage='auto', n_components = None)"
      ]
    },
    {
      "cell_type": "markdown",
      "metadata": {
        "id": "saTFKlHTJMqI"
      },
      "source": [
        "#### **Modelo C1**: Usando features LBP Uniforme (P = 8, R = 1)"
      ]
    },
    {
      "cell_type": "code",
      "execution_count": null,
      "metadata": {
        "id": "0l4v1V71Jasw"
      },
      "outputs": [],
      "source": [
        "# ================================================================================\n",
        "# Ajuste de Hiperparâmetros (Hyperparameter tuning) - RandomizedSearchCV()\n",
        "# ================================================================================\n",
        "\n",
        "param_grid = {'solver': ['lsqr', 'eigen'],\n",
        "              'tol' : [0.0001, 0.0002, 0.0003]}\n",
        "\n",
        "# Create the RandomizedSearchCV object\n",
        "rs_u81_lda = RandomizedSearchCV(estimator = model_lda, param_distributions = param_grid,\n",
        "                            scoring = metrics, cv = cv, refit = 'accuracy',\n",
        "                            verbose = 3, return_train_score = False, n_iter = 50)\n",
        "\n",
        "rs_u81_lda.fit(X_train_u81, y_train['Class'], groups = y_train['Sample'])\n",
        "\n",
        "# Salvar modelo\n",
        "pickle.dump(rs_u81_lda, open(f'./Output/Models/rs_u81_lda.pickle', \"wb\"))\n",
        "joblib.dump(rs_u81_lda, open(f'./Output/Models/rs_u81_lda.joblib', \"wb\"))\n",
        "\n",
        "print(f'Os melhores parâmetros foram: {rs_u81_lda.best_params_}')\n",
        "print(f'A melhor acurácia foi de: {rs_u81_lda.best_score_:.4f}')\n",
        "print(f'O melhor modelo foi: {rs_u81_lda.best_estimator_}')"
      ]
    },
    {
      "cell_type": "code",
      "execution_count": null,
      "metadata": {
        "id": "EoftocbyJas5"
      },
      "outputs": [],
      "source": [
        "# ================================================================================\n",
        "# Desempenho na Validação Cruzada (Stratified Group 5-fold cross-validation)\n",
        "# ================================================================================\n",
        "#rs_svc = pickle.load(open('./Output/Models/rs_svc.pickle', \"rb\"))\n",
        "res1_rs_u81_lda = pd.DataFrame(rs_u81_lda.cv_results_).filter(regex = r'(params|test)').sort_values(by=[\"rank_test_accuracy\"])\n",
        "\n",
        "accf1_rs_u81_lda = res1_rs_u81_lda.iloc[0].filter(regex = r'(accuracy|f1)').filter(regex = 'split')\n",
        "min_acc_rs_u81_lda = accf1_rs_u81_lda.filter(regex = 'accuracy').min()\n",
        "max_acc_rs_u81_lda = accf1_rs_u81_lda.filter(regex = 'accuracy').max()\n",
        "min_f1_rs_u81_lda = accf1_rs_u81_lda.filter(regex = 'f1').min()\n",
        "max_f1_rs_u81_lda = accf1_rs_u81_lda.filter(regex = 'f1').max()\n",
        "\n",
        "print(f'Acurácia min: {min_acc_rs_u81_lda:.6f}')\n",
        "print(f'Acurácia max: {max_acc_rs_u81_lda:.6f}')\n",
        "print(f'F1 min: {min_f1_rs_u81_lda:.6f}')\n",
        "print(f'F1 max: {max_f1_rs_u81_lda:.6f}')\n",
        "\n",
        "res2_rs_u81_lda = res1_rs_u81_lda.filter(regex = r'(mean|std|params)')\n",
        "display(res2_rs_u81_lda.iloc[0])\n"
      ]
    },
    {
      "cell_type": "code",
      "execution_count": null,
      "metadata": {
        "id": "9M_RnO1WJas5"
      },
      "outputs": [],
      "source": [
        "# ================================================================================\n",
        "# Matriz de Confusão - Validação Cruzada\n",
        "# ================================================================================\n",
        "cm_cv(rs_u81_lda, X_train_u81, y_train['Class'], y_train['Sample'], name = 'rs_u81_lda')"
      ]
    },
    {
      "cell_type": "code",
      "execution_count": null,
      "metadata": {
        "id": "hW-kkG1NJas6"
      },
      "outputs": [],
      "source": [
        "# ================================================================================\n",
        "# Desempenho no conjunto de teste\n",
        "# ================================================================================\n",
        "y_pred_rs_u81_lda = rs_u81_lda.predict(X_test_u81)\n",
        "acc_test_rs_u81_lda = accuracy_score(y_test[\"Class\"], y_pred_rs_u81_lda)\n",
        "f1_rs_u81_lda = f1_score(y_test[\"Class\"], y_pred_rs_u81_lda, average = 'weighted')\n",
        "print(f\"Best LDA Accuracy: {acc_test_rs_u81_lda:.2f}\")\n",
        "print(f\"Best LDA F1: {f1_rs_u81_lda:.6f}\")"
      ]
    },
    {
      "cell_type": "code",
      "execution_count": null,
      "metadata": {
        "id": "BT_eFVHXJas6"
      },
      "outputs": [],
      "source": [
        "# ================================================================================\n",
        "# Matriz de Confusão - conjunto de teste (n = 566)\n",
        "# ================================================================================\n",
        "cm_rs_u81_lda = confusion_matrix(y_test['Class'], y_pred_rs_u81_lda)\n",
        "disp_rs_u81_lda = ConfusionMatrixDisplay(confusion_matrix = cm_rs_u81_lda, display_labels = rs_u81_lda.classes_)\n",
        "disp_rs_u81_lda.plot(cmap = 'Blues', xticks_rotation = 90)\n",
        "disp_rs_u81_lda.ax_.set_xlabel('Predito', fontsize=10, style='normal', fontweight = 'bold')\n",
        "disp_rs_u81_lda.ax_.set_ylabel(\"Observado\", fontsize=10, style='normal', fontweight = 'bold')\n",
        "disp_rs_u81_lda.ax_.xaxis.set_tick_params(labelsize=10)\n",
        "disp_rs_u81_lda.ax_.yaxis.set_tick_params(labelsize=10)\n",
        "plt.yticks(style='italic')\n",
        "plt.xticks(style='italic')\n",
        "\n",
        "plt.savefig(f'./Output/CM/cm_teste_u81_lda', dpi = 600, bbox_inches='tight')\n",
        "plt.show()"
      ]
    },
    {
      "cell_type": "code",
      "execution_count": null,
      "metadata": {
        "id": "C8wV7_nvJas7"
      },
      "outputs": [],
      "source": [
        "# ================================================================================\n",
        "# Relatório de classificação (Conjunto de teste)\n",
        "# ================================================================================\n",
        "print(classification_report(y_test['Class'], y_pred_rs_u81_lda, target_names= rs_u81_lda.classes_))"
      ]
    },
    {
      "cell_type": "markdown",
      "metadata": {
        "id": "eeQ9NiHPM1oj"
      },
      "source": [
        "#### **Modelo C2**: Usando features LBP Uniforme (P = 16, R = 2)"
      ]
    },
    {
      "cell_type": "code",
      "execution_count": null,
      "metadata": {
        "id": "U7gxpsqGNGNU"
      },
      "outputs": [],
      "source": [
        "# ================================================================================\n",
        "# Ajuste de Hiperparâmetros (Hyperparameter tuning) - RandomizedSearchCV()\n",
        "# ================================================================================\n",
        "\n",
        "param_grid = {'solver': ['lsqr', 'eigen'],\n",
        "              'tol' : [0.0001, 0.0002, 0.0003]}\n",
        "\n",
        "# Create the RandomizedSearchCV object\n",
        "rs_u162_lda = RandomizedSearchCV(estimator = model_lda, param_distributions = param_grid,\n",
        "                            scoring = metrics, cv = cv, refit = 'accuracy',\n",
        "                            verbose = 3, return_train_score = False, n_iter = 50)\n",
        "\n",
        "rs_u162_lda.fit(X_train_u162, y_train['Class'], groups = y_train['Sample'])\n",
        "\n",
        "# Salvar modelo\n",
        "pickle.dump(rs_u162_lda, open(f'./Output/Models/rs_u162_lda.pickle', \"wb\"))\n",
        "joblib.dump(rs_u162_lda, open(f'./Output/Models/rs_u162_lda.joblib', \"wb\"))\n",
        "\n",
        "print(f'Os melhores parâmetros foram: {rs_u162_lda.best_params_}')\n",
        "print(f'A melhor acurácia foi de: {rs_u162_lda.best_score_:.4f}')\n",
        "print(f'O melhor modelo foi: {rs_u162_lda.best_estimator_}')"
      ]
    },
    {
      "cell_type": "code",
      "execution_count": null,
      "metadata": {
        "id": "SKpWbJDmNGNe"
      },
      "outputs": [],
      "source": [
        "# ================================================================================\n",
        "# Desempenho na Validação Cruzada (Stratified Group 5-fold cross-validation)\n",
        "# ================================================================================\n",
        "#rs_svc = pickle.load(open('./Output/Models/rs_svc.pickle', \"rb\"))\n",
        "res1_rs_u162_lda = pd.DataFrame(rs_u162_lda.cv_results_).filter(regex = r'(params|test)').sort_values(by=[\"rank_test_accuracy\"])\n",
        "\n",
        "accf1_rs_u162_lda = res1_rs_u162_lda.iloc[0].filter(regex = r'(accuracy|f1)').filter(regex = 'split')\n",
        "min_acc_rs_u162_lda = accf1_rs_u162_lda.filter(regex = 'accuracy').min()\n",
        "max_acc_rs_u162_lda = accf1_rs_u162_lda.filter(regex = 'accuracy').max()\n",
        "min_f1_rs_u162_lda = accf1_rs_u162_lda.filter(regex = 'f1').min()\n",
        "max_f1_rs_u162_lda = accf1_rs_u162_lda.filter(regex = 'f1').max()\n",
        "\n",
        "print(f'Acurácia min: {min_acc_rs_u162_lda:.6f}')\n",
        "print(f'Acurácia max: {max_acc_rs_u162_lda:.6f}')\n",
        "print(f'F1 min: {min_f1_rs_u162_lda:.6f}')\n",
        "print(f'F1 max: {max_f1_rs_u162_lda:.6f}')\n",
        "\n",
        "res2_rs_u162_lda = res1_rs_u162_lda.filter(regex = r'(mean|std|params)')\n",
        "display(res2_rs_u162_lda.iloc[0])"
      ]
    },
    {
      "cell_type": "code",
      "execution_count": null,
      "metadata": {
        "id": "rGQU6u3DNGNe"
      },
      "outputs": [],
      "source": [
        "# ================================================================================\n",
        "# Matriz de Confusão - Validação Cruzada\n",
        "# ================================================================================\n",
        "cm_cv(rs_u162_lda, X_train_u162, y_train['Class'], y_train['Sample'], name = 'rs_u162_lda')"
      ]
    },
    {
      "cell_type": "code",
      "execution_count": null,
      "metadata": {
        "id": "2t_XFT4wNGNe"
      },
      "outputs": [],
      "source": [
        "# ================================================================================\n",
        "# Desempenho no conjunto de teste\n",
        "# ================================================================================\n",
        "y_pred_rs_u162_lda = rs_u162_lda.predict(X_test_u162)\n",
        "acc_test_rs_u162_lda = accuracy_score(y_test[\"Class\"], y_pred_rs_u162_lda)\n",
        "f1_rs_u162_lda = f1_score(y_test[\"Class\"], y_pred_rs_u162_lda, average = 'weighted')\n",
        "print(f\"Best LDA Accuracy: {acc_test_rs_u162_lda:.2f}\")\n",
        "print(f\"Best LDA F1: {f1_rs_u162_lda:.6f}\")"
      ]
    },
    {
      "cell_type": "code",
      "execution_count": null,
      "metadata": {
        "id": "vHhH3liANGNe"
      },
      "outputs": [],
      "source": [
        "# ================================================================================\n",
        "# Matriz de Confusão - conjunto de teste (n = 566)\n",
        "# ================================================================================\n",
        "cm_rs_u162_lda = confusion_matrix(y_test['Class'], y_pred_rs_u162_lda)\n",
        "disp_rs_u162_lda = ConfusionMatrixDisplay(confusion_matrix = cm_rs_u162_lda, display_labels = rs_u162_lda.classes_)\n",
        "disp_rs_u162_lda.plot(cmap = 'Blues', xticks_rotation = 90)\n",
        "disp_rs_u162_lda.ax_.set_xlabel('Predito', fontsize=10, style='normal', fontweight = 'bold')\n",
        "disp_rs_u162_lda.ax_.set_ylabel(\"Observado\", fontsize=10, style='normal', fontweight = 'bold')\n",
        "disp_rs_u162_lda.ax_.xaxis.set_tick_params(labelsize=10)\n",
        "disp_rs_u162_lda.ax_.yaxis.set_tick_params(labelsize=10)\n",
        "plt.yticks(style='italic')\n",
        "plt.xticks(style='italic')\n",
        "\n",
        "plt.savefig(f'./Output/CM/cm_teste_u162_lda', dpi = 600, bbox_inches='tight')\n",
        "plt.show()"
      ]
    },
    {
      "cell_type": "code",
      "execution_count": null,
      "metadata": {
        "id": "-Y4PICawNGNf"
      },
      "outputs": [],
      "source": [
        "# ================================================================================\n",
        "# Relatório de classificação (Conjunto de teste)\n",
        "# ================================================================================\n",
        "print(classification_report(y_test['Class'], y_pred_rs_u162_lda, target_names= rs_u162_lda.classes_))"
      ]
    },
    {
      "cell_type": "markdown",
      "metadata": {
        "id": "rR4K-TcJPBqG"
      },
      "source": [
        "#### **Modelo C3**: Usando features LBP Uniforme (P = 24, R = 3)"
      ]
    },
    {
      "cell_type": "code",
      "execution_count": null,
      "metadata": {
        "id": "omIhpybnPBqG"
      },
      "outputs": [],
      "source": [
        "# ================================================================================\n",
        "# Ajuste de Hiperparâmetros (Hyperparameter tuning) - RandomizedSearchCV()\n",
        "# ================================================================================\n",
        "\n",
        "param_grid = {'solver': ['lsqr', 'eigen'],\n",
        "              'tol' : [0.0001, 0.0002, 0.0003]}\n",
        "\n",
        "# Create the RandomizedSearchCV object\n",
        "rs_u243_lda = RandomizedSearchCV(estimator = model_lda, param_distributions = param_grid,\n",
        "                            scoring = metrics, cv = cv, refit = 'accuracy',\n",
        "                            verbose = 3, return_train_score = False, n_iter = 50)\n",
        "\n",
        "rs_u243_lda.fit(X_train_u243, y_train['Class'], groups = y_train['Sample'])\n",
        "\n",
        "# Salvar modelo\n",
        "pickle.dump(rs_u243_lda, open(f'./Output/Models/rs_u243_lda.pickle', \"wb\"))\n",
        "joblib.dump(rs_u243_lda, open(f'./Output/Models/rs_u243_lda.joblib', \"wb\"))\n",
        "\n",
        "print(f'Os melhores parâmetros foram: {rs_u243_lda.best_params_}')\n",
        "print(f'A melhor acurácia foi de: {rs_u243_lda.best_score_:.4f}')\n",
        "print(f'O melhor modelo foi: {rs_u243_lda.best_estimator_}')"
      ]
    },
    {
      "cell_type": "code",
      "execution_count": null,
      "metadata": {
        "id": "V6nz3S3tPBqH"
      },
      "outputs": [],
      "source": [
        "# ================================================================================\n",
        "# Desempenho na Validação Cruzada (Stratified Group 5-fold cross-validation)\n",
        "# ================================================================================\n",
        "#rs_svc = pickle.load(open('./Output/Models/rs_svc.pickle', \"rb\"))\n",
        "res1_rs_u243_lda = pd.DataFrame(rs_u243_lda.cv_results_).filter(regex = r'(params|test)').sort_values(by=[\"rank_test_accuracy\"])\n",
        "\n",
        "accf1_rs_u243_lda = res1_rs_u243_lda.iloc[0].filter(regex = r'(accuracy|f1)').filter(regex = 'split')\n",
        "min_acc_rs_u243_lda = accf1_rs_u162_lda.filter(regex = 'accuracy').min()\n",
        "max_acc_rs_u243_lda = accf1_rs_u162_lda.filter(regex = 'accuracy').max()\n",
        "min_f1_rs_u243_lda = accf1_rs_u162_lda.filter(regex = 'f1').min()\n",
        "max_f1_rs_u243_lda = accf1_rs_u162_lda.filter(regex = 'f1').max()\n",
        "\n",
        "print(f'Acurácia min: {min_acc_rs_u243_lda:.6f}')\n",
        "print(f'Acurácia max: {max_acc_rs_u243_lda:.6f}')\n",
        "print(f'F1 min: {min_f1_rs_u243_lda:.6f}')\n",
        "print(f'F1 max: {max_f1_rs_u243_lda:.6f}')\n",
        "\n",
        "res2_rs_u243_lda = res1_rs_u243_lda.filter(regex = r'(mean|std|params)')\n",
        "display(res2_rs_u243_lda.iloc[0])\n"
      ]
    },
    {
      "cell_type": "code",
      "execution_count": null,
      "metadata": {
        "id": "AO1M4aifPBqH"
      },
      "outputs": [],
      "source": [
        "# ================================================================================\n",
        "# Matriz de Confusão - Validação Cruzada\n",
        "# ================================================================================\n",
        "cm_cv(rs_u243_lda, X_train_u243, y_train['Class'], y_train['Sample'], name = 'rs_u243_lda')"
      ]
    },
    {
      "cell_type": "code",
      "execution_count": null,
      "metadata": {
        "id": "egSjUNZ1PBqH"
      },
      "outputs": [],
      "source": [
        "# ================================================================================\n",
        "# Desempenho no conjunto de teste\n",
        "# ================================================================================\n",
        "y_pred_rs_u243_lda = rs_u243_lda.predict(X_test_u243)\n",
        "acc_test_rs_u243_lda = accuracy_score(y_test[\"Class\"], y_pred_rs_u243_lda)\n",
        "f1_rs_u243_lda = f1_score(y_test[\"Class\"], y_pred_rs_u243_lda, average = 'weighted')\n",
        "print(f\"Best LDA Accuracy: {acc_test_rs_u243_lda:.2f}\")\n",
        "print(f\"Best LDA F1: {f1_rs_u243_lda:.6f}\")"
      ]
    },
    {
      "cell_type": "code",
      "execution_count": null,
      "metadata": {
        "id": "MGDJZf95PBqI"
      },
      "outputs": [],
      "source": [
        "# ================================================================================\n",
        "# Matriz de Confusão - conjunto de teste (n = 566)\n",
        "# ================================================================================\n",
        "cm_rs_u243_lda = confusion_matrix(y_test['Class'], y_pred_rs_u243_lda)\n",
        "disp_rs_u243_lda = ConfusionMatrixDisplay(confusion_matrix = cm_rs_u243_lda, display_labels = rs_u243_lda.classes_)\n",
        "disp_rs_u243_lda.plot(cmap = 'Blues', xticks_rotation = 90)\n",
        "disp_rs_u243_lda.ax_.set_xlabel('Predito', fontsize=10, style='normal', fontweight = 'bold')\n",
        "disp_rs_u243_lda.ax_.set_ylabel(\"Observado\", fontsize=10, style='normal', fontweight = 'bold')\n",
        "disp_rs_u243_lda.ax_.xaxis.set_tick_params(labelsize=10)\n",
        "disp_rs_u243_lda.ax_.yaxis.set_tick_params(labelsize=10)\n",
        "plt.yticks(style='italic')\n",
        "plt.xticks(style='italic')\n",
        "\n",
        "plt.savefig(f'./Output/CM/cm_teste_u243_lda', dpi = 600, bbox_inches='tight')\n",
        "plt.show()"
      ]
    },
    {
      "cell_type": "code",
      "execution_count": null,
      "metadata": {
        "id": "LpJYQShqPBqI"
      },
      "outputs": [],
      "source": [
        "# ================================================================================\n",
        "# Relatório de classificação (Conjunto de teste)\n",
        "# ================================================================================\n",
        "print(classification_report(y_test['Class'], y_pred_rs_u243_lda, target_names= rs_u243_lda.classes_))"
      ]
    },
    {
      "cell_type": "markdown",
      "metadata": {
        "id": "c7bDu8x5RUwu"
      },
      "source": [
        "#### **Modelo C4**: Usando features LBP Uniforme (Todos)"
      ]
    },
    {
      "cell_type": "code",
      "execution_count": null,
      "metadata": {
        "id": "NFX9pXzcRh_5"
      },
      "outputs": [],
      "source": [
        "# ================================================================================\n",
        "# Ajuste de Hiperparâmetros (Hyperparameter tuning) - RandomizedSearchCV()\n",
        "# ================================================================================\n",
        "\n",
        "param_grid = {'solver': ['lsqr', 'eigen'],\n",
        "              'tol' : [0.0001, 0.0002, 0.0003]}\n",
        "\n",
        "# Create the RandomizedSearchCV object\n",
        "rs_uni_lda = RandomizedSearchCV(estimator = model_lda, param_distributions = param_grid,\n",
        "                            scoring = metrics, cv = cv, refit = 'accuracy',\n",
        "                            verbose = 3, return_train_score = False, n_iter = 50)\n",
        "\n",
        "rs_uni_lda.fit(X_train_u, y_train['Class'], groups = y_train['Sample'])\n",
        "\n",
        "# Salvar modelo\n",
        "pickle.dump(rs_uni_lda, open(f'./Output/Models/rs_uni_lda.pickle', \"wb\"))\n",
        "joblib.dump(rs_uni_lda, open(f'./Output/Models/rs_uni_lda.joblib', \"wb\"))\n",
        "\n",
        "print(f'Os melhores parâmetros foram: {rs_uni_lda.best_params_}')\n",
        "print(f'A melhor acurácia foi de: {rs_uni_lda.best_score_:.4f}')\n",
        "print(f'O melhor modelo foi: {rs_uni_lda.best_estimator_}')"
      ]
    },
    {
      "cell_type": "code",
      "execution_count": null,
      "metadata": {
        "id": "IZ0z29cyRh_5"
      },
      "outputs": [],
      "source": [
        "# ================================================================================\n",
        "# Desempenho na Validação Cruzada (Stratified Group 5-fold cross-validation)\n",
        "# ================================================================================\n",
        "#rs_svc = pickle.load(open('./Output/Models/rs_svc.pickle', \"rb\"))\n",
        "res1_rs_uni_lda = pd.DataFrame(rs_uni_lda.cv_results_).filter(regex = r'(params|test)').sort_values(by=[\"rank_test_accuracy\"])\n",
        "\n",
        "accf1_rs_uni_lda = res1_rs_uni_lda.iloc[0].filter(regex = r'(accuracy|f1)').filter(regex = 'split')\n",
        "min_acc_rs_uni_lda = accf1_rs_uni_lda.filter(regex = 'accuracy').min()\n",
        "max_acc_rs_uni_lda = accf1_rs_uni_lda.filter(regex = 'accuracy').max()\n",
        "min_f1_rs_uni_lda = accf1_rs_uni_lda.filter(regex = 'f1').min()\n",
        "max_f1_rs_uni_lda = accf1_rs_uni_lda.filter(regex = 'f1').max()\n",
        "\n",
        "print(f'Acurácia min: {min_acc_rs_uni_lda:.6f}')\n",
        "print(f'Acurácia max: {max_acc_rs_uni_lda:.6f}')\n",
        "print(f'F1 min: {min_f1_rs_uni_lda:.6f}')\n",
        "print(f'F1 max: {max_f1_rs_uni_lda:.6f}')\n",
        "\n",
        "res2_rs_uni_lda = res1_rs_uni_lda.filter(regex = r'(mean|std|params)')\n",
        "display(res2_rs_uni_lda.iloc[0])"
      ]
    },
    {
      "cell_type": "code",
      "execution_count": null,
      "metadata": {
        "id": "UkCEudp9Rh_6"
      },
      "outputs": [],
      "source": [
        "# ================================================================================\n",
        "# Matriz de Confusão - Validação Cruzada\n",
        "# ================================================================================\n",
        "cm_cv(rs_uni_lda, X_train_u, y_train['Class'], y_train['Sample'], name = 'rs_uni_lda')"
      ]
    },
    {
      "cell_type": "code",
      "execution_count": null,
      "metadata": {
        "id": "NjrMcjrdRh_6"
      },
      "outputs": [],
      "source": [
        "# ================================================================================\n",
        "# Desempenho no conjunto de teste\n",
        "# ================================================================================\n",
        "y_pred_rs_uni_lda = rs_uni_lda.predict(X_test_u)\n",
        "acc_test_rs_uni_lda = accuracy_score(y_test[\"Class\"], y_pred_rs_uni_lda)\n",
        "f1_rs_uni_lda = f1_score(y_test[\"Class\"], y_pred_rs_uni_lda, average = 'weighted')\n",
        "print(f\"Best LDA Accuracy: {acc_test_rs_uni_lda:.2f}\")\n",
        "print(f\"Best LDA F1: {f1_rs_uni_lda:.6f}\")"
      ]
    },
    {
      "cell_type": "code",
      "execution_count": null,
      "metadata": {
        "id": "GNoGTQHkRh_6"
      },
      "outputs": [],
      "source": [
        "# ================================================================================\n",
        "# Matriz de Confusão - conjunto de teste (n = 566)\n",
        "# ================================================================================\n",
        "cm_rs_uni_lda = confusion_matrix(y_test['Class'], y_pred_rs_uni_lda)\n",
        "disp_rs_uni_lda = ConfusionMatrixDisplay(confusion_matrix = cm_rs_uni_lda, display_labels = rs_uni_lda.classes_)\n",
        "disp_rs_uni_lda.plot(cmap = 'Blues', xticks_rotation = 90)\n",
        "disp_rs_uni_lda.ax_.set_xlabel('Predito', fontsize=10, style='normal', fontweight = 'bold')\n",
        "disp_rs_uni_lda.ax_.set_ylabel(\"Observado\", fontsize=10, style='normal', fontweight = 'bold')\n",
        "disp_rs_uni_lda.ax_.xaxis.set_tick_params(labelsize=10)\n",
        "disp_rs_uni_lda.ax_.yaxis.set_tick_params(labelsize=10)\n",
        "plt.yticks(style='italic')\n",
        "plt.xticks(style='italic')\n",
        "\n",
        "plt.savefig(f'./Output/CM/cm_teste_uni_lda', dpi = 600, bbox_inches='tight')\n",
        "plt.show()"
      ]
    },
    {
      "cell_type": "code",
      "execution_count": null,
      "metadata": {
        "id": "OomU1g9NRh_6"
      },
      "outputs": [],
      "source": [
        "# ================================================================================\n",
        "# Relatório de classificação (Conjunto de teste)\n",
        "# ================================================================================\n",
        "print(classification_report(y_test['Class'], y_pred_rs_uni_lda, target_names= rs_uni_lda.classes_))"
      ]
    },
    {
      "cell_type": "markdown",
      "metadata": {
        "id": "YQkDlGgxU-Px"
      },
      "source": [
        "#### **Modelo C5**: Usando features LBP Uniforme Não Invariante (P = 8, R = 1)"
      ]
    },
    {
      "cell_type": "code",
      "execution_count": null,
      "metadata": {
        "id": "ZsprP7gSU-Px"
      },
      "outputs": [],
      "source": [
        "# ================================================================================\n",
        "# Ajuste de Hiperparâmetros (Hyperparameter tuning) - RandomizedSearchCV()\n",
        "# ================================================================================\n",
        "\n",
        "param_grid = {'solver': ['lsqr', 'eigen'],\n",
        "              'tol' : [0.0001, 0.0002, 0.0003]}\n",
        "\n",
        "# Create the RandomizedSearchCV object\n",
        "rs_nri81_lda = RandomizedSearchCV(estimator = model_lda, param_distributions = param_grid,\n",
        "                            scoring = metrics, cv = cv, refit = 'accuracy',\n",
        "                            verbose = 3, return_train_score = False, n_iter = 50)\n",
        "\n",
        "rs_nri81_lda.fit(X_train_nri81, y_train['Class'], groups = y_train['Sample'])\n",
        "\n",
        "# Salvar modelo\n",
        "pickle.dump(rs_nri81_lda, open(f'./Output/Models/rs_nri81_lda.pickle', \"wb\"))\n",
        "joblib.dump(rs_nri81_lda, open(f'./Output/Models/rs_nri81_lda.joblib', \"wb\"))\n",
        "\n",
        "print(f'Os melhores parâmetros foram: {rs_nri81_lda.best_params_}')\n",
        "print(f'A melhor acurácia foi de: {rs_nri81_lda.best_score_:.4f}')\n",
        "print(f'O melhor modelo foi: {rs_nri81_lda.best_estimator_}')"
      ]
    },
    {
      "cell_type": "code",
      "execution_count": null,
      "metadata": {
        "id": "m38ggXHuU-Py"
      },
      "outputs": [],
      "source": [
        "# ================================================================================\n",
        "# Desempenho na Validação Cruzada (Stratified Group 5-fold cross-validation)\n",
        "# ================================================================================\n",
        "#rs_svc = pickle.load(open('./Output/Models/rs_svc.pickle', \"rb\"))\n",
        "res1_rs_nri81_lda = pd.DataFrame(rs_nri81_lda.cv_results_).filter(regex = r'(params|test)').sort_values(by=[\"rank_test_accuracy\"])\n",
        "\n",
        "accf1_rs_nri81_lda = res1_rs_nri81_lda.iloc[0].filter(regex = r'(accuracy|f1)').filter(regex = 'split')\n",
        "min_acc_rs_nri81_lda = accf1_rs_nri81_lda.filter(regex = 'accuracy').min()\n",
        "max_acc_rs_nri81_lda = accf1_rs_nri81_lda.filter(regex = 'accuracy').max()\n",
        "min_f1_rs_nri81_lda = accf1_rs_nri81_lda.filter(regex = 'f1').min()\n",
        "max_f1_rs_nri81_lda = accf1_rs_nri81_lda.filter(regex = 'f1').max()\n",
        "\n",
        "print(f'Acurácia min: {min_acc_rs_nri81_lda:.6f}')\n",
        "print(f'Acurácia max: {max_acc_rs_nri81_lda:.6f}')\n",
        "print(f'F1 min: {min_f1_rs_nri81_lda:.6f}')\n",
        "print(f'F1 max: {max_f1_rs_nri81_lda:.6f}')\n",
        "\n",
        "res2_rs_nri81_lda = res1_rs_nri81_lda.filter(regex = r'(mean|std|params)')\n",
        "display(res2_rs_nri81_lda.iloc[0])\n"
      ]
    },
    {
      "cell_type": "code",
      "execution_count": null,
      "metadata": {
        "id": "Lnb0Q_ryU-Py"
      },
      "outputs": [],
      "source": [
        "# ================================================================================\n",
        "# Matriz de Confusão - Validação Cruzada\n",
        "# ================================================================================\n",
        "cm_cv(rs_nri81_lda, X_train_nri81, y_train['Class'], y_train['Sample'], name = 'rs_nri81_lda')"
      ]
    },
    {
      "cell_type": "code",
      "execution_count": null,
      "metadata": {
        "id": "ti0QncSuU-Py"
      },
      "outputs": [],
      "source": [
        "# ================================================================================\n",
        "# Desempenho no conjunto de teste\n",
        "# ================================================================================\n",
        "y_pred_rs_nri81_lda = rs_nri81_lda.predict(X_test_nri81)\n",
        "acc_test_rs_nri81_lda = accuracy_score(y_test[\"Class\"], y_pred_rs_nri81_lda)\n",
        "f1_rs_nri81_lda = f1_score(y_test[\"Class\"], y_pred_rs_nri81_lda, average = 'weighted')\n",
        "print(f\"Best LDA Accuracy: {acc_test_rs_nri81_lda:.2f}\")\n",
        "print(f\"Best LDA F1: {f1_rs_nri81_lda:.6f}\")"
      ]
    },
    {
      "cell_type": "code",
      "execution_count": null,
      "metadata": {
        "id": "w6gaSacBU-Pz"
      },
      "outputs": [],
      "source": [
        "# ================================================================================\n",
        "# Matriz de Confusão - conjunto de teste (n = 566)\n",
        "# ================================================================================\n",
        "cm_rs_nri81_lda = confusion_matrix(y_test['Class'], y_pred_rs_nri81_lda)\n",
        "disp_rs_nri81_lda = ConfusionMatrixDisplay(confusion_matrix = cm_rs_nri81_lda, display_labels = rs_nri81_lda.classes_)\n",
        "disp_rs_nri81_lda.plot(cmap = 'Blues', xticks_rotation = 90)\n",
        "disp_rs_nri81_lda.ax_.set_xlabel('Predito', fontsize=10, style='normal', fontweight = 'bold')\n",
        "disp_rs_nri81_lda.ax_.set_ylabel(\"Observado\", fontsize=10, style='normal', fontweight = 'bold')\n",
        "disp_rs_nri81_lda.ax_.xaxis.set_tick_params(labelsize=10)\n",
        "disp_rs_nri81_lda.ax_.yaxis.set_tick_params(labelsize=10)\n",
        "plt.yticks(style='italic')\n",
        "plt.xticks(style='italic')\n",
        "\n",
        "plt.savefig(f'./Output/CM/cm_teste_nri81_lda', dpi = 600, bbox_inches='tight')\n",
        "plt.show()"
      ]
    },
    {
      "cell_type": "code",
      "execution_count": null,
      "metadata": {
        "id": "6_q2ESxfU-Pz"
      },
      "outputs": [],
      "source": [
        "# ================================================================================\n",
        "# Relatório de classificação (Conjunto de teste)\n",
        "# ================================================================================\n",
        "print(classification_report(y_test['Class'], y_pred_rs_nri81_lda, target_names= rs_nri81_lda.classes_))"
      ]
    },
    {
      "cell_type": "markdown",
      "metadata": {
        "id": "OByZPoLZa4U9"
      },
      "source": [
        "#### **Modelo C6**: Usando features LBP Uniforme Não Invariante (P = 16, R = 2)"
      ]
    },
    {
      "cell_type": "code",
      "execution_count": null,
      "metadata": {
        "id": "3gg-9_F4a_VZ"
      },
      "outputs": [],
      "source": [
        "# ================================================================================\n",
        "# Ajuste de Hiperparâmetros (Hyperparameter tuning) - RandomizedSearchCV()\n",
        "# ================================================================================\n",
        "\n",
        "param_grid = {'solver': ['lsqr', 'eigen'],\n",
        "              'tol' : [0.0001, 0.0002, 0.0003]}\n",
        "\n",
        "# Create the RandomizedSearchCV object\n",
        "rs_nri162_lda = RandomizedSearchCV(estimator = model_lda, param_distributions = param_grid,\n",
        "                            scoring = metrics, cv = cv, refit = 'accuracy',\n",
        "                            verbose = 3, return_train_score = False, n_iter = 50)\n",
        "\n",
        "rs_nri162_lda.fit(X_train_nri162, y_train['Class'], groups = y_train['Sample'])\n",
        "\n",
        "# Salvar modelo\n",
        "pickle.dump(rs_nri162_lda, open(f'./Output/Models/rs_nri162_lda.pickle', \"wb\"))\n",
        "joblib.dump(rs_nri162_lda, open(f'./Output/Models/rs_nri162_lda.joblib', \"wb\"))\n",
        "\n",
        "print(f'Os melhores parâmetros foram: {rs_nri162_lda.best_params_}')\n",
        "print(f'A melhor acurácia foi de: {rs_nri162_lda.best_score_:.4f}')\n",
        "print(f'O melhor modelo foi: {rs_nri162_lda.best_estimator_}')"
      ]
    },
    {
      "cell_type": "code",
      "execution_count": null,
      "metadata": {
        "id": "Xf8CJ9dva_VZ"
      },
      "outputs": [],
      "source": [
        "# ================================================================================\n",
        "# Desempenho na Validação Cruzada (Stratified Group 5-fold cross-validation)\n",
        "# ================================================================================\n",
        "#rs_svc = pickle.load(open('./Output/Models/rs_svc.pickle', \"rb\"))\n",
        "res1_rs_nri162_lda = pd.DataFrame(rs_nri162_lda.cv_results_).filter(regex = r'(params|test)').sort_values(by=[\"rank_test_accuracy\"])\n",
        "\n",
        "accf1_rs_nri162_lda = res1_rs_nri162_lda.iloc[0].filter(regex = r'(accuracy|f1)').filter(regex = 'split')\n",
        "min_acc_rs_nri162_lda = accf1_rs_nri162_lda.filter(regex = 'accuracy').min()\n",
        "max_acc_rs_nri162_lda = accf1_rs_nri162_lda.filter(regex = 'accuracy').max()\n",
        "min_f1_rs_nri162_lda = accf1_rs_nri162_lda.filter(regex = 'f1').min()\n",
        "max_f1_rs_nri162_lda = accf1_rs_nri162_lda.filter(regex = 'f1').max()\n",
        "\n",
        "print(f'Acurácia min: {min_acc_rs_nri162_lda:.6f}')\n",
        "print(f'Acurácia max: {max_acc_rs_nri162_lda:.6f}')\n",
        "print(f'F1 min: {min_f1_rs_nri162_lda:.6f}')\n",
        "print(f'F1 max: {max_f1_rs_nri162_lda:.6f}')\n",
        "\n",
        "res2_rs_nri162_lda = res1_rs_nri162_lda.filter(regex = r'(mean|std|params)')\n",
        "display(res2_rs_nri162_lda.iloc[0])\n"
      ]
    },
    {
      "cell_type": "code",
      "execution_count": null,
      "metadata": {
        "id": "EwAFE49Ba_Va"
      },
      "outputs": [],
      "source": [
        "# ================================================================================\n",
        "# Matriz de Confusão - Validação Cruzada\n",
        "# ================================================================================\n",
        "cm_cv(rs_nri162_lda, X_train_nri162, y_train['Class'], y_train['Sample'], name = 'rs_nri162_lda')"
      ]
    },
    {
      "cell_type": "code",
      "execution_count": null,
      "metadata": {
        "id": "ANt585D7a_Va"
      },
      "outputs": [],
      "source": [
        "# ================================================================================\n",
        "# Desempenho no conjunto de teste\n",
        "# ================================================================================\n",
        "y_pred_rs_nri162_lda = rs_nri162_lda.predict(X_test_nri162)\n",
        "acc_test_rs_nri162_lda = accuracy_score(y_test[\"Class\"], y_pred_rs_nri162_lda)\n",
        "f1_rs_nri162_lda = f1_score(y_test[\"Class\"], y_pred_rs_nri162_lda, average = 'weighted')\n",
        "print(f\"Best LDA Accuracy: {acc_test_rs_nri162_lda:.2f}\")\n",
        "print(f\"Best LDA F1: {f1_rs_nri162_lda:.6f}\")"
      ]
    },
    {
      "cell_type": "code",
      "execution_count": null,
      "metadata": {
        "id": "ubRCUWfXa_Va"
      },
      "outputs": [],
      "source": [
        "# ================================================================================\n",
        "# Matriz de Confusão - conjunto de teste (n = 566)\n",
        "# ================================================================================\n",
        "cm_rs_nri162_lda = confusion_matrix(y_test['Class'], y_pred_rs_nri162_lda)\n",
        "disp_rs_nri162_lda = ConfusionMatrixDisplay(confusion_matrix = cm_rs_nri162_lda, display_labels = rs_nri162_lda.classes_)\n",
        "disp_rs_nri162_lda.plot(cmap = 'Blues', xticks_rotation = 90)\n",
        "disp_rs_nri162_lda.ax_.set_xlabel('Predito', fontsize=10, style='normal', fontweight = 'bold')\n",
        "disp_rs_nri162_lda.ax_.set_ylabel(\"Observado\", fontsize=10, style='normal', fontweight = 'bold')\n",
        "disp_rs_nri162_lda.ax_.xaxis.set_tick_params(labelsize=10)\n",
        "disp_rs_nri162_lda.ax_.yaxis.set_tick_params(labelsize=10)\n",
        "plt.yticks(style='italic')\n",
        "plt.xticks(style='italic')\n",
        "\n",
        "plt.savefig(f'./Output/CM/cm_teste_nri162_lda', dpi = 600, bbox_inches='tight')\n",
        "plt.show()"
      ]
    },
    {
      "cell_type": "code",
      "execution_count": null,
      "metadata": {
        "id": "-e0WT5DMa_Va"
      },
      "outputs": [],
      "source": [
        "# ================================================================================\n",
        "# Relatório de classificação (Conjunto de teste)\n",
        "# ================================================================================\n",
        "print(classification_report(y_test['Class'], y_pred_rs_nri162_lda, target_names= rs_nri162_lda.classes_))"
      ]
    },
    {
      "cell_type": "markdown",
      "metadata": {
        "id": "D0EFBfVmdxI5"
      },
      "source": [
        "#### **Modelo C7**: Usando features LBP Uniforme Não Invariante (P = 24, R = 3)"
      ]
    },
    {
      "cell_type": "code",
      "execution_count": null,
      "metadata": {
        "id": "NvgpI8zMdxJA"
      },
      "outputs": [],
      "source": [
        "# ================================================================================\n",
        "# Ajuste de Hiperparâmetros (Hyperparameter tuning) - RandomizedSearchCV()\n",
        "# ================================================================================\n",
        "\n",
        "param_grid = {'solver': ['lsqr', 'eigen'],\n",
        "              'tol' : [0.0001, 0.0002, 0.0003]}\n",
        "\n",
        "# Create the RandomizedSearchCV object\n",
        "rs_nri243_lda = RandomizedSearchCV(estimator = model_lda, param_distributions = param_grid,\n",
        "                            scoring = metrics, cv = cv, refit = 'accuracy',\n",
        "                            verbose = 3, return_train_score = False, n_iter = 50)\n",
        "\n",
        "rs_nri243_lda.fit(X_train_nri243, y_train['Class'], groups = y_train['Sample'])\n",
        "\n",
        "# Salvar modelo\n",
        "pickle.dump(rs_nri243_lda, open(f'./Output/Models/rs_nri243_lda.pickle', \"wb\"))\n",
        "joblib.dump(rs_nri243_lda, open(f'./Output/Models/rs_nri243_lda.joblib', \"wb\"))\n",
        "\n",
        "print(f'Os melhores parâmetros foram: {rs_nri243_lda.best_params_}')\n",
        "print(f'A melhor acurácia foi de: {rs_nri243_lda.best_score_:.4f}')\n",
        "print(f'O melhor modelo foi: {rs_nri243_lda.best_estimator_}')"
      ]
    },
    {
      "cell_type": "code",
      "execution_count": null,
      "metadata": {
        "id": "PQ5QW8OhdxJA"
      },
      "outputs": [],
      "source": [
        "# ================================================================================\n",
        "# Desempenho na Validação Cruzada (Stratified Group 5-fold cross-validation)\n",
        "# ================================================================================\n",
        "#rs_svc = pickle.load(open('./Output/Models/rs_svc.pickle', \"rb\"))\n",
        "res1_rs_nri243_lda = pd.DataFrame(rs_nri243_lda.cv_results_).filter(regex = r'(params|test)').sort_values(by=[\"rank_test_accuracy\"])\n",
        "\n",
        "accf1_rs_nri243_lda = res1_rs_nri243_lda.iloc[0].filter(regex = r'(accuracy|f1)').filter(regex = 'split')\n",
        "min_acc_rs_nri243_lda = accf1_rs_nri243_lda.filter(regex = 'accuracy').min()\n",
        "max_acc_rs_nri243_lda = accf1_rs_nri243_lda.filter(regex = 'accuracy').max()\n",
        "min_f1_rs_nri243_lda = accf1_rs_nri243_lda.filter(regex = 'f1').min()\n",
        "max_f1_rs_nri243_lda = accf1_rs_nri243_lda.filter(regex = 'f1').max()\n",
        "\n",
        "print(f'Acurácia min: {min_acc_rs_nri243_lda:.6f}')\n",
        "print(f'Acurácia max: {max_acc_rs_nri243_lda:.6f}')\n",
        "print(f'F1 min: {min_f1_rs_nri243_lda:.6f}')\n",
        "print(f'F1 max: {max_f1_rs_nri243_lda:.6f}')\n",
        "\n",
        "res2_rs_nri243_lda = res1_rs_nri243_lda.filter(regex = r'(mean|std|params)')\n",
        "display(res2_rs_nri243_lda.iloc[0])"
      ]
    },
    {
      "cell_type": "code",
      "execution_count": null,
      "metadata": {
        "id": "ExofG4C5dxJA"
      },
      "outputs": [],
      "source": [
        "# ================================================================================\n",
        "# Matriz de Confusão - Validação Cruzada\n",
        "# ================================================================================\n",
        "cm_cv(rs_nri243_lda, X_train_nri243, y_train['Class'], y_train['Sample'], name = 'rs_nri243_lda')"
      ]
    },
    {
      "cell_type": "code",
      "execution_count": null,
      "metadata": {
        "id": "HwVFIIigdxJB"
      },
      "outputs": [],
      "source": [
        "# ================================================================================\n",
        "# Desempenho no conjunto de teste\n",
        "# ================================================================================\n",
        "y_pred_rs_nri243_lda = rs_nri243_lda.predict(X_test_nri243)\n",
        "acc_test_rs_nri243_lda = accuracy_score(y_test[\"Class\"], y_pred_rs_nri243_lda)\n",
        "f1_rs_nri243_lda = f1_score(y_test[\"Class\"], y_pred_rs_nri243_lda, average = 'weighted')\n",
        "print(f\"Best LDA Accuracy: {acc_test_rs_nri243_lda:.2f}\")\n",
        "print(f\"Best LDA F1: {f1_rs_nri243_lda:.6f}\")"
      ]
    },
    {
      "cell_type": "code",
      "execution_count": null,
      "metadata": {
        "id": "H4oT3oKPdxJB"
      },
      "outputs": [],
      "source": [
        "# ================================================================================\n",
        "# Matriz de Confusão - conjunto de teste (n = 566)\n",
        "# ================================================================================\n",
        "cm_rs_nri243_lda = confusion_matrix(y_test['Class'], y_pred_rs_nri243_lda)\n",
        "disp_rs_nri243_lda = ConfusionMatrixDisplay(confusion_matrix = cm_rs_nri243_lda, display_labels = rs_nri243_lda.classes_)\n",
        "disp_rs_nri243_lda.plot(cmap = 'Blues', xticks_rotation = 90)\n",
        "disp_rs_nri243_lda.ax_.set_xlabel('Predito', fontsize=10, style='normal', fontweight = 'bold')\n",
        "disp_rs_nri243_lda.ax_.set_ylabel(\"Observado\", fontsize=10, style='normal', fontweight = 'bold')\n",
        "disp_rs_nri243_lda.ax_.xaxis.set_tick_params(labelsize=10)\n",
        "disp_rs_nri243_lda.ax_.yaxis.set_tick_params(labelsize=10)\n",
        "plt.yticks(style='italic')\n",
        "plt.xticks(style='italic')\n",
        "\n",
        "plt.savefig(f'./Output/CM/cm_teste_nri243_lda', dpi = 600, bbox_inches='tight')\n",
        "plt.show()"
      ]
    },
    {
      "cell_type": "code",
      "execution_count": null,
      "metadata": {
        "id": "-MiwIFA6dxJB"
      },
      "outputs": [],
      "source": [
        "# ================================================================================\n",
        "# Relatório de classificação (Conjunto de teste)\n",
        "# ================================================================================\n",
        "print(classification_report(y_test['Class'], y_pred_rs_nri243_lda, target_names= rs_nri243_lda.classes_))"
      ]
    },
    {
      "cell_type": "markdown",
      "metadata": {
        "id": "ULCe9ophfvwk"
      },
      "source": [
        "#### **Modelo C8**: Usando features LBP Uniforme Não Invariante (Todos)"
      ]
    },
    {
      "cell_type": "code",
      "execution_count": null,
      "metadata": {
        "id": "2H7EE7Z4fvwl"
      },
      "outputs": [],
      "source": [
        "# ================================================================================\n",
        "# Ajuste de Hiperparâmetros (Hyperparameter tuning) - RandomizedSearchCV()\n",
        "# ================================================================================\n",
        "\n",
        "param_grid = {'solver': ['lsqr', 'eigen'],\n",
        "              'tol' : [0.0001, 0.0002, 0.0003]}\n",
        "\n",
        "# Create the RandomizedSearchCV object\n",
        "rs_nri_lda = RandomizedSearchCV(estimator = model_lda, param_distributions = param_grid,\n",
        "                            scoring = metrics, cv = cv, refit = 'accuracy',\n",
        "                            verbose = 3, return_train_score = False, n_iter = 50)\n",
        "\n",
        "rs_nri_lda.fit(X_train_nri, y_train['Class'], groups = y_train['Sample'])\n",
        "\n",
        "# Salvar modelo\n",
        "pickle.dump(rs_nri_lda, open(f'./Output_patches/Models/rs_nri_lda.pickle', \"wb\"))\n",
        "joblib.dump(rs_nri_lda, open(f'./Output_patches/Models/rs_nri_lda.joblib', \"wb\"))\n",
        "\n",
        "print(f'Os melhores parâmetros foram: {rs_nri_lda.best_params_}')\n",
        "print(f'A melhor acurácia foi de: {rs_nri_lda.best_score_:.4f}')\n",
        "print(f'O melhor modelo foi: {rs_nri_lda.best_estimator_}')"
      ]
    },
    {
      "cell_type": "code",
      "execution_count": null,
      "metadata": {
        "id": "wcyaxtKBfvwm"
      },
      "outputs": [],
      "source": [
        "# ================================================================================\n",
        "# Desempenho na Validação Cruzada (Stratified Group 5-fold cross-validation)\n",
        "# ================================================================================\n",
        "rs_nri_lda = pickle.load(open('./Output_patches/Models/rs_nri_lda.pickle', \"rb\"))\n",
        "res1_rs_nri_lda = pd.DataFrame(rs_nri_lda.cv_results_).filter(regex = r'(params|test)').sort_values(by=[\"rank_test_accuracy\"])\n",
        "\n",
        "accf1_rs_nri_lda = res1_rs_nri_lda.iloc[0].filter(regex = r'(accuracy|f1)').filter(regex = 'split')\n",
        "min_acc_rs_nri_lda = accf1_rs_nri_lda.filter(regex = 'accuracy').min()\n",
        "max_acc_rs_nri_lda = accf1_rs_nri_lda.filter(regex = 'accuracy').max()\n",
        "min_f1_rs_nri_lda = accf1_rs_nri_lda.filter(regex = 'f1').min()\n",
        "max_f1_rs_nri_lda = accf1_rs_nri_lda.filter(regex = 'f1').max()\n",
        "\n",
        "print(f'Acurácia min: {min_acc_rs_nri_lda:.6f}')\n",
        "print(f'Acurácia max: {max_acc_rs_nri_lda:.6f}')\n",
        "print(f'F1 min: {min_f1_rs_nri_lda:.6f}')\n",
        "print(f'F1 max: {max_f1_rs_nri_lda:.6f}')\n",
        "\n",
        "res2_rs_nri_lda = res1_rs_nri_lda.filter(regex = r'(mean|std|params)')\n",
        "display(res2_rs_nri_lda.iloc[0])"
      ]
    },
    {
      "cell_type": "code",
      "execution_count": null,
      "metadata": {
        "id": "UbzMiAJ9fvwm"
      },
      "outputs": [],
      "source": [
        "# ================================================================================\n",
        "# Matriz de Confusão - Validação Cruzada\n",
        "# ================================================================================\n",
        "cm_cv(rs_nri_lda, X_train_nri, y_train['Class'], y_train['Sample'], name = 'rs_nri_lda')"
      ]
    },
    {
      "cell_type": "code",
      "execution_count": null,
      "metadata": {
        "id": "tWl1vycrfvwm"
      },
      "outputs": [],
      "source": [
        "# ================================================================================\n",
        "# Desempenho no conjunto de teste\n",
        "# ================================================================================\n",
        "y_pred_rs_nri_lda = rs_nri_lda.predict(X_test_nri)\n",
        "acc_test_rs_nri_lda = accuracy_score(y_test[\"Class\"], y_pred_rs_nri_lda)\n",
        "f1_rs_nri_lda = f1_score(y_test[\"Class\"], y_pred_rs_nri_lda, average = 'weighted')\n",
        "print(f\"Best LDA Accuracy: {acc_test_rs_nri_lda:.2f}\")\n",
        "print(f\"Best LDA F1: {f1_rs_nri_lda:.6f}\")"
      ]
    },
    {
      "cell_type": "code",
      "execution_count": null,
      "metadata": {
        "id": "rX4uRwtvfvwn"
      },
      "outputs": [],
      "source": [
        "# ================================================================================\n",
        "# Matriz de Confusão - conjunto de teste (n = 566)\n",
        "# ================================================================================\n",
        "cm_rs_nri_lda = confusion_matrix(y_test['Class'], y_pred_rs_nri_lda)\n",
        "disp_rs_nri_lda = ConfusionMatrixDisplay(confusion_matrix = cm_rs_nri_lda, display_labels = rs_nri_lda.classes_)\n",
        "disp_rs_nri_lda.plot(cmap = 'Blues', xticks_rotation = 90)\n",
        "disp_rs_nri_lda.ax_.set_xlabel('Predito', fontsize=10, style='normal', fontweight = 'bold')\n",
        "disp_rs_nri_lda.ax_.set_ylabel(\"Observado\", fontsize=10, style='normal', fontweight = 'bold')\n",
        "disp_rs_nri_lda.ax_.xaxis.set_tick_params(labelsize=10)\n",
        "disp_rs_nri_lda.ax_.yaxis.set_tick_params(labelsize=10)\n",
        "plt.yticks(style='italic')\n",
        "plt.xticks(style='italic')\n",
        "\n",
        "plt.savefig(f'./Output_patches/CM/cm_teste_nri_lda', dpi = 600, bbox_inches='tight')\n",
        "plt.show()"
      ]
    },
    {
      "cell_type": "code",
      "execution_count": null,
      "metadata": {
        "id": "xUBtLmqofvwn"
      },
      "outputs": [],
      "source": [
        "# ================================================================================\n",
        "# Relatório de classificação (Conjunto de teste)\n",
        "# ================================================================================\n",
        "print(classification_report(y_test['Class'], y_pred_rs_nri_lda, target_names= rs_nri_lda.classes_))"
      ]
    },
    {
      "cell_type": "markdown",
      "metadata": {
        "id": "2xz75ddc88kF"
      },
      "source": [
        "#### **Modelo C9**: Usando features LBP (Todos)"
      ]
    },
    {
      "cell_type": "code",
      "execution_count": null,
      "metadata": {
        "id": "TVUqD9VL88kG"
      },
      "outputs": [],
      "source": [
        "# ================================================================================\n",
        "# Ajuste de Hiperparâmetros (Hyperparameter tuning) - RandomizedSearchCV()\n",
        "# ================================================================================\n",
        "\n",
        "param_grid = {'solver': ['lsqr', 'eigen'],\n",
        "              'tol' : [0.0001, 0.0002, 0.0003]}\n",
        "\n",
        "# Create the RandomizedSearchCV object\n",
        "rs_unri_lda = RandomizedSearchCV(estimator = model_lda, param_distributions = param_grid,\n",
        "                            scoring = metrics, cv = cv, refit = 'accuracy',\n",
        "                            verbose = 3, return_train_score = False, n_iter = 50)\n",
        "\n",
        "rs_unri_lda.fit(X_train_unri, y_train['Class'], groups = y_train['Sample'])\n",
        "\n",
        "# Salvar modelo\n",
        "pickle.dump(rs_unri_lda, open(f'./Output/Models/rs_unri_lda.pickle', \"wb\"))\n",
        "joblib.dump(rs_unri_lda, open(f'./Output/Models/rs_unri_lda.joblib', \"wb\"))\n",
        "\n",
        "print(f'Os melhores parâmetros foram: {rs_unri_lda.best_params_}')\n",
        "print(f'A melhor acurácia foi de: {rs_unri_lda.best_score_:.4f}')\n",
        "print(f'O melhor modelo foi: {rs_unri_lda.best_estimator_}')"
      ]
    },
    {
      "cell_type": "code",
      "execution_count": null,
      "metadata": {
        "id": "1hupQszp88kG"
      },
      "outputs": [],
      "source": [
        "# ================================================================================\n",
        "# Desempenho na Validação Cruzada (Stratified Group 5-fold cross-validation)\n",
        "# ================================================================================\n",
        "#rs_svc = pickle.load(open('./Output/Models/rs_svc.pickle', \"rb\"))\n",
        "res1_rs_unri_lda = pd.DataFrame(rs_unri_lda.cv_results_).filter(regex = r'(params|test)').sort_values(by=[\"rank_test_accuracy\"])\n",
        "\n",
        "accf1_rs_unri_lda = res1_rs_unri_lda.iloc[0].filter(regex = r'(accuracy|f1)').filter(regex = 'split')\n",
        "min_acc_rs_unri_lda = accf1_rs_unri_lda.filter(regex = 'accuracy').min()\n",
        "max_acc_rs_unri_lda = accf1_rs_unri_lda.filter(regex = 'accuracy').max()\n",
        "min_f1_rs_unri_lda = accf1_rs_unri_lda.filter(regex = 'f1').min()\n",
        "max_f1_rs_unri_lda = accf1_rs_unri_lda.filter(regex = 'f1').max()\n",
        "\n",
        "print(f'Acurácia min: {min_acc_rs_unri_lda:.6f}')\n",
        "print(f'Acurácia max: {max_acc_rs_unri_lda:.6f}')\n",
        "print(f'F1 min: {min_f1_rs_unri_lda:.6f}')\n",
        "print(f'F1 max: {max_f1_rs_unri_lda:.6f}')\n",
        "\n",
        "res2_rs_unri_lda = res1_rs_unri_lda.filter(regex = r'(mean|std|params)')\n",
        "display(res2_rs_unri_lda.iloc[0])"
      ]
    },
    {
      "cell_type": "code",
      "execution_count": null,
      "metadata": {
        "id": "N2fqNBB988kG"
      },
      "outputs": [],
      "source": [
        "# ================================================================================\n",
        "# Matriz de Confusão - Validação Cruzada\n",
        "# ================================================================================\n",
        "cm_cv(rs_unri_lda, X_train_unri, y_train['Class'], y_train['Sample'], name = 'rs_unri_lda')"
      ]
    },
    {
      "cell_type": "code",
      "execution_count": null,
      "metadata": {
        "id": "CYMbIYBv88kH"
      },
      "outputs": [],
      "source": [
        "# ================================================================================\n",
        "# Desempenho no conjunto de teste\n",
        "# ================================================================================\n",
        "y_pred_rs_unri_lda = rs_unri_lda.predict(X_test_unri)\n",
        "acc_test_rs_unri_lda = accuracy_score(y_test[\"Class\"], y_pred_rs_unri_lda)\n",
        "f1_rs_unri_lda = f1_score(y_test[\"Class\"], y_pred_rs_unri_lda, average = 'weighted')\n",
        "print(f\"Best LDA Accuracy: {acc_test_rs_unri_lda:.2f}\")\n",
        "print(f\"Best LDA F1: {f1_rs_unri_lda:.6f}\")"
      ]
    },
    {
      "cell_type": "code",
      "execution_count": null,
      "metadata": {
        "id": "IkvjOJCr88kH"
      },
      "outputs": [],
      "source": [
        "# ================================================================================\n",
        "# Matriz de Confusão - conjunto de teste (n = 566)\n",
        "# ================================================================================\n",
        "cm_rs_unri_lda = confusion_matrix(y_test['Class'], y_pred_rs_unri_lda)\n",
        "disp_rs_unri_lda = ConfusionMatrixDisplay(confusion_matrix = cm_rs_unri_lda, display_labels = rs_unri_lda.classes_)\n",
        "disp_rs_unri_lda.plot(cmap = 'Blues', xticks_rotation = 90)\n",
        "disp_rs_unri_lda.ax_.set_xlabel('Predito', fontsize=10, style='normal', fontweight = 'bold')\n",
        "disp_rs_unri_lda.ax_.set_ylabel(\"Observado\", fontsize=10, style='normal', fontweight = 'bold')\n",
        "disp_rs_unri_lda.ax_.xaxis.set_tick_params(labelsize=10)\n",
        "disp_rs_unri_lda.ax_.yaxis.set_tick_params(labelsize=10)\n",
        "plt.yticks(style='italic')\n",
        "plt.xticks(style='italic')\n",
        "\n",
        "plt.savefig(f'./Output/CM/cm_teste_unri_lda', dpi = 600, bbox_inches='tight')\n",
        "plt.show()"
      ]
    },
    {
      "cell_type": "code",
      "execution_count": null,
      "metadata": {
        "id": "4McI-Xy_88kH"
      },
      "outputs": [],
      "source": [
        "# ================================================================================\n",
        "# Relatório de classificação (Conjunto de teste)\n",
        "# ================================================================================\n",
        "print(classification_report(y_test['Class'], y_pred_rs_unri_lda, target_names= rs_unri_lda.classes_))"
      ]
    }
  ],
  "metadata": {
    "anaconda-cloud": {},
    "colab": {
      "collapsed_sections": [
        "qPssjTKYxuiX",
        "_T4bCkxYWIRO",
        "b0w1CcyDk9gQ",
        "Ub6t6EIiqvts",
        "5Fk7FiYreEvR",
        "zOTRWhRWlUWG",
        "DjsaGYjHxCvo",
        "cGQMwve86eCF",
        "5Ya7JDI5BtZu",
        "K59mwtlx1kTh",
        "nUzgOLPh-oB2",
        "0vIACcJESvc3",
        "RO63SbJJ5kl4",
        "WWIMQP1UlBVU",
        "Qm-CRiES2Uni",
        "vtogThs0JhCz",
        "cPi7Ugqliifc",
        "TVwTghifxM_c",
        "RFWCYX0S0v3r",
        "yWuR4i-X5D3v",
        "SP4r8lRk75F2",
        "pe_KiGfDTBxO",
        "ny8j-WfC1VTj",
        "AcdmaX1lZ5P4",
        "yLkS5hglZ7k2",
        "zoL8oWSBOyjA",
        "Zl2OMpt0OyjB",
        "Vj1kUBRKOyjC",
        "M6f_DDVeOyjD",
        "ZHxoHp9GOyjE",
        "C60_yNEOOyjF",
        "rUCqtjt3OyjG",
        "s5_TYbtoxLYL",
        "saTFKlHTJMqI",
        "eeQ9NiHPM1oj",
        "rR4K-TcJPBqG",
        "c7bDu8x5RUwu",
        "YQkDlGgxU-Px",
        "OByZPoLZa4U9",
        "D0EFBfVmdxI5",
        "ULCe9ophfvwk",
        "2xz75ddc88kF"
      ],
      "machine_shape": "hm",
      "provenance": []
    },
    "kernelspec": {
      "display_name": "Python 3",
      "name": "python3"
    },
    "language_info": {
      "codemirror_mode": {
        "name": "ipython",
        "version": 3
      },
      "file_extension": ".py",
      "mimetype": "text/x-python",
      "name": "python",
      "nbconvert_exporter": "python",
      "pygments_lexer": "ipython3",
      "version": "3.12.2"
    }
  },
  "nbformat": 4,
  "nbformat_minor": 0
}